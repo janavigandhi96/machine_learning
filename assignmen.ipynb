{
  "nbformat": 4,
  "nbformat_minor": 0,
  "metadata": {
    "colab": {
      "name": "assignmen.ipynb",
      "version": "0.3.2",
      "provenance": [],
      "collapsed_sections": []
    },
    "kernelspec": {
      "name": "python3",
      "display_name": "Python 3"
    }
  },
  "cells": [
    {
      "cell_type": "markdown",
      "metadata": {
        "id": "_ojweFya66fq",
        "colab_type": "text"
      },
      "source": [
        "#prog"
      ]
    },
    {
      "cell_type": "code",
      "metadata": {
        "id": "xV_1L4_q6opC",
        "colab_type": "code",
        "colab": {}
      },
      "source": [
        "\"\"\"Al programes.\"\"\"\n",
        "\n",
        "# ***********multiplication matrix *************\n",
        "\n",
        "# a = [[1, 2, 3], [4, 5, 6],[1,2,3]]\n",
        "# b = [[7, 8], [9, 10],[11, 12]]\n",
        "# print(c)\n",
        "\n",
        "# a = [[1, 1, 1], [1, 1, 1], [1, 1, 1], [1, 1, 1]]\n",
        "# b = [[1, 0, 0], [0, 1, 0], [0 ,0, 1]]\n",
        "\n",
        "# if(len(a[0])==len(b)):\n",
        "#   m = [[0 for x in range(len(b[0]))] for y in range(len(a))]\n",
        "#   print(m)\n",
        "#   for i in range(len(a)):\n",
        "#       for j in range(len(b[0])):\n",
        "#           for k in range(len(b)):\n",
        "#               m[i][j]+=a[i][k]*b[k][j]\n",
        "#   for matrix in m:\n",
        "#       print(matrix)\n",
        "# else:\n",
        "#   print(\"rows 1 and column 2 is not matching\")\n",
        "\n",
        "# ------------------------------------------\n",
        "\n",
        "\n",
        "# ************ palidrome************\n",
        "\n",
        "# user_input = input().lower().strip()\n",
        "# if user_input[::-1] == user_input:\n",
        "#   print(\"\\n Its Palidrome\")\n",
        "# else:\n",
        "#   print(\"\\n Its not Palidrome\")\n",
        "\n",
        "\n",
        "# -----------------------------------------\n",
        "\n",
        "# ************sub palidrome************\n",
        "\n",
        "# user_input=input(\"enter string \").lower().strip()\n",
        "\n",
        "# for i in range(len(user_input)):\n",
        "#   result=''\n",
        "#   for j in range(i,len(user_input)):\n",
        "#       result+=user_input[j]\n",
        "#       if len(result) >= 2 and result==result[::-1]:\n",
        "#           print(result,\"this is palidrome\")\n",
        "\n",
        "\n",
        "# -------------------------------------------------\n",
        "\n",
        "\n",
        "# ********* determinate of matrix 2*2 *************\n",
        "\n",
        "# def det(a):\n",
        "#   result = (a[0][0] * a[1][1]) - (a[0][1]*a[1][0])\n",
        "#   print(result)\n",
        "#   return result\n",
        "# det([[2,3],[2,4]])\n",
        "\n",
        "# --------------------------------------------------\n",
        "\n",
        "# ********* determinant of matrix 3*3 *************\n",
        "# def det(l):\n",
        "#     \"\"\"Function to calculate a determinant.\"\"\"\n",
        "#     n = len(l)\n",
        "#     if (n > 2):\n",
        "#         flag = 1\n",
        "#         t = 0\n",
        "#         total = 0\n",
        "#         while t <= n - 1:\n",
        "#             d = {}\n",
        "#             t1 = 1\n",
        "#             while t1 <= n - 1:\n",
        "#                 m = 0\n",
        "#                 d[t1] = []\n",
        "#                 while m <= n - 1:\n",
        "#                     if (m == t):\n",
        "#                         pass\n",
        "#                     else:\n",
        "#                         d[t1].append(l[t1][m])  # d = {1 : [4, 5 ,6]}\n",
        "#                     m += 1\n",
        "#                 t1 += 1\n",
        "#             l1 = [d[x] for x in d]\n",
        "#             total = total + flag * (l[0][t] * det(l1))\n",
        "#             flag = flag * (-1)\n",
        "#             t += 1\n",
        "#         return total\n",
        "#     else:\n",
        "#         return (l[0][0] * l[1][1]) - (l[0][1] * l[1][0])\n",
        "\n",
        "# l = [[1, 2, 3], [4, 5, 6], [7, 8, 9]]\n",
        "# l1 = [[6, 1, 1], [1, 1, 1], [1, 1, 1]]\n",
        "\n",
        "# l2 = [[6, 1, 1], [4, -2, 5], [2, 8, 7]]\n",
        "\n",
        "# print(det(l2))\n",
        "\n",
        "\n",
        "# ------------------------------------------------------\n",
        "\n",
        "# **print number if number is greater or equal to 25****.\n",
        "\n",
        "# l=[x for x in range(1,101)]\n",
        "# print(l)\n",
        "# user_input=int(input(\"enter a number: \"))\n",
        "# if user_input >= 25:\n",
        "#   print(l[24:])\n",
        "# else:\n",
        "#   print(\"do nothing\")\n",
        "\n",
        "\n",
        "# ----------------------------------------------------------\n",
        "\n",
        "# ********* see that the multiples is in list 2 or not ********************\n",
        "\n",
        "# l1=[x*y for x in range(1,11) for y in range(1,11)]\n",
        "# l = [x for x in range(1,11)]\n",
        "# l1 = [i for i in range(11,101)]\n",
        "# l = [l[x]*l[y] for x in range(len(l)) for y in range(len(l)) if l[x]*l[y] in l1]\n",
        "# print(l)\n",
        "\n",
        "\n",
        "# ------------------------------------------------------------\n",
        "\n",
        "\n",
        "# ************ to check when a person turns what will be the year when he turns 100\n",
        "# import datetime\n",
        "# age =float (input(\"enter age: \"))\n",
        "# age=int(age)\n",
        "# name = input(\"enter name: \")\n",
        "# if age < 0:\n",
        "#   print(\"wrong value \")\n",
        "\n",
        "# else:\n",
        "#   diff = 100 - (age)\n",
        "#   current_format = datetime.datetime.now()\n",
        "#   current_year = current_format.year\n",
        "#   when_100 = diff+current_year\n",
        "#   print(when_100,\" is the year when user turns 100\")\n",
        "# ----------------------------------------------------------------\n",
        "\n",
        "\n",
        "# ************** divisor **************\n",
        "# user_input=int(input(\"enter number=\"))\n",
        "# list=[]\n",
        "# for r in range (1,user_input+1):\n",
        "#   if user_input % r  == 0:\n",
        "#       list.append(r)\n",
        "# for m in list :\n",
        "# #     print(m)\n",
        "\n",
        "\n",
        "# -----------------------------------------------\n",
        "\n",
        "\n",
        "# ************fibonacci of user's no**************\n",
        "# def fibo(user_input):\n",
        "#     \"\"\"Fibonaci series.\"\"\"\n",
        "#     if user_input < 2:\n",
        "#         return user_input\n",
        "#     else:\n",
        "#         return(fibo(user_input - 1) + fibo(user_input - 2))\n",
        "# user_input = int(input(\"enter no:\"))\n",
        "# print(\"fibonacci series\")\n",
        "# for i in range(user_input):\n",
        "#     print(fibo(i))\n",
        "\n",
        "\n",
        "#  -----------------------------------------------\n"
      ],
      "execution_count": 0,
      "outputs": []
    },
    {
      "cell_type": "code",
      "metadata": {
        "id": "od94JHpy7L1o",
        "colab_type": "code",
        "colab": {}
      },
      "source": [
        ""
      ],
      "execution_count": 0,
      "outputs": []
    },
    {
      "cell_type": "markdown",
      "metadata": {
        "id": "0UaNrtRw7lDv",
        "colab_type": "text"
      },
      "source": [
        "#files"
      ]
    },
    {
      "cell_type": "code",
      "metadata": {
        "id": "rjMtpjZa7Ly_",
        "colab_type": "code",
        "colab": {}
      },
      "source": [
        "\"\"\"Reads and writes files.\"\"\"\n",
        "import os\n",
        "import random\n",
        "import string\n",
        "from logzero import logger\n",
        "\n",
        "\n",
        "def create_file(base_path):\n",
        "    \"\"\"Function to create file.\"\"\"\n",
        "    if not os.path.exists(base_path):\n",
        "        os.makedirs(folder_path)\n",
        "        logger.info(\"new folder created\")\n",
        "\n",
        "\n",
        "def write_functions(folder_path):\n",
        "    \"\"\"Function is used to write.\"\"\"\n",
        "    items = [x for x in range(1, 11)]\n",
        "    size = 0\n",
        "    for x in items:\n",
        "        file_path = folder_path + \"/{}.file.txt\".format(x)\n",
        "        with open(file_path, \"w\")as f:\n",
        "            size = size + 24\n",
        "            r_char = ''.join([random.choice(string.ascii_letters) for n in range(size)])\n",
        "            f.write(\"{}\".format(r_char))\n",
        "    return r_char\n",
        "\n",
        "\n",
        "# def read_functions(folder_path):\n",
        "#     \"\"\"Function is used to read.\"\"\"\n",
        "#     for file in os.listdir(folder_path):\n",
        "#         file_path = os.path.join(folder_path, file)\n",
        "#         with open(file_path, 'r') as f:\n",
        "#             f_content = f.read()\n",
        "#             f_size = os.path.getsize(file_path)\n",
        "#             f_name, f_ext = os.path.splitext(f)\n",
        "#             f_srno, f_name = f_name.split('.')\n",
        "#             logger.info('{} | {} | {} | {}'.format(f_srno, f_name, f_content, f_size))\n",
        "\n",
        "\n",
        "def read_functions(folder_path):\n",
        "    \"\"\"Function to read the files.\"\"\"\n",
        "    count = 0\n",
        "    print('{} | {} | {} | {}'.format('Sr No.', 'File name', 'Content', 'Size'))\n",
        "    for file in os.listdir(folder_path):\n",
        "        count += 1\n",
        "        file_path = os.path.join(folder_path, file)\n",
        "        with open(file_path, 'r') as f:\n",
        "            f_size = os.path.getsize(file_path)\n",
        "            print('{} | {} | {} | {}'.format(count, file, f.read(), f_size))\n",
        "\n",
        "\n",
        "base_path = os.getcwd()\n",
        "folder_path = base_path + '/newfolder3'\n",
        "create_file(folder_path)\n",
        "write_functions(folder_path)\n",
        "read_functions(folder_path)\n"
      ],
      "execution_count": 0,
      "outputs": []
    },
    {
      "cell_type": "markdown",
      "metadata": {
        "id": "UQY82b62Q9kq",
        "colab_type": "text"
      },
      "source": [
        "#random"
      ]
    },
    {
      "cell_type": "code",
      "metadata": {
        "colab_type": "code",
        "id": "8HgjOZCjgO9N",
        "colab": {}
      },
      "source": [
        "\"\"\"Cowbull program.\"\"\" \n",
        "import pdb\n",
        "import random\n",
        "def cowbull(): \n",
        "  \"\"\"Cow Bull game.\"\"\"\n",
        "  user_lenght = int(input(\"enter lenght:\\t\")) \n",
        "  cow = 0 \n",
        "  bull = 0 \n",
        "  random_no = [random.randrange(0, 9) for x in range(user_lenght)] \n",
        "  print(\"enter no. of digits\") \n",
        "  guesses = [int(x) for x in input(\"enter user_lenght digit no. \\t\").strip()]\n",
        "  print(guesses) \n",
        " \n",
        "  for i in range(user_lenght): \n",
        "    if guesses[i] == random_no[i]: \n",
        "      cow += 1 \n",
        "    else: \n",
        "      bull += 1\n",
        "\n",
        "# comparing cow and bulls\n",
        "  if cow > bull:\n",
        "    print(\"you won\")\n",
        "  else:\n",
        "    print(\"you lose\")\n",
        "    print(random_no)\n",
        "cowbull()\n",
        "\n",
        "\n"
      ],
      "execution_count": 0,
      "outputs": []
    },
    {
      "cell_type": "markdown",
      "metadata": {
        "id": "iVufwNPUrCiP",
        "colab_type": "text"
      },
      "source": [
        "#employee"
      ]
    },
    {
      "cell_type": "code",
      "metadata": {
        "id": "Dik823sEekbk",
        "colab_type": "code",
        "colab": {}
      },
      "source": [
        "def employee(num):\n",
        "    \"\"\"Function of Employee class.\"\"\"\n",
        "    employees = []\n",
        "    for i in range(num):\n",
        "      emp = {'name': input(\"enter the name:\\t \"),'tenure': int(input(\"enter tenure:\\t\")),'designation': input(\"enter designation:\\t\"),'salary': int(input(\"enter salary:\\t\"))}\n",
        "      employees.append(emp)\n",
        "      print(\"\\n\")\n",
        "    user_designation=input(\"enter to check avg salary of particular designation:\")\n",
        "    total = [i['salary']  for i in employees if i['designation'] == user_designation]\n",
        "    \n",
        "    print(\"Avg salary of {} is {}\".format(user_designation, sum(total) / len (total)))\n",
        "    \n",
        "    print(\"Minimum salary of:\", min(employees, key = lambda x : x['salary']))\n",
        "    \n",
        "    print(\"maximum salary of employee\", max(employees, key=lambda x : x['salary']))\n",
        "\n",
        "employee(int(input(\"Enter the number of employees \\t\")))"
      ],
      "execution_count": 0,
      "outputs": []
    },
    {
      "cell_type": "markdown",
      "metadata": {
        "id": "ZIgXW8M5VNu9",
        "colab_type": "text"
      },
      "source": [
        "#insertion sort"
      ]
    },
    {
      "cell_type": "code",
      "metadata": {
        "id": "2_MmhITJSZyL",
        "colab_type": "code",
        "outputId": "7ae207cc-d38f-46d4-e682-bd7d6474c442",
        "colab": {
          "base_uri": "https://localhost:8080/",
          "height": 34
        }
      },
      "source": [
        "def insertion_sort(l):\n",
        "  count = 0\n",
        "  for index in range(1,len(l)):\n",
        "#     print('index {}'.format(index))\n",
        "    temp = l[index]\n",
        "    position = index - 1\n",
        "#     print('position {}'.format(position))\n",
        "    while position >=0 and temp < l[position]:\n",
        "      l[position+1] = l[position]\n",
        "      position = position - 1\n",
        "#       print('position inside while {}'.format(position))\n",
        "    l[position+1] = temp\n",
        "  return l, count\n",
        "\n",
        "print(insertion_sort([9,8,7, 6, 5, 4, 3, 2, 1]))"
      ],
      "execution_count": 0,
      "outputs": [
        {
          "output_type": "stream",
          "text": [
            "([1, 2, 3, 4, 5, 6, 7, 8, 9], 44)\n"
          ],
          "name": "stdout"
        }
      ]
    },
    {
      "cell_type": "markdown",
      "metadata": {
        "id": "viyRXEYXGCbF",
        "colab_type": "text"
      },
      "source": [
        "# employees data 2"
      ]
    },
    {
      "cell_type": "code",
      "metadata": {
        "id": "8NMeIkeFRHiZ",
        "colab_type": "code",
        "colab": {}
      },
      "source": [
        "# sort as per salary min - max \n",
        "# sort as per company\n",
        "\n",
        "\"\"\"\n",
        "[ {\"google\": {\"emp1\": {\"salary\": 1, \"designation\" : \"coder\" }, \"emp2\": {\"salary\": 1, \"designation\" : \"coder\" }, \"emp3\": {\"salary\": 1, \"designation\" : \"coder\" }} }, \n",
        "  {\"ms\": {\"emp1\": {\"salary\": 1, \"designation\" : \"coder\" }, \"emp2\": {\"salary\": 1, \"designation\" : \"coder\" }, \"emp3\": {\"salary\": 1, \"designation\" : \"coder\" }} }\n",
        "\n",
        "]\n",
        "\n",
        "\"\"\"\n",
        "d = [{'google':{'emp1': {'salary':10000, 'designation':'Coder'},'emp2': {'salary':20000, 'designation':'Tester'},'emp3': {'salary':30000, 'designation':'Developer'} } }, {'Microsoft':{'emp1': {'salary':20000, 'designation':'Hr'},'emp2': {'salary':10000, 'designation':'accountant'},'emp3': {'salary':5000, 'designation':'Clerk'} } }, {'Adobe':{'emp1': {'salary':25000, 'designation':'Project manager'},'emp2': {'salary':30000, 'designation':'Manager'},'emp3': {'salary':50000, 'designation':'M.D'} } }]\n",
        "import pprint\n",
        "\n",
        "pprint.pprint(d)\n",
        "\n",
        "\n",
        "company = {\n",
        "    'google': {},\n",
        "    'microsoft': {},\n",
        "    'adobe': {}\n",
        "    \n",
        "}\n",
        "\n"
      ],
      "execution_count": 0,
      "outputs": []
    },
    {
      "cell_type": "code",
      "metadata": {
        "id": "f9MJuphQ2Ba_",
        "colab_type": "code",
        "colab": {}
      },
      "source": [
        "import pprint\n",
        "comp_dets ={\n",
        "    'google': {\n",
        "        'emp1': {'designation': 'coder', 'salary': 50000},\n",
        "        'emp2': {'designation': 'developer', 'salary': 20000},\n",
        "        'emp3': {'designation': 'tester', 'salary': 30000}\n",
        "        }, \n",
        "    'adobe': {\n",
        "        'emp1': {'designation': 'hr', 'salary': 20000},\n",
        "        'emp2': {'designation': 'clerk', 'salary': 5000},\n",
        "        'emp3': {'designation': 'accountant', 'salary': 15000}\n",
        "          },\n",
        "    'microsoft': {\n",
        "        'emp1': {'designation': 'manager', 'salary': 60000},\n",
        "        'emp2': {'designation': 'project manager', 'salary': 55000},\n",
        "        'emp3': {'designation': 'director', 'salary': 45000}\n",
        "          }\n",
        "    }\n",
        "# pprint.pprint(comp_dets)\n",
        "# for company in comp_dets:\n",
        "#   for emp in comp_dets[company]:\n",
        "#     print(comp_dets[company][emp]['salary'], comp_dets[company][emp]['designation'])\n",
        "max_sal = max([comp_dets[c][emp]['salary'] for c in comp_dets for emp in comp_dets[c]])\n",
        "[(c , comp_dets[c][emp]) for c in comp_dets for emp in comp_dets[c] if comp_dets[c][emp]['salary'] == max_sal]\n",
        "\n",
        "\n",
        "\n",
        "expected_output1 = {\n",
        "    'adobe': {},\n",
        "    'google': {},\n",
        "    'microsft': {}\n",
        "}\n",
        "\n",
        "expected_output2 = [\n",
        "    {'emp1' : {'company': 'microsoft', 'salary': 60000}},\n",
        "    {'emp2' : {'company': 'microsoft', 'salary': 55000}},\n",
        "    {'emp1' : {'company': 'google', 'salary': 50000}},\n",
        "    \n",
        "]\n",
        "\n"
      ],
      "execution_count": 0,
      "outputs": []
    },
    {
      "cell_type": "markdown",
      "metadata": {
        "id": "D-Va8C62HPnF",
        "colab_type": "text"
      },
      "source": [
        "# sort using selection sort"
      ]
    },
    {
      "cell_type": "code",
      "metadata": {
        "id": "Ihuas9gzHVFp",
        "colab_type": "code",
        "colab": {}
      },
      "source": [
        "l = [2, 1, 3, 4, 6, 9, 1, 55, 7]\n",
        "\n",
        "for -> i:\n",
        "  select max_j = i\n",
        "  while <condition>\n",
        "    swap\n",
        "    j -= 1\n"
      ],
      "execution_count": 0,
      "outputs": []
    },
    {
      "cell_type": "markdown",
      "metadata": {
        "id": "6R10UrQU4Xi8",
        "colab_type": "text"
      },
      "source": [
        "#sort using selection sort"
      ]
    },
    {
      "cell_type": "code",
      "metadata": {
        "id": "rjPUIcM2Xx_L",
        "colab_type": "code",
        "outputId": "2d8f8dff-115c-42bf-dfd0-361a0bf7f49b",
        "colab": {
          "base_uri": "https://localhost:8080/",
          "height": 34
        }
      },
      "source": [
        "def selectionSort(alist):\n",
        "   for fillslot in range(len(alist)-1,0,-1):\n",
        "       positionOfMax=0\n",
        "       for location in range(1,fillslot+1):\n",
        "           if alist[location]>alist[positionOfMax]:\n",
        "               positionOfMax = location\n",
        "\n",
        "       temp = alist[fillslot]\n",
        "       alist[fillslot] = alist[positionOfMax]\n",
        "       alist[positionOfMax] = temp\n",
        "\n",
        "\n",
        "alist=[14,10,33,27,19,35,44]\n",
        "selectionSort(alist)\n",
        "print(alist)"
      ],
      "execution_count": 0,
      "outputs": [
        {
          "output_type": "stream",
          "text": [
            "[10, 14, 19, 27, 33, 35, 44]\n"
          ],
          "name": "stdout"
        }
      ]
    },
    {
      "cell_type": "markdown",
      "metadata": {
        "id": "TuwCGaxP2egE",
        "colab_type": "text"
      },
      "source": [
        "# sorting using gnome sorting"
      ]
    },
    {
      "cell_type": "code",
      "metadata": {
        "id": "NGI0pSpiXxwx",
        "colab_type": "code",
        "colab": {}
      },
      "source": [
        "def gnome(alist):\n",
        "\t\tfor i in range(1,len(alist)):\n",
        "\t\t\twhile i!=0 and alist[i] <= alist[i-1]:\n",
        "\t\t\t\talist[i],alist[i-1] = alist[i-1], alist[i]\n",
        "        print(alist[i],alist[i-1])\n",
        "\t\t\t\ti -=1\n",
        "alist = [34,2,10,-9,27,97]\n",
        "gnome(alist)\n",
        "print(\"Sorted list: \",alist)"
      ],
      "execution_count": 0,
      "outputs": []
    },
    {
      "cell_type": "markdown",
      "metadata": {
        "id": "eRWoHofbH_j2",
        "colab_type": "text"
      },
      "source": [
        "# sorting using gnome sorting"
      ]
    },
    {
      "cell_type": "code",
      "metadata": {
        "id": "dAUEa4kXIDZt",
        "colab_type": "code",
        "colab": {}
      },
      "source": [
        "l = [2, 1, 3, 4, 6, 9, 1, 55, 7]\n",
        "\n",
        "for i -> l:\n",
        "  assing j = i operation \n",
        "  while <condition>:\n",
        "    if <condition>:\n",
        "      j += 1\n",
        "    else:\n",
        "      j -= 1"
      ],
      "execution_count": 0,
      "outputs": []
    },
    {
      "cell_type": "markdown",
      "metadata": {
        "id": "zk9aoUysJvM-",
        "colab_type": "text"
      },
      "source": [
        "# Regular expressions"
      ]
    },
    {
      "cell_type": "code",
      "metadata": {
        "id": "cZYdBoNkJo3r",
        "colab_type": "code",
        "colab": {}
      },
      "source": [
        "s = \"\"\"\n",
        "\n",
        "My name is akson. my birthday is on 01/01/1990, my graduation day is on 01-07-12,  my wedding anniversary is on 01.01.2016, my child's birthday \n",
        "is on 01-jan-19\n",
        "\n",
        "\"\"\"\n",
        "\n",
        "extract all dates"
      ],
      "execution_count": 0,
      "outputs": []
    },
    {
      "cell_type": "markdown",
      "metadata": {
        "id": "2D0PVdZCIuKM",
        "colab_type": "text"
      },
      "source": [
        ""
      ]
    },
    {
      "cell_type": "markdown",
      "metadata": {
        "id": "JKsWMws4I7kd",
        "colab_type": "text"
      },
      "source": [
        "#regular experssion"
      ]
    },
    {
      "cell_type": "code",
      "metadata": {
        "id": "eRJP09-fItrQ",
        "colab_type": "code",
        "outputId": "ceaef82c-6111-4a1d-d1c2-21ecc0ba040f",
        "colab": {
          "base_uri": "https://localhost:8080/",
          "height": 85
        }
      },
      "source": [
        "import re\n",
        "import datetime\n",
        "from datetime import date\n",
        "s = 'my birthday is on 01/01/1990'\n",
        "s2 ='my graduation day is on 01-07-12'  \n",
        "s3 = 'my wedding anniversary is on 01.01.2016'\n",
        "s4 = ' 01-jan-19'\n",
        "match = re.findall(r'[\\d]{1,2}/[\\d]{1,2}/[\\d]{4}',s)\n",
        "match1 = re.findall(r'[\\d]{1,2}-[\\d]{1,2}-[\\d]{2}',s2)\n",
        "match2 = re.findall(r'[\\d]{1,2}.[\\d]{1,2}.[\\d]{4}',s3)\n",
        "match3 = re.findall(r\"([0-9]{1,2}\\-[a-z]{3}\\-[0-9]{1,2})\", s4)\n",
        "print(match)\n",
        "print(match1)\n",
        "print(match2)\n",
        "print(match3)"
      ],
      "execution_count": 0,
      "outputs": [
        {
          "output_type": "stream",
          "text": [
            "['01/01/1990']\n",
            "['01-07-12']\n",
            "['01.01.2016']\n",
            "['01-jan-19']\n"
          ],
          "name": "stdout"
        }
      ]
    },
    {
      "cell_type": "markdown",
      "metadata": {
        "id": "ybeb_Z_Qwg3I",
        "colab_type": "text"
      },
      "source": [
        "#employee2"
      ]
    },
    {
      "cell_type": "code",
      "metadata": {
        "id": "CJo6nqN0NnTC",
        "colab_type": "code",
        "outputId": "9d403300-b0f4-406b-fd7f-3ac9119dd1c7",
        "colab": {
          "base_uri": "https://localhost:8080/",
          "height": 377
        }
      },
      "source": [
        "def company():\n",
        "    alist = []\n",
        "    comp_dets ={\n",
        "    'google': {\n",
        "        'emp1': {'designation': 'coder', 'salary': 50000},\n",
        "        'emp2': {'designation': 'developer', 'salary': 20000},\n",
        "        'emp3': {'designation': 'tester', 'salary': 30000}\n",
        "        }, \n",
        "    'adobe': {\n",
        "        'emp1': {'designation': 'hr', 'salary': 23000},\n",
        "        'emp2': {'designation': 'clerk', 'salary': 5000},\n",
        "        'emp3': {'designation': 'accountant', 'salary': 15000}\n",
        "          },\n",
        "    'microsoft': {\n",
        "        'emp1': {'designation': 'manager', 'salary': 60000},\n",
        "        'emp2': {'designation': 'project manager', 'salary': 55000},\n",
        "        'emp3': {'designation': 'director', 'salary': 45000}\n",
        "          }\n",
        "    }\n",
        "\n",
        "\n",
        "\n",
        "    alist = [(c ,emp, comp_dets[c][emp]) for c in comp_dets for emp in comp_dets[c]]\n",
        "    print(alist)\n",
        "    print(\"\\n\")\n",
        "   \n",
        "    print(\"Name wised  company: \",sorted(comp_dets))\n",
        "    '''Maximum salary'''\n",
        "    max_sal = max([comp_dets[c][emp]['salary'] for c in comp_dets for emp in comp_dets[c]])\n",
        "    max_cmp = [(c , comp_dets[c][emp]) for c in comp_dets for emp in comp_dets[c] if comp_dets[c][emp]['salary'] == max_sal]\n",
        "    print(\"\\nmaximum salary :\",max_cmp)\n",
        "    print(\"\\n\")\n",
        "\n",
        "    '''Minimum salary'''\n",
        "    min_sal = min([comp_dets[cd][em]['salary'] for cd in comp_dets for em in comp_dets[cd]]) \n",
        "    min_cmp = [(cd , comp_dets[cd][em]) for cd in comp_dets for em in comp_dets[cd] if comp_dets[cd][em]['salary'] == min_sal]\n",
        "    print(\"Minimum salary\",min_cmp)\n",
        "    print(\"\\n\")\n",
        "    '''sorting'''\n",
        "    \n",
        "    sort_sal = sorted([comp_dets[c][emp]['salary'] for c in comp_dets for emp in comp_dets[c]],reverse=True)\n",
        "\n",
        "    \n",
        "    for i in sort_sal:\n",
        "        sort_cmp = ([(c,emp,comp_dets[c][emp]['salary']) for c in comp_dets for emp in comp_dets[c] if  comp_dets[c][emp]['salary'] == i ] )\n",
        "        print(sort_cmp)\n",
        "company()\n"
      ],
      "execution_count": 0,
      "outputs": [
        {
          "output_type": "stream",
          "text": [
            "[('google', 'emp1', {'designation': 'coder', 'salary': 50000}), ('google', 'emp2', {'designation': 'developer', 'salary': 20000}), ('google', 'emp3', {'designation': 'tester', 'salary': 30000}), ('adobe', 'emp1', {'designation': 'hr', 'salary': 23000}), ('adobe', 'emp2', {'designation': 'clerk', 'salary': 5000}), ('adobe', 'emp3', {'designation': 'accountant', 'salary': 15000}), ('microsoft', 'emp1', {'designation': 'manager', 'salary': 60000}), ('microsoft', 'emp2', {'designation': 'project manager', 'salary': 55000}), ('microsoft', 'emp3', {'designation': 'director', 'salary': 45000})]\n",
            "\n",
            "\n",
            "Name wised  company:  ['adobe', 'google', 'microsoft']\n",
            "\n",
            "maximum salary : [('microsoft', {'designation': 'manager', 'salary': 60000})]\n",
            "\n",
            "\n",
            "Minimum salary [('adobe', {'designation': 'clerk', 'salary': 5000})]\n",
            "\n",
            "\n",
            "[('microsoft', 'emp1', 60000)]\n",
            "[('microsoft', 'emp2', 55000)]\n",
            "[('google', 'emp1', 50000)]\n",
            "[('microsoft', 'emp3', 45000)]\n",
            "[('google', 'emp3', 30000)]\n",
            "[('adobe', 'emp1', 23000)]\n",
            "[('google', 'emp2', 20000)]\n",
            "[('adobe', 'emp3', 15000)]\n",
            "[('adobe', 'emp2', 5000)]\n"
          ],
          "name": "stdout"
        }
      ]
    },
    {
      "cell_type": "code",
      "metadata": {
        "id": "SeIODmlHUnCn",
        "colab_type": "code",
        "outputId": "47c4406e-3eda-40ca-e47a-6ba2ccc382e4",
        "colab": {
          "base_uri": "https://localhost:8080/",
          "height": 34
        }
      },
      "source": [
        "s1 = 'janvi'\n",
        "s2 = 'january'\n",
        "set1 = set(s1)\n",
        "set2 = set(s2)\n",
        "\n",
        "set1, set2"
      ],
      "execution_count": 0,
      "outputs": [
        {
          "output_type": "execute_result",
          "data": {
            "text/plain": [
              "({'a', 'i', 'j', 'n', 'v'}, {'a', 'j', 'n', 'r', 'u', 'y'})"
            ]
          },
          "metadata": {
            "tags": []
          },
          "execution_count": 1
        }
      ]
    },
    {
      "cell_type": "code",
      "metadata": {
        "id": "8pvr6-r_LFBG",
        "colab_type": "code",
        "colab": {}
      },
      "source": [
        "diff = set2 - set1"
      ],
      "execution_count": 0,
      "outputs": []
    },
    {
      "cell_type": "code",
      "metadata": {
        "id": "HyH9B2KxLJdz",
        "colab_type": "code",
        "colab": {}
      },
      "source": [
        "import string\n",
        "d = dict.fromkeys(string.ascii_lowercase, 0)"
      ],
      "execution_count": 0,
      "outputs": []
    },
    {
      "cell_type": "code",
      "metadata": {
        "id": "MoiWhnDeL5dr",
        "colab_type": "code",
        "outputId": "aea6f3e3-7d13-4d41-86aa-ae85bb246268",
        "colab": {
          "base_uri": "https://localhost:8080/",
          "height": 34
        }
      },
      "source": [
        "tmp = s1[:]\n",
        "tmp"
      ],
      "execution_count": 0,
      "outputs": [
        {
          "output_type": "execute_result",
          "data": {
            "text/plain": [
              "'janvi'"
            ]
          },
          "metadata": {
            "tags": []
          },
          "execution_count": 6
        }
      ]
    },
    {
      "cell_type": "code",
      "metadata": {
        "id": "v6Lnf4dfNMiT",
        "colab_type": "code",
        "outputId": "c4123a79-24b2-489b-a180-6bdecb8e733f",
        "colab": {
          "base_uri": "https://localhost:8080/",
          "height": 34
        }
      },
      "source": [
        ""
      ],
      "execution_count": 0,
      "outputs": [
        {
          "output_type": "execute_result",
          "data": {
            "text/plain": [
              "False"
            ]
          },
          "metadata": {
            "tags": []
          },
          "execution_count": 14
        }
      ]
    },
    {
      "cell_type": "code",
      "metadata": {
        "id": "F3dHJreWRrey",
        "colab_type": "code",
        "outputId": "15cca62e-3e91-4d35-e53e-d789301de0fb",
        "colab": {
          "base_uri": "https://localhost:8080/",
          "height": 34
        }
      },
      "source": [
        "# set(s2) - set(s1), len(s2) - len(t)\n",
        "t = []\n",
        "ins = 0\n",
        "for i in s2:\n",
        "  if i in s1:\n",
        "    t.append(i)\n",
        "diff = len(s2) - len(t)\n",
        "# diff, set(s2) - set(s1), s2, t\n",
        "set(s2).difference(set(s1)), set(s1).difference(set(s2)), set(s1).intersection(set(s2))"
      ],
      "execution_count": 0,
      "outputs": [
        {
          "output_type": "execute_result",
          "data": {
            "text/plain": [
              "({'r', 'u', 'y'}, {'i', 'v'}, {'a', 'j', 'n'})"
            ]
          },
          "metadata": {
            "tags": []
          },
          "execution_count": 30
        }
      ]
    },
    {
      "cell_type": "code",
      "metadata": {
        "id": "OnS32jwRLgGF",
        "colab_type": "code",
        "colab": {}
      },
      "source": [
        "# def src_dest(src, dest):\n",
        "  \n",
        "\n",
        "t = []\n",
        "ins = 0\n",
        "for i in s2:\n",
        "  if i in s1:\n",
        "    t.append(i)\n",
        "diff = len(s2) - len(t)\n",
        "for i in range(diff):\n",
        "  t.append('0')\n",
        "  ins += 1\n",
        "subs = ins - set(s2) - set(s1) \n",
        "if len(t) == len(s2):\n",
        "  for i in range(len(s2)):\n",
        "    if t[i] == s2[i]:\n",
        "      pass\n",
        "    else:\n",
        "      out = t[i]\n",
        "      t[i] = s2[i]\n",
        "      for j in range(len(s2[i:])):\n",
        "        if out == s2[i + j]:\n",
        "          t[i+j] = out\n",
        "''.join(t)"
      ],
      "execution_count": 0,
      "outputs": []
    },
    {
      "cell_type": "code",
      "metadata": {
        "id": "G-3-BFUELgms",
        "colab_type": "code",
        "outputId": "8abea3e4-93e9-4c15-be31-284280c951d5",
        "colab": {
          "base_uri": "https://localhost:8080/",
          "height": 34
        }
      },
      "source": [
        "same_t = []\n",
        "for i in range(len(tmp)):\n",
        "  if tmp[i] == s2[i]:\n",
        "    t.append(tmp[i])\n",
        "  else:\n",
        "    t.append(s2[i])\n",
        "t"
      ],
      "execution_count": 0,
      "outputs": [
        {
          "output_type": "execute_result",
          "data": {
            "text/plain": [
              "['j', 'a', 'n', 'a', 'j', 'a', 'n', 'u', 'a']"
            ]
          },
          "metadata": {
            "tags": []
          },
          "execution_count": 33
        }
      ]
    },
    {
      "cell_type": "code",
      "metadata": {
        "id": "tV0OhFw9MIK6",
        "colab_type": "code",
        "colab": {}
      },
      "source": [
        ""
      ],
      "execution_count": 0,
      "outputs": []
    },
    {
      "cell_type": "markdown",
      "metadata": {
        "id": "neYlLHnqtZV2",
        "colab_type": "text"
      },
      "source": [
        "#source to destination\n"
      ]
    },
    {
      "cell_type": "code",
      "metadata": {
        "id": "hNXZIRsltN-b",
        "colab_type": "code",
        "colab": {}
      },
      "source": [
        "def src_dest(str1,str2):\n",
        "\tset1 = set(str1)\n",
        "\tset2 = set(str2)\n",
        "\tprint(set1,set2) \n",
        "\ttemp = str1[:] \n",
        "\tt = []\n",
        "\tfor i in str2:\n",
        "\t\tif i in str2:\n",
        "\t\t\tt.append\n",
        "\t\tdiff = len(str2)-len(t)\n",
        "\tfor i in range(diff):\n",
        "\t\tt.append('0')\n",
        "\tif len(t) == len(str2):\n",
        "\t\tfor i in range(len(str2)):\n",
        "\t\t\tif t[i] ==str2[i]:\n",
        "\t\t\t\tpass\n",
        "\t\t\telse:\n",
        "\t\t\t\tout = t[i]\n",
        "\t\t\t\tt[i] = str2[i]\n",
        "\t\t\t\tfor  j in range(len(str2[i:])):\n",
        "\t\t\t\t\tif out ==str2[i+j]:\n",
        "\t\t\t\t\t\tt[i+j] =out\n",
        "\tprint(''.join(t))\n",
        "\n",
        "\tif t == str2:\n",
        "    i = len(str1)-len(set1.intersection(set2))\n",
        "    d = len(str1) - i\n",
        "    s = len(str2) -len(str1)-i\n",
        "    print(\"insertion\",i)\n",
        "    print(\"deletion\",d)\n",
        "    print(\"substitution\",s)\n",
        "\t\n",
        "src_dest('april','aprilia')"
      ],
      "execution_count": 0,
      "outputs": []
    }
  ]
}