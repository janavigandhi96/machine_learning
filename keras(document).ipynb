{
  "nbformat": 4,
  "nbformat_minor": 0,
  "metadata": {
    "colab": {
      "name": "keras(document).ipynb",
      "version": "0.3.2",
      "provenance": [],
      "collapsed_sections": [
        "99gzSGJwsyT2",
        "8donfTf_z6VZ",
        "B-HeyZDSHajh",
        "Si4OBWndNwWx"
      ]
    },
    "kernelspec": {
      "name": "python3",
      "display_name": "Python 3"
    }
  },
  "cells": [
    {
      "cell_type": "markdown",
      "metadata": {
        "id": "dYSxmDyTGj_F",
        "colab_type": "text"
      },
      "source": [
        "# 1. eg1.\n"
      ]
    },
    {
      "cell_type": "markdown",
      "metadata": {
        "id": "rsfILVVpQXgL",
        "colab_type": "text"
      },
      "source": [
        "# Load data"
      ]
    },
    {
      "cell_type": "code",
      "metadata": {
        "id": "9-VNrhn7UApu",
        "colab_type": "code",
        "colab": {}
      },
      "source": [
        "from keras.models import Sequential\n",
        "from keras.layers import Dense,Activation\n",
        "model = Sequential([\n",
        "    Dense(32, input_shape=(784,)),\n",
        "    Activation('relu'),\n",
        "    Dense(10),\n",
        "    Activation('softmax'),\n",
        "])\n",
        "model = Sequential()\n",
        "model.add(Dense(32,input_dim=784))\n",
        "model.add(Activation ('relu'))"
      ],
      "execution_count": 0,
      "outputs": []
    },
    {
      "cell_type": "code",
      "metadata": {
        "id": "vy12Zg-ghMcu",
        "colab_type": "code",
        "colab": {}
      },
      "source": [
        "model.compile(optimizer =\"rmsprop\",\n",
        "             loss ='categorical_crossentropy',\n",
        "             metrics=['accuracy'])\n",
        "model.compile(optimizer=\"rmsprop\",\n",
        "             loss='mse'),\n",
        "\n",
        "import keras.backend as K\n",
        "\n",
        "def mean_pred(y_true,y_pred):\n",
        "  return K.mean(y_pred)\n",
        "\n",
        "model.compile(optimizer= 'rmsprop',\n",
        "             loss='binary_crossentropy',\n",
        "             metrics=['accuracy',mean_pred])\n"
      ],
      "execution_count": 0,
      "outputs": []
    },
    {
      "cell_type": "markdown",
      "metadata": {
        "id": "Mvb4p8SgpiIU",
        "colab_type": "text"
      },
      "source": [
        "#training"
      ]
    },
    {
      "cell_type": "code",
      "metadata": {
        "id": "0Cg0gLVRn0ge",
        "colab_type": "code",
        "outputId": "70dae638-8a6d-4b6b-ffe5-d952258d4917",
        "colab": {
          "base_uri": "https://localhost:8080/",
          "height": 445
        }
      },
      "source": [
        "model=Sequential()\n",
        "model.add(Dense(32,activation='relu',input_dim=100))\n",
        "model.add(Dense(1,activation='sigmoid'))\n",
        "model.compile(optimizer='rmsprop',\n",
        "              loss='binary_crossentropy',\n",
        "             metrics=['accuracy'])\n",
        "import numpy as np\n",
        "data = np.random.random((1000,100))\n",
        "labels=np.random.randint(2,size=(1000,1))\n",
        "model.fit(data,labels,epochs=10,batch_size=32)"
      ],
      "execution_count": 0,
      "outputs": [
        {
          "output_type": "stream",
          "text": [
            "WARNING:tensorflow:From /usr/local/lib/python3.6/dist-packages/tensorflow/python/ops/math_ops.py:3066: to_int32 (from tensorflow.python.ops.math_ops) is deprecated and will be removed in a future version.\n",
            "Instructions for updating:\n",
            "Use tf.cast instead.\n",
            "Epoch 1/10\n",
            "1000/1000 [==============================] - 1s 652us/step - loss: 0.7118 - acc: 0.5000\n",
            "Epoch 2/10\n",
            "1000/1000 [==============================] - 0s 43us/step - loss: 0.6984 - acc: 0.5280\n",
            "Epoch 3/10\n",
            "1000/1000 [==============================] - 0s 39us/step - loss: 0.6919 - acc: 0.5550\n",
            "Epoch 4/10\n",
            "1000/1000 [==============================] - 0s 39us/step - loss: 0.6859 - acc: 0.5610\n",
            "Epoch 5/10\n",
            "1000/1000 [==============================] - 0s 44us/step - loss: 0.6775 - acc: 0.5710\n",
            "Epoch 6/10\n",
            "1000/1000 [==============================] - 0s 39us/step - loss: 0.6708 - acc: 0.5810\n",
            "Epoch 7/10\n",
            "1000/1000 [==============================] - 0s 38us/step - loss: 0.6666 - acc: 0.6040\n",
            "Epoch 8/10\n",
            "1000/1000 [==============================] - 0s 41us/step - loss: 0.6641 - acc: 0.6030\n",
            "Epoch 9/10\n",
            "1000/1000 [==============================] - 0s 41us/step - loss: 0.6601 - acc: 0.5920\n",
            "Epoch 10/10\n",
            "1000/1000 [==============================] - 0s 39us/step - loss: 0.6550 - acc: 0.6060\n"
          ],
          "name": "stdout"
        },
        {
          "output_type": "execute_result",
          "data": {
            "text/plain": [
              "<keras.callbacks.History at 0x7fd453179438>"
            ]
          },
          "metadata": {
            "tags": []
          },
          "execution_count": 7
        }
      ]
    },
    {
      "cell_type": "code",
      "metadata": {
        "id": "WxrYfurFpe-9",
        "colab_type": "code",
        "colab": {}
      },
      "source": [
        "import keras\n",
        "model=Sequential()\n",
        "model.add(Dense(32,activation='relu',input_dim=100))\n",
        "model.add(Dense(10,activation='softmax'))\n",
        "model.compile(optimizer='rmsprop',\n",
        "             loss='categorical_crossentropy',\n",
        "             metrics=['accuracy'])\n",
        "import numpy as np\n",
        "data=np.random.random((1000,100))\n",
        "labels=np.random.randint(10,size=(1000,1))\n",
        "one_hot_labels=keras.utils.to_categorical(labels,num_classes=10)\n",
        "model.fit(data, one_hot_labels,epochs=10,batch_size=32)"
      ],
      "execution_count": 0,
      "outputs": []
    },
    {
      "cell_type": "markdown",
      "metadata": {
        "id": "9T2edVvOGtjF",
        "colab_type": "text"
      },
      "source": [
        "# multilayer perceptron(mlp)for multi-class softmax classification:\n"
      ]
    },
    {
      "cell_type": "code",
      "metadata": {
        "id": "TUykf6BLuHSE",
        "colab_type": "code",
        "colab": {}
      },
      "source": [
        "import keras \n",
        "from keras.models import Sequential\n",
        "from keras.layers import Dense,Dropout,Activation\n",
        "from keras.optimizers import SGD\n",
        "\n",
        "import numpy as np\n",
        "x_train = np.random.random((1000,20))\n",
        "y_train = keras.utils.to_categorical(np.random.randint(10,size=(1000,1)),num_classes=10)\n",
        "x_test = np.random.random((1000,20))\n",
        "y_test = keras.utils.to_categorical(np.random.randint(10,size=(1000,1)),num_classes=10)\n",
        "model = Sequential()\n",
        "model.add(Dense(64,activation='relu',input_dim=20))\n",
        "model.add(Dropout(0.5))\n",
        "model.add(Dense(64,activation='relu'))\n",
        "model.add(Dropout(0.5))\n",
        "model.add(Dense(10,activation='softmax'))\n",
        "sgd = SGD(lr = 0.01,decay=1e-6,momentum=0.9,nesterov=True)\n",
        "\n",
        "model.compile(loss='categorical_crossentropy',\n",
        "             optimizer=sgd,\n",
        "             metrics=['accuracy'])\n",
        "\n",
        "\n",
        "model.fit(x_train, y_train,\n",
        "          epochs=20,\n",
        "          batch_size=128)\n",
        "score=model.evaluate(x_test,y_test,batch_size=128)"
      ],
      "execution_count": 0,
      "outputs": []
    },
    {
      "cell_type": "markdown",
      "metadata": {
        "id": "xZtlj-arPE5G",
        "colab_type": "text"
      },
      "source": [
        "#MLP for binary classification:"
      ]
    },
    {
      "cell_type": "code",
      "metadata": {
        "id": "c5sCxBYtMpPx",
        "colab_type": "code",
        "outputId": "26423152-3543-43fb-9dbb-66f14f532188",
        "colab": {
          "base_uri": "https://localhost:8080/",
          "height": 734
        }
      },
      "source": [
        "\n",
        "import numpy as np\n",
        "from keras.models import Sequential\n",
        "from keras.layers import Dense,Dropout \n",
        "x_train = np.random.random((1000,20))\n",
        "y_train = np.random.randint(2,size=(1000,1))\n",
        "x_test=np.random.random((100,20))\n",
        "y_test= np.random.randint(2,size=(100,1))\n",
        "\n",
        "model=Sequential()\n",
        "model.add(Dense(64,input_dim=20,activation ='relu'))\n",
        "model.add(Dropout(0.5))\n",
        "model.add(Dense(64,activation ='relu'))\n",
        "model.add(Dropout(0.5))\n",
        "model.add(Dense(1,activation='sigmoid'))\n",
        "model.compile(loss='binary_crossentropy',\n",
        "             optimizer='rmsprop',\n",
        "             metrics=['accuracy'])\n",
        "model.fit(x_train,y_train,\n",
        "         epochs=20,\n",
        "         batch_size=128)\n",
        "score = model.evaluate(x_test, y_test, batch_size=128)"
      ],
      "execution_count": 0,
      "outputs": [
        {
          "output_type": "stream",
          "text": [
            "Epoch 1/20\n",
            "1000/1000 [==============================] - 0s 320us/step - loss: 0.7359 - acc: 0.4930\n",
            "Epoch 2/20\n",
            "1000/1000 [==============================] - 0s 21us/step - loss: 0.7207 - acc: 0.4920\n",
            "Epoch 3/20\n",
            "1000/1000 [==============================] - 0s 20us/step - loss: 0.7022 - acc: 0.5280\n",
            "Epoch 4/20\n",
            "1000/1000 [==============================] - 0s 20us/step - loss: 0.7044 - acc: 0.4890\n",
            "Epoch 5/20\n",
            "1000/1000 [==============================] - 0s 23us/step - loss: 0.7001 - acc: 0.5000\n",
            "Epoch 6/20\n",
            "1000/1000 [==============================] - 0s 22us/step - loss: 0.6995 - acc: 0.5130\n",
            "Epoch 7/20\n",
            "1000/1000 [==============================] - 0s 20us/step - loss: 0.6995 - acc: 0.5090\n",
            "Epoch 8/20\n",
            "1000/1000 [==============================] - 0s 17us/step - loss: 0.6949 - acc: 0.5220\n",
            "Epoch 9/20\n",
            "1000/1000 [==============================] - 0s 17us/step - loss: 0.6969 - acc: 0.5220\n",
            "Epoch 10/20\n",
            "1000/1000 [==============================] - 0s 17us/step - loss: 0.6992 - acc: 0.5010\n",
            "Epoch 11/20\n",
            "1000/1000 [==============================] - 0s 18us/step - loss: 0.6971 - acc: 0.5060\n",
            "Epoch 12/20\n",
            "1000/1000 [==============================] - 0s 18us/step - loss: 0.6949 - acc: 0.5160\n",
            "Epoch 13/20\n",
            "1000/1000 [==============================] - 0s 19us/step - loss: 0.6935 - acc: 0.5280\n",
            "Epoch 14/20\n",
            "1000/1000 [==============================] - 0s 21us/step - loss: 0.6920 - acc: 0.5340\n",
            "Epoch 15/20\n",
            "1000/1000 [==============================] - 0s 17us/step - loss: 0.6955 - acc: 0.5100\n",
            "Epoch 16/20\n",
            "1000/1000 [==============================] - 0s 20us/step - loss: 0.6866 - acc: 0.5470\n",
            "Epoch 17/20\n",
            "1000/1000 [==============================] - 0s 20us/step - loss: 0.6966 - acc: 0.5080\n",
            "Epoch 18/20\n",
            "1000/1000 [==============================] - 0s 18us/step - loss: 0.6869 - acc: 0.5540\n",
            "Epoch 19/20\n",
            "1000/1000 [==============================] - 0s 18us/step - loss: 0.6885 - acc: 0.5450\n",
            "Epoch 20/20\n",
            "1000/1000 [==============================] - 0s 19us/step - loss: 0.6903 - acc: 0.5210\n",
            "100/100 [==============================] - 0s 925us/step\n"
          ],
          "name": "stdout"
        }
      ]
    },
    {
      "cell_type": "markdown",
      "metadata": {
        "id": "Q4AVp4nJTDwg",
        "colab_type": "text"
      },
      "source": [
        "#Vgg-like convent"
      ]
    },
    {
      "cell_type": "code",
      "metadata": {
        "id": "o8PJvnwzRrGU",
        "colab_type": "code",
        "colab": {}
      },
      "source": [
        "import numpy as np\n",
        "import keras\n",
        "from keras.models import Sequential\n",
        "from keras.layers import Dense,Dropout,Flatten\n",
        "from keras.layers import Conv2D,MaxPooling2D\n",
        "from keras.optimizers import SGD\n",
        "x_train = np.random.random((100,100,100,3))\n",
        "y_train=keras.utils.to_categorical(np.random.randint(10,size=(100,1)),num_classes=10)\n",
        "x_test = np.random.random((20,100,100,3))\n",
        "y_test=keras.utils.to_categorical(np.random.randint(10,size=(20,1)),num_classes=10)\n",
        "model=Sequential()\n",
        "model.add(Conv2D(32,(3,3),activation='relu',input_shape=(100,100,3)))\n",
        "model.add(Conv2D(32,(3,3),activation='relu'))\n",
        "model.add(MaxPooling2D(pool_size=(2,2)))\n",
        "model.add(Dropout(0.25))\n",
        "model.add(Flatten())\n",
        "model.add(Dense(256,activation='relu'))\n",
        "model.add(Dropout(0.5))\n",
        "model.add(Dense(10,activation='softmax'))\n",
        "sgd=SGD(lr=0.01,decay=1e-6,momentum=0.9,nesterov=True)\n",
        "model.compile(loss='categorical_crossentropy',optimizer=sgd)\n",
        "model.fit(x_train,y_train,batch_size = 32,epochs=10)\n",
        "score = model.evaluate(x_test,y_test,batch_size=32)"
      ],
      "execution_count": 0,
      "outputs": []
    },
    {
      "cell_type": "markdown",
      "metadata": {
        "id": "q7n03wulZ5HM",
        "colab_type": "text"
      },
      "source": [
        "# sequence classification with lstm"
      ]
    },
    {
      "cell_type": "code",
      "metadata": {
        "id": "5M6eC6JgZ3ii",
        "colab_type": "code",
        "colab": {}
      },
      "source": [
        "from keras.models import Sequential\n",
        "from keras.layers import Dense,Dropout\n",
        "from keras.layers import Embedding\n",
        "from keras.layers import LSTM\n",
        "x_train = np.random.random((1000,20))\n",
        "y_train = np.random.randint(2,size=(1000,1))\n",
        "x_test=np.random.random((100,20))\n",
        "y_test= np.random.randint(2,size=(100,1))\n",
        "max_features=1024\n",
        "model=Sequential()\n",
        "model.add(Embedding(max_features,output_dim=256))\n",
        "model.add(LSTM(128))\n",
        "model.add(Dropout(0.5))\n",
        "model.add(Dense(1,activation='sigmoid'))\n",
        "\n",
        "model.compile(loss='binary_crossentropy',\n",
        "             optimizer='rmsprop',\n",
        "             metrics=['accuracy'])\n",
        "model.fit(x_train,y_train,batch_size=16,epochs=10)\n",
        "score=model.evaluate(x_test,y_test,batch_size=16)"
      ],
      "execution_count": 0,
      "outputs": []
    },
    {
      "cell_type": "code",
      "metadata": {
        "id": "95dMWabLH29A",
        "colab_type": "code",
        "colab": {}
      },
      "source": [
        "x_train = np.random.random((100, 100,3))\n",
        "y_train = keras.utils.to_categorical(np.random.randint(10, size=(100, 1)), num_classes=10)\n",
        "x_test = np.random.random((20, 100,3))\n",
        "y_test = keras.utils.to_categorical(np.random.randint(10, size=(20, 1)), num_classes=10)"
      ],
      "execution_count": 0,
      "outputs": []
    },
    {
      "cell_type": "code",
      "metadata": {
        "id": "nScIsY-GIeD4",
        "colab_type": "code",
        "colab": {}
      },
      "source": [
        "x_train = np.random.random((1000, 20))\n",
        "y_train = keras.utils.to_categorical(np.random.randint(10, size=(1000, 1)), num_classes=10)\n",
        "x_test = np.random.random((100, 20))\n",
        "y_test = keras.utils.to_categorical(np.random.randint(10, size=(100, 1)), num_classes=10)"
      ],
      "execution_count": 0,
      "outputs": []
    },
    {
      "cell_type": "markdown",
      "metadata": {
        "id": "AKG6JRERIdyV",
        "colab_type": "text"
      },
      "source": [
        ""
      ]
    },
    {
      "cell_type": "code",
      "metadata": {
        "id": "_4JOSEttITo4",
        "colab_type": "code",
        "outputId": "a633ab6b-d384-497d-f7fa-022a999db36f",
        "colab": {
          "base_uri": "https://localhost:8080/",
          "height": 34
        }
      },
      "source": [
        "print(x_train.shape)"
      ],
      "execution_count": 0,
      "outputs": [
        {
          "output_type": "stream",
          "text": [
            "(100, 100, 100, 3)\n"
          ],
          "name": "stdout"
        }
      ]
    },
    {
      "cell_type": "code",
      "metadata": {
        "id": "CC3ZvlsaH6Iy",
        "colab_type": "code",
        "outputId": "4e91d6f0-9983-45ef-9e76-339b5e2c5c41",
        "colab": {
          "base_uri": "https://localhost:8080/",
          "height": 850
        }
      },
      "source": [
        "print(x_train[0],y_train[0])"
      ],
      "execution_count": 0,
      "outputs": [
        {
          "output_type": "stream",
          "text": [
            "[[[0.14577095 0.1583629  0.83336487]\n",
            "  [0.09694501 0.98220236 0.81580194]\n",
            "  [0.58213028 0.40158068 0.48358362]\n",
            "  ...\n",
            "  [0.81906615 0.12468159 0.74947733]\n",
            "  [0.15413109 0.48966742 0.01584582]\n",
            "  [0.79175993 0.07638531 0.44051239]]\n",
            "\n",
            " [[0.97756828 0.37698799 0.78559418]\n",
            "  [0.00865558 0.08241339 0.0188073 ]\n",
            "  [0.63942014 0.53588869 0.79242713]\n",
            "  ...\n",
            "  [0.33614694 0.7997734  0.1411835 ]\n",
            "  [0.67274154 0.02533132 0.75761858]\n",
            "  [0.23229469 0.14823049 0.07599462]]\n",
            "\n",
            " [[0.79457579 0.56239683 0.88165541]\n",
            "  [0.02229974 0.23768605 0.38415289]\n",
            "  [0.48822534 0.7161071  0.6030166 ]\n",
            "  ...\n",
            "  [0.7772478  0.81586107 0.52891595]\n",
            "  [0.25697809 0.40569278 0.38671044]\n",
            "  [0.43247392 0.28075756 0.26675332]]\n",
            "\n",
            " ...\n",
            "\n",
            " [[0.58187251 0.87738341 0.92535538]\n",
            "  [0.15611669 0.63624226 0.22589368]\n",
            "  [0.50282931 0.41444758 0.77222505]\n",
            "  ...\n",
            "  [0.76296833 0.94409518 0.46697298]\n",
            "  [0.19849066 0.82923784 0.90543066]\n",
            "  [0.55588316 0.49835068 0.2193427 ]]\n",
            "\n",
            " [[0.14158772 0.1966537  0.58782964]\n",
            "  [0.34305911 0.81459801 0.27798629]\n",
            "  [0.8419384  0.05959209 0.87829716]\n",
            "  ...\n",
            "  [0.47014532 0.19994105 0.1524732 ]\n",
            "  [0.48763423 0.0733915  0.69857112]\n",
            "  [0.44696565 0.65664466 0.94724084]]\n",
            "\n",
            " [[0.64192422 0.13169696 0.1362108 ]\n",
            "  [0.3720591  0.2470058  0.65913424]\n",
            "  [0.27408619 0.78246174 0.12878392]\n",
            "  ...\n",
            "  [0.53920935 0.7688379  0.94919804]\n",
            "  [0.48724909 0.76291794 0.20963018]\n",
            "  [0.60195069 0.15099926 0.14737238]]] [0. 0. 0. 0. 0. 1. 0. 0. 0. 0.]\n"
          ],
          "name": "stdout"
        }
      ]
    },
    {
      "cell_type": "markdown",
      "metadata": {
        "id": "jcNOvx9jdxlP",
        "colab_type": "text"
      },
      "source": [
        "#Sequence classification with 1D convolutions:"
      ]
    },
    {
      "cell_type": "code",
      "metadata": {
        "id": "Ky534RMhbJq9",
        "colab_type": "code",
        "outputId": "4babb75d-3b29-432d-b70a-2ef5f007d019",
        "colab": {
          "base_uri": "https://localhost:8080/",
          "height": 377
        }
      },
      "source": [
        "from keras.models import Sequential\n",
        "from keras.layers import Dense, Dropout\n",
        "from keras.layers import Embedding\n",
        "from keras.layers import Conv1D, GlobalAveragePooling1D, MaxPooling1D\n",
        "\n",
        "\n",
        "\n",
        "seq_length = 64\n",
        "\n",
        "model = Sequential()\n",
        "model.add(Conv1D(64, 3, activation='relu', input_shape=(seq_length, 100)))\n",
        "model.add(Conv1D(64, 3, activation='relu'))\n",
        "model.add(MaxPooling1D(3))\n",
        "model.add(Conv1D(128, 3, activation='relu'))\n",
        "model.add(Conv1D(128, 3, activation='relu'))\n",
        "model.add(GlobalAveragePooling1D())\n",
        "model.add(Dropout(0.5))\n",
        "model.add(Dense(1, activation='sigmoid'))\n",
        "\n",
        "model.compile(loss='binary_crossentropy',\n",
        "              optimizer='rmsprop',\n",
        "              metrics=['accuracy'])\n",
        "\n",
        "model.fit(x_train, y_train, batch_size=16, epochs=10)\n",
        "# score = model.evaluate(x_test, y_test, batch_size=16)"
      ],
      "execution_count": 0,
      "outputs": [
        {
          "output_type": "error",
          "ename": "ValueError",
          "evalue": "ignored",
          "traceback": [
            "\u001b[0;31m---------------------------------------------------------------------------\u001b[0m",
            "\u001b[0;31mValueError\u001b[0m                                Traceback (most recent call last)",
            "\u001b[0;32m<ipython-input-66-e01d512b376e>\u001b[0m in \u001b[0;36m<module>\u001b[0;34m()\u001b[0m\n\u001b[1;32m     22\u001b[0m               metrics=['accuracy'])\n\u001b[1;32m     23\u001b[0m \u001b[0;34m\u001b[0m\u001b[0m\n\u001b[0;32m---> 24\u001b[0;31m \u001b[0mmodel\u001b[0m\u001b[0;34m.\u001b[0m\u001b[0mfit\u001b[0m\u001b[0;34m(\u001b[0m\u001b[0mx_train\u001b[0m\u001b[0;34m,\u001b[0m \u001b[0my_train\u001b[0m\u001b[0;34m,\u001b[0m \u001b[0mbatch_size\u001b[0m\u001b[0;34m=\u001b[0m\u001b[0;36m16\u001b[0m\u001b[0;34m,\u001b[0m \u001b[0mepochs\u001b[0m\u001b[0;34m=\u001b[0m\u001b[0;36m10\u001b[0m\u001b[0;34m)\u001b[0m\u001b[0;34m\u001b[0m\u001b[0;34m\u001b[0m\u001b[0m\n\u001b[0m\u001b[1;32m     25\u001b[0m \u001b[0;31m# score = model.evaluate(x_test, y_test, batch_size=16)\u001b[0m\u001b[0;34m\u001b[0m\u001b[0;34m\u001b[0m\u001b[0;34m\u001b[0m\u001b[0m\n",
            "\u001b[0;32m/usr/local/lib/python3.6/dist-packages/keras/engine/training.py\u001b[0m in \u001b[0;36mfit\u001b[0;34m(self, x, y, batch_size, epochs, verbose, callbacks, validation_split, validation_data, shuffle, class_weight, sample_weight, initial_epoch, steps_per_epoch, validation_steps, **kwargs)\u001b[0m\n\u001b[1;32m    950\u001b[0m             \u001b[0msample_weight\u001b[0m\u001b[0;34m=\u001b[0m\u001b[0msample_weight\u001b[0m\u001b[0;34m,\u001b[0m\u001b[0;34m\u001b[0m\u001b[0;34m\u001b[0m\u001b[0m\n\u001b[1;32m    951\u001b[0m             \u001b[0mclass_weight\u001b[0m\u001b[0;34m=\u001b[0m\u001b[0mclass_weight\u001b[0m\u001b[0;34m,\u001b[0m\u001b[0;34m\u001b[0m\u001b[0;34m\u001b[0m\u001b[0m\n\u001b[0;32m--> 952\u001b[0;31m             batch_size=batch_size)\n\u001b[0m\u001b[1;32m    953\u001b[0m         \u001b[0;31m# Prepare validation data.\u001b[0m\u001b[0;34m\u001b[0m\u001b[0;34m\u001b[0m\u001b[0;34m\u001b[0m\u001b[0m\n\u001b[1;32m    954\u001b[0m         \u001b[0mdo_validation\u001b[0m \u001b[0;34m=\u001b[0m \u001b[0;32mFalse\u001b[0m\u001b[0;34m\u001b[0m\u001b[0;34m\u001b[0m\u001b[0m\n",
            "\u001b[0;32m/usr/local/lib/python3.6/dist-packages/keras/engine/training.py\u001b[0m in \u001b[0;36m_standardize_user_data\u001b[0;34m(self, x, y, sample_weight, class_weight, check_array_lengths, batch_size)\u001b[0m\n\u001b[1;32m    749\u001b[0m             \u001b[0mfeed_input_shapes\u001b[0m\u001b[0;34m,\u001b[0m\u001b[0;34m\u001b[0m\u001b[0;34m\u001b[0m\u001b[0m\n\u001b[1;32m    750\u001b[0m             \u001b[0mcheck_batch_axis\u001b[0m\u001b[0;34m=\u001b[0m\u001b[0;32mFalse\u001b[0m\u001b[0;34m,\u001b[0m  \u001b[0;31m# Don't enforce the batch size.\u001b[0m\u001b[0;34m\u001b[0m\u001b[0;34m\u001b[0m\u001b[0m\n\u001b[0;32m--> 751\u001b[0;31m             exception_prefix='input')\n\u001b[0m\u001b[1;32m    752\u001b[0m \u001b[0;34m\u001b[0m\u001b[0m\n\u001b[1;32m    753\u001b[0m         \u001b[0;32mif\u001b[0m \u001b[0my\u001b[0m \u001b[0;32mis\u001b[0m \u001b[0;32mnot\u001b[0m \u001b[0;32mNone\u001b[0m\u001b[0;34m:\u001b[0m\u001b[0;34m\u001b[0m\u001b[0;34m\u001b[0m\u001b[0m\n",
            "\u001b[0;32m/usr/local/lib/python3.6/dist-packages/keras/engine/training_utils.py\u001b[0m in \u001b[0;36mstandardize_input_data\u001b[0;34m(data, names, shapes, check_batch_axis, exception_prefix)\u001b[0m\n\u001b[1;32m    136\u001b[0m                             \u001b[0;34m': expected '\u001b[0m \u001b[0;34m+\u001b[0m \u001b[0mnames\u001b[0m\u001b[0;34m[\u001b[0m\u001b[0mi\u001b[0m\u001b[0;34m]\u001b[0m \u001b[0;34m+\u001b[0m \u001b[0;34m' to have shape '\u001b[0m \u001b[0;34m+\u001b[0m\u001b[0;34m\u001b[0m\u001b[0;34m\u001b[0m\u001b[0m\n\u001b[1;32m    137\u001b[0m                             \u001b[0mstr\u001b[0m\u001b[0;34m(\u001b[0m\u001b[0mshape\u001b[0m\u001b[0;34m)\u001b[0m \u001b[0;34m+\u001b[0m \u001b[0;34m' but got array with shape '\u001b[0m \u001b[0;34m+\u001b[0m\u001b[0;34m\u001b[0m\u001b[0;34m\u001b[0m\u001b[0m\n\u001b[0;32m--> 138\u001b[0;31m                             str(data_shape))\n\u001b[0m\u001b[1;32m    139\u001b[0m     \u001b[0;32mreturn\u001b[0m \u001b[0mdata\u001b[0m\u001b[0;34m\u001b[0m\u001b[0;34m\u001b[0m\u001b[0m\n\u001b[1;32m    140\u001b[0m \u001b[0;34m\u001b[0m\u001b[0m\n",
            "\u001b[0;31mValueError\u001b[0m: Error when checking input: expected conv1d_138_input to have shape (64, 100) but got array with shape (100, 3)"
          ]
        }
      ]
    },
    {
      "cell_type": "code",
      "metadata": {
        "id": "oA4ZUNlVFqJH",
        "colab_type": "code",
        "colab": {}
      },
      "source": [
        "# print(x_train)\n",
        "\n"
      ],
      "execution_count": 0,
      "outputs": []
    },
    {
      "cell_type": "markdown",
      "metadata": {
        "id": "QLT2P1PlDGEE",
        "colab_type": "text"
      },
      "source": [
        "# stacked Lstm for sequence classification"
      ]
    },
    {
      "cell_type": "code",
      "metadata": {
        "id": "qhpIqKgd0H-4",
        "colab_type": "code",
        "outputId": "a99dec35-e842-42fa-e984-88fd8946a1a1",
        "colab": {
          "base_uri": "https://localhost:8080/",
          "height": 241
        }
      },
      "source": [
        "from keras.models import Sequential\n",
        "from keras.layers import LSTM,Dense\n",
        "import numpy as np\n",
        "\n",
        "data_dim=16\n",
        "timesteps = 8\n",
        "num_classes = 10\n",
        "\n",
        "model = Sequential()\n",
        "model.add(LSTM(32,return_sequences = True,\n",
        "              input_shape =(timesteps,data_dim)))\n",
        "model.add(LSTM(32,return_sequences = True))\n",
        "model.add(LSTM(32))\n",
        "model.add(Dense(10,activation='softmax'))\n",
        "model.compile(loss=\"categorical_crossentropy\",\n",
        "             optimizer = 'rmsprop',\n",
        "             metrics = ['accuracy'])\n",
        "\n",
        "x_train = np.random.random((1000,timesteps,data_dim))\n",
        "y_train = np.random.random((1000,num_classes))\n",
        "\n",
        "x_val = np.random.random((100,timesteps,data_dim))\n",
        "y_val = np.random.random((100,num_classes))\n",
        "\n",
        "model.fit(x_train,y_train,\n",
        "          batch_size = 64,epochs = 5,\n",
        "         validation_data=(x_val,y_val))"
      ],
      "execution_count": 0,
      "outputs": [
        {
          "output_type": "stream",
          "text": [
            "Train on 1000 samples, validate on 100 samples\n",
            "Epoch 1/5\n",
            "1000/1000 [==============================] - 4s 4ms/step - loss: 11.5385 - acc: 0.0860 - val_loss: 11.4992 - val_acc: 0.0600\n",
            "Epoch 2/5\n",
            "1000/1000 [==============================] - 0s 303us/step - loss: 11.5364 - acc: 0.1150 - val_loss: 11.5005 - val_acc: 0.0600\n",
            "Epoch 3/5\n",
            "1000/1000 [==============================] - 0s 306us/step - loss: 11.5364 - acc: 0.1070 - val_loss: 11.5006 - val_acc: 0.0600\n",
            "Epoch 4/5\n",
            "1000/1000 [==============================] - 0s 307us/step - loss: 11.5357 - acc: 0.1020 - val_loss: 11.5021 - val_acc: 0.0500\n",
            "Epoch 5/5\n",
            "1000/1000 [==============================] - 0s 309us/step - loss: 11.5355 - acc: 0.1060 - val_loss: 11.5012 - val_acc: 0.0700\n"
          ],
          "name": "stdout"
        },
        {
          "output_type": "execute_result",
          "data": {
            "text/plain": [
              "<keras.callbacks.History at 0x7fd44428ee10>"
            ]
          },
          "metadata": {
            "tags": []
          },
          "execution_count": 70
        }
      ]
    },
    {
      "cell_type": "markdown",
      "metadata": {
        "id": "Oi-0jm31R6TX",
        "colab_type": "text"
      },
      "source": [
        "#Same stacked LSTM model, rendered \"stateful\""
      ]
    },
    {
      "cell_type": "code",
      "metadata": {
        "id": "CT2dSmASR9eO",
        "colab_type": "code",
        "outputId": "773473c9-92c5-4a93-8761-ca5200dee182",
        "colab": {
          "base_uri": "https://localhost:8080/",
          "height": 221
        }
      },
      "source": [
        "from keras.models import Sequential\n",
        "from keras.layers import LSTM,Dense\n",
        "import numpy as np\n",
        "\n",
        "data_dim = 16 \n",
        "timesteps = 8\n",
        "num_classes = 10\n",
        "batch_size = 32\n",
        "model=Sequential()\n",
        "model.add(LSTM(32,return_sequences = True,stateful = True,\n",
        "              batch_input_shape=(batch_size,timesteps,data_dim)))\n",
        "model.add(LSTM(32,return_sequences = True,stateful = True))\n",
        "model.add(LSTM(32,stateful = True))\n",
        "model.add(Dense(10,activation='softmax'))\n",
        "\n",
        "model.compile(loss = 'categorical_crossentropy',\n",
        "             optimizer='rmsprop',\n",
        "             metrics = ['accuracy'])\n",
        "\n",
        "x_train = np.random.random((batch_size*10,timesteps,data_dim))\n",
        "y_train = np.random.random((batch_size*10,num_classes))\n",
        "\n",
        "x_val = np.random.random((batch_size*3,timesteps,data_dim))\n",
        "y_val = np.random.random((batch_size*3,num_classes))\n",
        "model.fit(x_train,y_train,\n",
        "         batch_size=batch_size,epochs =5,shuffle=False,\n",
        "         validation_data=(x_val,y_val))"
      ],
      "execution_count": 0,
      "outputs": [
        {
          "output_type": "stream",
          "text": [
            "Train on 320 samples, validate on 96 samples\n",
            "Epoch 1/5\n",
            "320/320 [==============================] - 4s 12ms/step - loss: 11.5117 - acc: 0.1500 - val_loss: 11.8237 - val_acc: 0.1562\n",
            "Epoch 2/5\n",
            "320/320 [==============================] - 0s 374us/step - loss: 11.5064 - acc: 0.1500 - val_loss: 11.8242 - val_acc: 0.1562\n",
            "Epoch 3/5\n",
            "320/320 [==============================] - 0s 374us/step - loss: 11.5053 - acc: 0.1438 - val_loss: 11.8246 - val_acc: 0.1458\n",
            "Epoch 4/5\n",
            "320/320 [==============================] - 0s 372us/step - loss: 11.5043 - acc: 0.1438 - val_loss: 11.8251 - val_acc: 0.1458\n",
            "Epoch 5/5\n",
            "320/320 [==============================] - 0s 367us/step - loss: 11.5033 - acc: 0.1438 - val_loss: 11.8260 - val_acc: 0.1458\n"
          ],
          "name": "stdout"
        },
        {
          "output_type": "execute_result",
          "data": {
            "text/plain": [
              "<keras.callbacks.History at 0x7fd442492898>"
            ]
          },
          "metadata": {
            "tags": []
          },
          "execution_count": 72
        }
      ]
    },
    {
      "cell_type": "markdown",
      "metadata": {
        "id": "99gzSGJwsyT2",
        "colab_type": "text"
      },
      "source": [
        "#stock prediction price"
      ]
    },
    {
      "cell_type": "code",
      "metadata": {
        "id": "UKG5C6dQsxu5",
        "colab_type": "code",
        "colab": {}
      },
      "source": [
        "import pandas as pd\n",
        "import numpy as np\n",
        "import matplotlib.pyplot  as plt\n",
        "%matplotlib inline\n",
        "from matplotlib.pylab import rcParams\n",
        "rcParams['figure.figsize']=20,10\n",
        "from sklearn.preprocessing import MinMaxScaler\n",
        "scaler = MinMaxScaler(feature_range=(0,1))\n",
        "df=pd.read_csv('NSE-TATAGLOBAL11.csv')\n",
        "df.head()"
      ],
      "execution_count": 0,
      "outputs": []
    },
    {
      "cell_type": "code",
      "metadata": {
        "id": "ucMnBomHvIM2",
        "colab_type": "code",
        "colab": {}
      },
      "source": [
        "df['Date']=pd.to_datetime(df.Date,format='%Y-%m-%d')\n",
        "df.index=df['Date']\n",
        "plt.figure(figsize=(8,8))\n",
        "plt.plot(df['Close'],label='Close Price history')"
      ],
      "execution_count": 0,
      "outputs": []
    },
    {
      "cell_type": "code",
      "metadata": {
        "colab_type": "code",
        "id": "1cQk4td7H_FC",
        "colab": {}
      },
      "source": [
        "data=df.sort_index(ascending=True,axis = 0)\n",
        "new_data=pd.DataFrame(index = range(0,len(df)),columns=['Date','Close'])\n",
        "for i in range(0,len(data)):\n",
        "  new_data['Date']=data['Date'][i]\n",
        "  new_data['Close'][i]=data['Close'][i]"
      ],
      "execution_count": 0,
      "outputs": []
    },
    {
      "cell_type": "code",
      "metadata": {
        "colab_type": "code",
        "id": "TvyoqEvbIBXQ",
        "colab": {}
      },
      "source": [
        "train=new_data[:987]\n",
        "valid=new_data[987:]\n"
      ],
      "execution_count": 0,
      "outputs": []
    },
    {
      "cell_type": "code",
      "metadata": {
        "id": "6TD6eweD0ET5",
        "colab_type": "code",
        "colab": {}
      },
      "source": [
        "new_data.shape,train.shape,valid.shape\n",
        "\n"
      ],
      "execution_count": 0,
      "outputs": []
    },
    {
      "cell_type": "code",
      "metadata": {
        "id": "KpypRGBU0au3",
        "colab_type": "code",
        "colab": {}
      },
      "source": [
        "train['Date'].min(),train['Date'].max(),valid['Date'].min(),valid['Date'].max()"
      ],
      "execution_count": 0,
      "outputs": []
    },
    {
      "cell_type": "code",
      "metadata": {
        "id": "8wImaQrw09PI",
        "colab_type": "code",
        "colab": {}
      },
      "source": [
        "\n",
        "preds = []\n",
        "for i in range(0,248):\n",
        "  a = train['Close'][len(train)-248+i:].sum()+sum(preds)\n",
        "  b= a/248\n",
        "  preds.append(b)"
      ],
      "execution_count": 0,
      "outputs": []
    },
    {
      "cell_type": "code",
      "metadata": {
        "id": "opWrC4GT1nkE",
        "colab_type": "code",
        "colab": {}
      },
      "source": [
        "rms = np.sqrt(np.mean(np.power((np.array(valid['Close'])-preds),2)))\n",
        "rms"
      ],
      "execution_count": 0,
      "outputs": []
    },
    {
      "cell_type": "code",
      "metadata": {
        "id": "hsgWBh8914_H",
        "colab_type": "code",
        "colab": {}
      },
      "source": [
        "valid['Predictions']=0\n",
        "valid['Predictions']=preds\n",
        "plt.plot(train['Close'])\n",
        "plt.plot(valid[['Close','Predictions']])"
      ],
      "execution_count": 0,
      "outputs": []
    },
    {
      "cell_type": "code",
      "metadata": {
        "id": "W_n_ecb73jhN",
        "colab_type": "code",
        "colab": {}
      },
      "source": [
        "df['Date']=pd.to_datetime(df.Date, format='%Y-%m-%d')\n",
        "df.index=df['Date']\n",
        "data = df.sort_index(ascending=True,axis=0)\n",
        "new_data=pd.DataFrame(index=range(0,len(df)),columns =['Date','Close'])\n",
        "for i in range(0,len(data)):\n",
        "  new_data['Date'][i]=data['Date'][i]\n",
        "  new_data['Close'][i]=data['Close'][i]"
      ],
      "execution_count": 0,
      "outputs": []
    },
    {
      "cell_type": "code",
      "metadata": {
        "id": "DqKL1orN7Am0",
        "colab_type": "code",
        "colab": {}
      },
      "source": [
        "!pip install fastai==0.7.0"
      ],
      "execution_count": 0,
      "outputs": []
    },
    {
      "cell_type": "code",
      "metadata": {
        "id": "ag6iHuu55PoP",
        "colab_type": "code",
        "colab": {}
      },
      "source": [
        "from fastai.structured import add_datepart\n",
        "add_datepart(new_data,'Date')\n",
        "new_data.drop('Elapsed',axis = 1,inplace=True)"
      ],
      "execution_count": 0,
      "outputs": []
    },
    {
      "cell_type": "code",
      "metadata": {
        "id": "cn_CbKgC6sat",
        "colab_type": "code",
        "colab": {}
      },
      "source": [
        "new_data['mon_fri']=0\n",
        "for i in range(0,len(new_data)):\n",
        "  if(new_data['Dayofweek'][i] ==0 or new_data['Dayofweek'][i]==4):\n",
        "    new_data['mon_fri'][i]=1\n",
        "  else:\n",
        "    new_data['mon_fri'][i]=0"
      ],
      "execution_count": 0,
      "outputs": []
    },
    {
      "cell_type": "code",
      "metadata": {
        "id": "AQvrvSYE8vHK",
        "colab_type": "code",
        "colab": {}
      },
      "source": [
        "train = new_data[:987]\n",
        "valid = new_data[987:]\n",
        "\n",
        "x_train = train.drop('Close',axis=1)\n",
        "y_train = train['Close']\n",
        "x_valid = valid.drop('Close',axis = 1)\n",
        "y_valid = valid['Close']\n",
        "\n",
        "from sklearn.linear_model import LinearRegression\n",
        "model = LinearRegression()\n",
        "model.fit(x_train,y_train)"
      ],
      "execution_count": 0,
      "outputs": []
    },
    {
      "cell_type": "code",
      "metadata": {
        "id": "MAuy6jhCuSQU",
        "colab_type": "code",
        "colab": {}
      },
      "source": [
        "preds = model.predict(x_valid)\n",
        "rms = np.sqrt(np.mean(np.power((np.array(y_valid)-np.array(preds)),2)))\n",
        "rms"
      ],
      "execution_count": 0,
      "outputs": []
    },
    {
      "cell_type": "code",
      "metadata": {
        "id": "0CGSNoPpwoJX",
        "colab_type": "code",
        "colab": {}
      },
      "source": [
        "valid['Predictions'] = 0\n",
        "valid['Predictions'] = preds\n",
        "\n",
        "valid.index =new_data[987:].index\n",
        "train.index = new_data[:987].index\n",
        "\n",
        "plt.plot(train['Close'])\n",
        "plt.plot(valid[['Close','Predictions']])"
      ],
      "execution_count": 0,
      "outputs": []
    },
    {
      "cell_type": "markdown",
      "metadata": {
        "id": "8donfTf_z6VZ",
        "colab_type": "text"
      },
      "source": [
        "#k -nearest neighbour"
      ]
    },
    {
      "cell_type": "code",
      "metadata": {
        "id": "QGGgEsEYxNeo",
        "colab_type": "code",
        "colab": {}
      },
      "source": [
        "from sklearn import neighbors\n",
        "from sklearn.model_selection import GridSearchCV\n",
        "from sklearn.preprocessing import MinMaxScaler\n",
        "scaler = MinMaxScaler(feature_range=(0,1))"
      ],
      "execution_count": 0,
      "outputs": []
    },
    {
      "cell_type": "code",
      "metadata": {
        "id": "gZRn-cKe6KLP",
        "colab_type": "code",
        "colab": {}
      },
      "source": [
        "x_train_scaled = scaler.fit_transform(x_train)\n",
        "x_train = pd.DataFrame(x_train_scaled)\n",
        "x_valid_scaled = scaler.fit_transform(x_valid)\n",
        "x_valid = pd.DataFrame(x_valid_scaled)\n",
        "\n",
        "params ={'n_neighbors':[2,3,4,5,6,7,8,9]}\n",
        "knn = neighbors.KNeighborsRegressor()\n",
        "model = GridSearchCV(knn,params,cv = 5)\n",
        "\n",
        "model.fit(x_train,y_train)\n",
        "preds =model.predict(x_valid)"
      ],
      "execution_count": 0,
      "outputs": []
    },
    {
      "cell_type": "code",
      "metadata": {
        "id": "rIK51ZEv7GZF",
        "colab_type": "code",
        "colab": {}
      },
      "source": [
        "rms = np.sqrt(np.mean(np.power((np.array(y_valid)-np.array(preds)),2)))\n",
        "rms"
      ],
      "execution_count": 0,
      "outputs": []
    },
    {
      "cell_type": "code",
      "metadata": {
        "id": "MNwg6p4F9KoR",
        "colab_type": "code",
        "colab": {}
      },
      "source": [
        "valid['Predictions'] = 0\n",
        "valid['Predictions'] = preds\n",
        "plt.plot(valid[['Close','Predictions']])\n",
        "plt.plot(train['Close'])"
      ],
      "execution_count": 0,
      "outputs": []
    },
    {
      "cell_type": "code",
      "metadata": {
        "id": "F6iytVVCCoS6",
        "colab_type": "code",
        "colab": {}
      },
      "source": [
        "# !python3.6 -m pip install scipy==1.2 "
      ],
      "execution_count": 0,
      "outputs": []
    },
    {
      "cell_type": "code",
      "metadata": {
        "id": "8U2jBZfF9x-Q",
        "colab_type": "code",
        "colab": {}
      },
      "source": [
        "# from pyramid.arima import auto_arima\n",
        "# from scipy.special import factorial\n",
        "# data  = df.sort_index(ascending=True,axis = 0)\n",
        "# train = data[:987]\n",
        "# valid = data[987:]\n",
        "\n",
        "# training = train['Close']\n",
        "# validation=valid['Close']\n",
        "# model= auto_arima(training,start_p=1,start_q=1,max_p=3,m=12,start_P=0,seasonal =True,d=1,D=1,trace= True,error_action='ignore',suppress_warnings =True)\n",
        "# model.fit(training)\n",
        "# forecast = model.predict(n_periods=248)\n",
        "# forecast = pd.DataFrame(forecast,index = valid.index,columns =['Prediction'])"
      ],
      "execution_count": 0,
      "outputs": []
    },
    {
      "cell_type": "markdown",
      "metadata": {
        "id": "B-HeyZDSHajh",
        "colab_type": "text"
      },
      "source": [
        "#Prophet\n"
      ]
    },
    {
      "cell_type": "code",
      "metadata": {
        "id": "5Jv_qjshCfmk",
        "colab_type": "code",
        "outputId": "d9901d51-9988-4dd4-d45f-d530d92fc63b",
        "colab": {
          "base_uri": "https://localhost:8080/",
          "height": 54
        }
      },
      "source": [
        "from fbprophet import Prophet\n",
        "\n",
        "new_data=pd.DataFrame(index = range(0,len(df)),columns=['Date','Close'])\n",
        "for i in range(0,len(data)):\n",
        "  new_data['Date'][i]=data['Date'][i]\n",
        "  new_data['Close'][i]=data['Close'][i]\n",
        "new_data['Date'] = pd.to_datetime(new_data.Date,format='%Y-%m%-d')\n",
        "new_data.index = new_data['Date']\n",
        "new_data.rename(columns={'Close':'y','Date':'ds'},inplace = True)\n",
        "train = new_data[:987]\n",
        "valid= new_data[987:]\n",
        "model=Prophet()\n",
        "model.fit(train)\n",
        "close_prices = model.make_future_dataframe(periods = len(valid))\n",
        "forecast= model.predict(close_prices)"
      ],
      "execution_count": 0,
      "outputs": [
        {
          "output_type": "stream",
          "text": [
            "INFO:fbprophet:Disabling daily seasonality. Run prophet with daily_seasonality=True to override this.\n"
          ],
          "name": "stderr"
        }
      ]
    },
    {
      "cell_type": "code",
      "metadata": {
        "id": "GPTJaziUB73D",
        "colab_type": "code",
        "outputId": "d71c2318-e475-4dde-c9d6-c6fd31c11fa8",
        "colab": {
          "base_uri": "https://localhost:8080/",
          "height": 34
        }
      },
      "source": [
        "forecast_valid=forecast['yhat'][987:]\n",
        "rms =  np.sqrt(np.mean(np.power((np.array(valid['y'])-np.array(forecast_valid)),2)))\n",
        "rms"
      ],
      "execution_count": 0,
      "outputs": [
        {
          "output_type": "execute_result",
          "data": {
            "text/plain": [
              "57.49446193057514"
            ]
          },
          "metadata": {
            "tags": []
          },
          "execution_count": 33
        }
      ]
    },
    {
      "cell_type": "code",
      "metadata": {
        "id": "i-78tvdiMa95",
        "colab_type": "code",
        "outputId": "e312badb-e621-4cc9-bfef-88fba125c6d9",
        "colab": {
          "base_uri": "https://localhost:8080/",
          "height": 785
        }
      },
      "source": [
        "# valid=['Predictions'] = 0\n",
        "valid['Predictions'] =forecast_valid.values\n",
        "plt.plot(train['y'])\n",
        "plt.plot(valid[['y','Predictions']])\n",
        "\n"
      ],
      "execution_count": 0,
      "outputs": [
        {
          "output_type": "stream",
          "text": [
            "/usr/local/lib/python3.6/dist-packages/ipykernel_launcher.py:1: SettingWithCopyWarning:\n",
            "\n",
            "\n",
            "A value is trying to be set on a copy of a slice from a DataFrame.\n",
            "Try using .loc[row_indexer,col_indexer] = value instead\n",
            "\n",
            "See the caveats in the documentation: http://pandas.pydata.org/pandas-docs/stable/indexing.html#indexing-view-versus-copy\n",
            "\n"
          ],
          "name": "stderr"
        },
        {
          "output_type": "execute_result",
          "data": {
            "text/plain": [
              "[<matplotlib.lines.Line2D at 0x7f6599a9feb8>,\n",
              " <matplotlib.lines.Line2D at 0x7f6599a8e128>]"
            ]
          },
          "metadata": {
            "tags": []
          },
          "execution_count": 36
        },
        {
          "output_type": "display_data",
          "data": {
            "image/png": "[encoded data removed]",
            "text/plain": [
              "<Figure size 1440x720 with 1 Axes>"
            ]
          },
          "metadata": {
            "tags": []
          }
        }
      ]
    },
    {
      "cell_type": "markdown",
      "metadata": {
        "id": "Si4OBWndNwWx",
        "colab_type": "text"
      },
      "source": [
        "# lstm\n"
      ]
    },
    {
      "cell_type": "code",
      "metadata": {
        "id": "0YV7soUtNR3Q",
        "colab_type": "code",
        "outputId": "bcd7348b-a764-435d-db93-9d068354704c",
        "colab": {
          "base_uri": "https://localhost:8080/",
          "height": 51
        }
      },
      "source": [
        "from sklearn.preprocessing import MinMaxScaler\n",
        "from keras.models import Sequential\n",
        "from keras.layers import Dense, Dropout,LSTM\n",
        "\n",
        "data=df.sort_index(ascending = True,axis =0 )\n",
        "new_data = pd.DataFrame(index = range(0,len(df)),columns=['Date','Close'])\n",
        "for i in range(0,len(data)):\n",
        "  new_data['Date'][i] = data['Date'][i]\n",
        "  new_data['Close'][i] =data['Close'][i]\n",
        "new_data.index = new_data.Date\n",
        "new_data.drop('Date',axis=1,inplace=True)\n",
        "dataset=new_data.values\n",
        "train = dataset[0:987,:]\n",
        "valid= dataset[987:,:]\n",
        "scaler = MinMaxScaler(feature_range =(0,1))\n",
        "scaled_data = scaler.fit_transform(dataset)\n",
        "x_train,y_train=[],[]\n",
        "for i in range(60,len(train)):\n",
        "  x_train.append(scaled_data[i-60:i,0])\n",
        "  y_train.append(scaled_data[i,0])\n",
        "x_train,y_train = np.array(x_train),np.array(y_train)\n",
        "x_train = np.reshape(x_train,(x_train.shape[0],x_train.shape[1],1))\n",
        "model=Sequential()\n",
        "model.add(LSTM(units = 50,return_sequences=True,input_shape=(x_train.shape[1],1)))\n",
        "model.add(LSTM(units = 50))\n",
        "model.add(Dense(1))\n",
        "model.compile(loss='mean_squared_error', optimizer='adam')\n",
        "model.fit(x_train,y_train,epochs=1,batch_size = 1,verbose=2)\n",
        "inputs = new_data[len(new_data)- len(valid)-60:].values\n",
        "inputs=inputs.reshape(-1,1)\n",
        "inputs =scaler.transform(inputs)\n",
        "\n",
        "X_test=[]\n",
        "for i in range(60,inputs.shape[0]):\n",
        "  X_test.append(inputs[i-60:i,0])\n",
        "X_test = np.array(X_test)\n",
        "\n",
        "X_test= np.reshape(X_test,(X_test.shape[0],X_test.shape[1],1))\n",
        "closing_price = model.predict(X_test)\n",
        "closing_price = scaler.inverse_transform(closing_price)"
      ],
      "execution_count": 0,
      "outputs": [
        {
          "output_type": "stream",
          "text": [
            "Epoch 1/1\n",
            " - 49s - loss: 0.0030\n"
          ],
          "name": "stdout"
        }
      ]
    },
    {
      "cell_type": "code",
      "metadata": {
        "id": "7Qqx4MUTQgI1",
        "colab_type": "code",
        "outputId": "64fcae17-6cc8-4547-e24e-bdfd1b4c1001",
        "colab": {
          "base_uri": "https://localhost:8080/",
          "height": 68
        }
      },
      "source": [
        "rms = np.sqrt(np.mean(np.power((valid-closing_price),2)))\n",
        "rms\n"
      ],
      "execution_count": 0,
      "outputs": [
        {
          "output_type": "execute_result",
          "data": {
            "text/plain": [
              "Close          5.24733\n",
              "Predictions    0.00000\n",
              "dtype: float64"
            ]
          },
          "metadata": {
            "tags": []
          },
          "execution_count": 57
        }
      ]
    },
    {
      "cell_type": "code",
      "metadata": {
        "id": "rk-_w3qJp-Jx",
        "colab_type": "code",
        "outputId": "a73e9c64-9b80-47cf-87f3-65f4420424d1",
        "colab": {
          "base_uri": "https://localhost:8080/",
          "height": 785
        }
      },
      "source": [
        "train = new_data[:987]\n",
        "valid=new_data[987:]\n",
        "valid['Predictions']=closing_price\n",
        "plt.plot(train['Close'])\n",
        "plt.plot(valid[['Close','Predictions']])"
      ],
      "execution_count": 0,
      "outputs": [
        {
          "output_type": "stream",
          "text": [
            "/usr/local/lib/python3.6/dist-packages/ipykernel_launcher.py:3: SettingWithCopyWarning:\n",
            "\n",
            "\n",
            "A value is trying to be set on a copy of a slice from a DataFrame.\n",
            "Try using .loc[row_indexer,col_indexer] = value instead\n",
            "\n",
            "See the caveats in the documentation: http://pandas.pydata.org/pandas-docs/stable/indexing.html#indexing-view-versus-copy\n",
            "\n"
          ],
          "name": "stderr"
        },
        {
          "output_type": "execute_result",
          "data": {
            "text/plain": [
              "[<matplotlib.lines.Line2D at 0x7f65915019e8>,\n",
              " <matplotlib.lines.Line2D at 0x7f6591501c50>]"
            ]
          },
          "metadata": {
            "tags": []
          },
          "execution_count": 58
        },
        {
          "output_type": "display_data",
          "data": {
            "image/png": "[encoded data removed]",
            "text/plain": [
              "<Figure size 1440x720 with 1 Axes>"
            ]
          },
          "metadata": {
            "tags": []
          }
        }
      ]
    }
  ]
}