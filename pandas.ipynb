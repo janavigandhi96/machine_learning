{
  "nbformat": 4,
  "nbformat_minor": 0,
  "metadata": {
    "colab": {
      "name": "pandas.ipynb",
      "version": "0.3.2",
      "provenance": []
    },
    "language_info": {
      "codemirror_mode": {
        "name": "ipython",
        "version": 3
      },
      "file_extension": ".py",
      "mimetype": "text/x-python",
      "name": "python",
      "nbconvert_exporter": "python",
      "pygments_lexer": "ipython3",
      "version": "3.5.6"
    },
    "kernelspec": {
      "display_name": "Python 3",
      "language": "python",
      "name": "python3"
    }
  },
  "cells": [
    {
      "cell_type": "markdown",
      "metadata": {
        "id": "zE9jCprSwMkO",
        "colab_type": "text"
      },
      "source": [
        "# 1.Creating DataFrames"
      ]
    },
    {
      "cell_type": "code",
      "metadata": {
        "id": "ymHIildMwMkR",
        "colab_type": "code",
        "colab": {}
      },
      "source": [
        "import pandas as pd\n",
        "data ={'Country': ['Belgium','India','Brazil'],\n",
        "      'Capital':['Brussels','New Delhi','Brasalia'],\n",
        "      'Population':[11190846,1303171035,207847528]}\n",
        "df = pd.DataFrame(data,columns=['Country','Capital','Population'])"
      ],
      "execution_count": 0,
      "outputs": []
    },
    {
      "cell_type": "markdown",
      "metadata": {
        "id": "xOm0k5fMwMkW",
        "colab_type": "text"
      },
      "source": [
        "# 2. I/O"
      ]
    },
    {
      "cell_type": "code",
      "metadata": {
        "collapsed": true,
        "id": "W_seGbK3wMkX",
        "colab_type": "code",
        "colab": {},
        "outputId": "f4bb4f49-e49b-4a34-e2bd-244e8698d1b4"
      },
      "source": [
        "import pandas as pd\n",
        "# data ={'Country': ['Belgium','India','Brazil'],\n",
        "#       'Capital':['Brussels','New Delhi','Brasalia'],\n",
        "#       'Population':[11190846,1303171035,207847528]}\n",
        "# df = pd.DataFrame(data,columns=['Country','Capital','Population'])\n",
        "\n",
        "'''Read and write to csv'''\n",
        "# df=pd.read_csv('file.csv', header = None, nrows = 5)\n",
        "# df\n",
        "# df.to_csv('myDataFrame.csv')\n",
        "\n",
        "\n",
        "'''read and write to  excel'''\n",
        "# df = pd.read_excel('file1.xlsx')\n",
        "# df.to_excel('myDataFrame1.xlsx',sheet_name='Sheet1')\n",
        "\n",
        "\n",
        "'''read multiple sheets from the same file'''\n",
        "# xlsx = pd.ExcelFile('file1.xlsx')\n",
        "# df = pd.read_excel(xlsx,'Sheet1')\n",
        "\n",
        "'''Read and write to Sql Query or database table'''\n",
        "# from sqlalchemy import create_engine\n",
        "# engine = create_engine('sqlite:///:memory:')\n",
        "# pd.read_sql(\"SELECT * FROM my_table;\",engine)\n",
        "# pd.read_sql(\"SELECT * FROM my_table;\", engine)\n",
        "# pd.read_sql_table('my_table', engine)\n",
        "# pd.read_sql_query(\"SELECT * FROM my_table;\", engine)\n"
      ],
      "execution_count": 0,
      "outputs": [
        {
          "output_type": "execute_result",
          "data": {
            "text/plain": [
              "'Read and write to Sql Query or database table'"
            ]
          },
          "metadata": {
            "tags": []
          },
          "execution_count": 70
        }
      ]
    },
    {
      "cell_type": "markdown",
      "metadata": {
        "id": "PQAYk6iowMkf",
        "colab_type": "text"
      },
      "source": [
        "# 3. Asking for Help\n"
      ]
    },
    {
      "cell_type": "code",
      "metadata": {
        "id": "syA_5ZVGwMkg",
        "colab_type": "code",
        "colab": {}
      },
      "source": [
        "import pandas as pd\n",
        "help(pd.Series.loc)"
      ],
      "execution_count": 0,
      "outputs": []
    },
    {
      "cell_type": "markdown",
      "metadata": {
        "id": "mq4rh0GSwMkj",
        "colab_type": "text"
      },
      "source": [
        "# 4.Selection"
      ]
    },
    {
      "cell_type": "code",
      "metadata": {
        "id": "og1vtGlIwMkj",
        "colab_type": "code",
        "colab": {},
        "outputId": "79e5780a-2754-4ade-c298-85145af0a85d"
      },
      "source": [
        "import pandas as pd\n",
        "\n",
        "'''Get one element'''\n",
        "# s = pd.Series([3,-5,7,4], index=['a','b','c','d'])\n",
        "# s['b']\n",
        "\n",
        "'''get subset of a dataframe'''\n",
        "# data ={'Country': ['Belgium','India','Brazil'],\n",
        "#       'Capital':['Brussels','New Delhi','Brasalia'],\n",
        "#       'Population':[11190846,1303171035,207847528]}\n",
        "# df = pd.DataFrame(data,columns=['Country','Capital','Population'])\n",
        "# df[1:]"
      ],
      "execution_count": 0,
      "outputs": [
        {
          "output_type": "execute_result",
          "data": {
            "text/html": [
              "<div>\n",
              "<style scoped>\n",
              "    .dataframe tbody tr th:only-of-type {\n",
              "        vertical-align: middle;\n",
              "    }\n",
              "\n",
              "    .dataframe tbody tr th {\n",
              "        vertical-align: top;\n",
              "    }\n",
              "\n",
              "    .dataframe thead th {\n",
              "        text-align: right;\n",
              "    }\n",
              "</style>\n",
              "<table border=\"1\" class=\"dataframe\">\n",
              "  <thead>\n",
              "    <tr style=\"text-align: right;\">\n",
              "      <th></th>\n",
              "      <th>Country</th>\n",
              "      <th>Capital</th>\n",
              "      <th>Population</th>\n",
              "    </tr>\n",
              "  </thead>\n",
              "  <tbody>\n",
              "    <tr>\n",
              "      <th>1</th>\n",
              "      <td>India</td>\n",
              "      <td>New Delhi</td>\n",
              "      <td>1303171035</td>\n",
              "    </tr>\n",
              "    <tr>\n",
              "      <th>2</th>\n",
              "      <td>Brazil</td>\n",
              "      <td>Brasalia</td>\n",
              "      <td>207847528</td>\n",
              "    </tr>\n",
              "  </tbody>\n",
              "</table>\n",
              "</div>"
            ],
            "text/plain": [
              "  Country    Capital  Population\n",
              "1   India  New Delhi  1303171035\n",
              "2  Brazil   Brasalia   207847528"
            ]
          },
          "metadata": {
            "tags": []
          },
          "execution_count": 5
        }
      ]
    },
    {
      "cell_type": "code",
      "metadata": {
        "id": "A1Vzyfm_wMkn",
        "colab_type": "code",
        "colab": {},
        "outputId": "4953af19-888f-4041-9e14-2fc27bcb38dd"
      },
      "source": [
        "import pandas as pd\n",
        "\n",
        "'''Select single value by row and col'''\n",
        "\n",
        "data ={'Country': ['Belgium','India','Brazil'],\n",
        "      'Capital':['Brussels','New Delhi','Brasalia'],\n",
        "      'Population':[11190846,1303171035,207847528]}\n",
        "df = pd.DataFrame(data,columns=['Country','Capital','Population'])\n",
        "\n",
        "'''by position'''\n",
        "# df.iloc[[0],[0]]\n",
        "# df.iat[0,0]\n",
        "\n",
        "'''by label'''\n",
        "# df.loc[[0],['Country'] ]\n",
        "# df.at[0,'Country']\n",
        "\n",
        "'''by label/ position'''\n",
        "# df.ix[2]\n",
        "# df.ix[:,'Capital']\n",
        "# df.ix[1,'Capital']\n",
        "\n",
        "\n",
        "'''Boolean Indexing'''\n",
        "s = pd.Series([3,-5,7,4], index=['a','b','c','d'])\n",
        "# s[~(s>1)]\n",
        "# s[(s<-1)|(s>2)]\n",
        "df[df['Population']>1200000000 ]\n"
      ],
      "execution_count": 0,
      "outputs": [
        {
          "output_type": "execute_result",
          "data": {
            "text/html": [
              "<div>\n",
              "<style scoped>\n",
              "    .dataframe tbody tr th:only-of-type {\n",
              "        vertical-align: middle;\n",
              "    }\n",
              "\n",
              "    .dataframe tbody tr th {\n",
              "        vertical-align: top;\n",
              "    }\n",
              "\n",
              "    .dataframe thead th {\n",
              "        text-align: right;\n",
              "    }\n",
              "</style>\n",
              "<table border=\"1\" class=\"dataframe\">\n",
              "  <thead>\n",
              "    <tr style=\"text-align: right;\">\n",
              "      <th></th>\n",
              "      <th>Country</th>\n",
              "      <th>Capital</th>\n",
              "      <th>Population</th>\n",
              "    </tr>\n",
              "  </thead>\n",
              "  <tbody>\n",
              "    <tr>\n",
              "      <th>1</th>\n",
              "      <td>India</td>\n",
              "      <td>New Delhi</td>\n",
              "      <td>1303171035</td>\n",
              "    </tr>\n",
              "  </tbody>\n",
              "</table>\n",
              "</div>"
            ],
            "text/plain": [
              "  Country    Capital  Population\n",
              "1   India  New Delhi  1303171035"
            ]
          },
          "metadata": {
            "tags": []
          },
          "execution_count": 58
        }
      ]
    },
    {
      "cell_type": "code",
      "metadata": {
        "id": "pzs7jsuywMkr",
        "colab_type": "code",
        "colab": {}
      },
      "source": [
        ""
      ],
      "execution_count": 0,
      "outputs": []
    },
    {
      "cell_type": "code",
      "metadata": {
        "id": "3QJxaL-bwMku",
        "colab_type": "code",
        "colab": {}
      },
      "source": [
        ""
      ],
      "execution_count": 0,
      "outputs": []
    },
    {
      "cell_type": "code",
      "metadata": {
        "id": "2oaZYtMPwMkx",
        "colab_type": "code",
        "colab": {}
      },
      "source": [
        ""
      ],
      "execution_count": 0,
      "outputs": []
    }
  ]
}