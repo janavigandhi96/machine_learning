{
  "nbformat": 4,
  "nbformat_minor": 0,
  "metadata": {
    "colab": {
      "name": "numpypracts.ipynb",
      "version": "0.3.2",
      "provenance": [],
      "collapsed_sections": []
    },
    "language_info": {
      "codemirror_mode": {
        "name": "ipython",
        "version": 3
      },
      "file_extension": ".py",
      "mimetype": "text/x-python",
      "name": "python",
      "nbconvert_exporter": "python",
      "pygments_lexer": "ipython3",
      "version": "3.5.6"
    },
    "kernelspec": {
      "display_name": "Python 3",
      "language": "python",
      "name": "python3"
    }
  },
  "cells": [
    {
      "cell_type": "code",
      "metadata": {
        "id": "GIzbD9nvvuKl",
        "colab_type": "code",
        "colab": {}
      },
      "source": [
        "import numpy as np\n"
      ],
      "execution_count": 0,
      "outputs": []
    },
    {
      "cell_type": "code",
      "metadata": {
        "id": "eggR2wh3vuKo",
        "colab_type": "code",
        "colab": {}
      },
      "source": [
        "a=np.zeros([2,2])"
      ],
      "execution_count": 0,
      "outputs": []
    },
    {
      "cell_type": "code",
      "metadata": {
        "id": "syZlmbpivuKr",
        "colab_type": "code",
        "colab": {}
      },
      "source": [
        "b=np.ones([2,2])\n"
      ],
      "execution_count": 0,
      "outputs": []
    },
    {
      "cell_type": "code",
      "metadata": {
        "id": "GFfN2wVFvuKt",
        "colab_type": "code",
        "colab": {},
        "outputId": "be9855e3-956f-4dcc-813a-10b12ff93e08"
      },
      "source": [
        "np.add(a,b)"
      ],
      "execution_count": 0,
      "outputs": [
        {
          "output_type": "execute_result",
          "data": {
            "text/plain": [
              "array([[1., 1.],\n",
              "       [1., 1.]])"
            ]
          },
          "metadata": {
            "tags": []
          },
          "execution_count": 11
        }
      ]
    },
    {
      "cell_type": "code",
      "metadata": {
        "id": "dItyXVbhvuK1",
        "colab_type": "code",
        "colab": {},
        "outputId": "a9f440e2-3a62-45de-cdf9-5b21f154d7fa"
      },
      "source": [
        "np.multiply(a,b)"
      ],
      "execution_count": 0,
      "outputs": [
        {
          "output_type": "execute_result",
          "data": {
            "text/plain": [
              "array([[0., 0.],\n",
              "       [0., 0.]])"
            ]
          },
          "metadata": {
            "tags": []
          },
          "execution_count": 12
        }
      ]
    },
    {
      "cell_type": "code",
      "metadata": {
        "id": "JRab3AgnvuK6",
        "colab_type": "code",
        "colab": {},
        "outputId": "2ea07ed2-3c9b-47e3-bcc6-d50c4a936a79"
      },
      "source": [
        "np.dot(a,b)"
      ],
      "execution_count": 0,
      "outputs": [
        {
          "output_type": "execute_result",
          "data": {
            "text/plain": [
              "array([[0., 0.],\n",
              "       [0., 0.]])"
            ]
          },
          "metadata": {
            "tags": []
          },
          "execution_count": 13
        }
      ]
    },
    {
      "cell_type": "code",
      "metadata": {
        "id": "_m0I05TovuK_",
        "colab_type": "code",
        "colab": {},
        "outputId": "f77ab9b1-14d0-4857-962d-7923796349bf"
      },
      "source": [
        "np.matmul(a,b)"
      ],
      "execution_count": 0,
      "outputs": [
        {
          "output_type": "execute_result",
          "data": {
            "text/plain": [
              "array([[0., 0.],\n",
              "       [0., 0.]])"
            ]
          },
          "metadata": {
            "tags": []
          },
          "execution_count": 14
        }
      ]
    },
    {
      "cell_type": "markdown",
      "metadata": {
        "id": "N-ha5JXWvuLD",
        "colab_type": "text"
      },
      "source": [
        "find difference between matmul and dot multiply\n"
      ]
    },
    {
      "cell_type": "code",
      "metadata": {
        "id": "WBOMNU8LvuLE",
        "colab_type": "code",
        "colab": {}
      },
      "source": [
        "n=np.random.randn(10,10)"
      ],
      "execution_count": 0,
      "outputs": []
    },
    {
      "cell_type": "code",
      "metadata": {
        "scrolled": true,
        "id": "Myw9qbNFvuLI",
        "colab_type": "code",
        "colab": {},
        "outputId": "f30557ce-d217-4fc4-e0ad-63ec182d23dc"
      },
      "source": [
        "n"
      ],
      "execution_count": 0,
      "outputs": [
        {
          "output_type": "execute_result",
          "data": {
            "text/plain": [
              "array([[-3.31624518e-01,  2.81679202e+00,  1.94510959e+00,\n",
              "         1.81059940e+00, -1.72088856e+00, -7.15806150e-01,\n",
              "        -8.35521987e-01, -1.11866992e+00,  4.76676217e-01,\n",
              "        -6.61159893e-01],\n",
              "       [ 1.25762953e+00, -1.30923239e-01,  3.31816372e-02,\n",
              "        -1.30210870e+00,  1.36722266e-01, -2.13601824e+00,\n",
              "        -7.73135355e-01,  1.19349753e-01, -1.48513432e+00,\n",
              "         8.64827853e-01],\n",
              "       [-8.42299521e-01, -5.10124870e-01,  1.05619501e+00,\n",
              "         5.24354447e-01,  5.19466201e-01, -1.25447675e+00,\n",
              "         1.74857820e-02, -6.70167957e-01,  4.41870961e-01,\n",
              "        -3.78552589e-01],\n",
              "       [ 2.57752287e-01,  1.50614142e+00, -1.64876411e+00,\n",
              "         8.01870900e-01,  2.11249210e-01,  8.46444245e-01,\n",
              "        -4.80392897e-01, -9.91595613e-01, -4.58506484e-01,\n",
              "        -2.57386372e-01],\n",
              "       [ 4.78096963e-01, -2.17805921e-01, -2.06915904e-01,\n",
              "        -1.87851536e-01, -6.02182027e-01,  1.21606315e+00,\n",
              "         1.32591690e-01,  8.40812671e-01,  3.80549864e-02,\n",
              "         8.49442585e-01],\n",
              "       [-2.59349967e+00,  1.15931333e+00, -1.37086967e+00,\n",
              "        -1.64286638e+00, -1.37491515e+00, -3.70454392e-01,\n",
              "        -1.56684309e-01, -7.24051207e-01, -3.59887039e-01,\n",
              "         1.28264652e+00],\n",
              "       [ 1.68584009e+00, -5.51889666e-01,  1.37375952e+00,\n",
              "         1.54129777e+00,  1.18070705e+00,  2.73956901e+00,\n",
              "         9.48352999e-01,  6.78006514e-02,  6.55549516e-01,\n",
              "         5.90904604e-01],\n",
              "       [ 2.45187127e-01,  2.08868080e+00, -1.74445433e+00,\n",
              "        -9.58983398e-01, -1.72330764e+00, -1.44978376e-01,\n",
              "         6.84891351e-01,  1.19777553e+00,  3.61305516e-01,\n",
              "         4.16090479e-01],\n",
              "       [ 1.03054491e+00,  1.23073887e+00,  1.68902669e+00,\n",
              "         6.48297093e-01, -7.38751829e-01,  7.66264303e-01,\n",
              "        -7.09803920e-01,  9.36231214e-02,  9.66858769e-01,\n",
              "        -7.62439695e-01],\n",
              "       [-3.25269970e-02,  1.12755187e+00,  9.50402565e-04,\n",
              "        -7.48007934e-01,  6.97770592e-01,  8.84978119e-01,\n",
              "        -3.27020458e-01,  1.06534377e-01, -3.71085217e-01,\n",
              "         9.26530259e-01]])"
            ]
          },
          "metadata": {
            "tags": []
          },
          "execution_count": 17
        }
      ]
    },
    {
      "cell_type": "code",
      "metadata": {
        "id": "O-N5KMr_vuLM",
        "colab_type": "code",
        "colab": {}
      },
      "source": [
        "m=np.random.randn(10,1)"
      ],
      "execution_count": 0,
      "outputs": []
    },
    {
      "cell_type": "code",
      "metadata": {
        "scrolled": true,
        "id": "dl0GzdaqvuLP",
        "colab_type": "code",
        "colab": {},
        "outputId": "1185c9c3-88a7-4b2d-d7f1-2a8965a8072f"
      },
      "source": [
        "m"
      ],
      "execution_count": 0,
      "outputs": [
        {
          "output_type": "execute_result",
          "data": {
            "text/plain": [
              "array([[ 0.3822016 ],\n",
              "       [ 0.34933768],\n",
              "       [-0.3946766 ],\n",
              "       [-1.17517597],\n",
              "       [-0.97299122],\n",
              "       [ 1.49646946],\n",
              "       [ 0.82189948],\n",
              "       [-0.55986271],\n",
              "       [-0.50002795],\n",
              "       [ 0.50534721]])"
            ]
          },
          "metadata": {
            "tags": []
          },
          "execution_count": 25
        }
      ]
    },
    {
      "cell_type": "code",
      "metadata": {
        "id": "56LaSpQ8vuLU",
        "colab_type": "code",
        "colab": {},
        "outputId": "8a80b4a0-0615-4575-bcd6-bd39d63c5941"
      },
      "source": [
        "m.shape,n.shape"
      ],
      "execution_count": 0,
      "outputs": [
        {
          "output_type": "execute_result",
          "data": {
            "text/plain": [
              "((10, 1), (10, 10))"
            ]
          },
          "metadata": {
            "tags": []
          },
          "execution_count": 28
        }
      ]
    },
    {
      "cell_type": "code",
      "metadata": {
        "scrolled": false,
        "id": "EMmvzOzxvuLY",
        "colab_type": "code",
        "colab": {},
        "outputId": "3cea54cb-e351-4c93-d2f6-82d418b4285e"
      },
      "source": [
        "s = np.multiply(m,n)\n",
        "s,s.shape"
      ],
      "execution_count": 0,
      "outputs": [
        {
          "output_type": "execute_result",
          "data": {
            "text/plain": [
              "(array([[-1.26747423e-01,  1.07658243e+00,  7.43424004e-01,\n",
              "          6.92013996e-01, -6.57726367e-01, -2.73582258e-01,\n",
              "         -3.19337843e-01, -4.27557436e-01,  1.82186414e-01,\n",
              "         -2.52696371e-01],\n",
              "        [ 4.39337379e-01, -4.57364203e-02,  1.15915960e-02,\n",
              "         -4.54875627e-01,  4.77622388e-02, -7.46191648e-01,\n",
              "         -2.70085309e-01,  4.16933656e-02, -5.18813372e-01,\n",
              "          3.02116953e-01],\n",
              "        [ 3.32435910e-01,  2.01334349e-01, -4.16855453e-01,\n",
              "         -2.06950430e-01, -2.05021154e-01,  4.95112616e-01,\n",
              "         -6.90122898e-03,  2.64499610e-01, -1.74396128e-01,\n",
              "          1.49405848e-01],\n",
              "        [-3.02904294e-01, -1.76998120e+00,  1.93758797e+00,\n",
              "         -9.42339412e-01, -2.48254995e-01, -9.94720936e-01,\n",
              "          5.64546188e-01,  1.16529934e+00,  5.38825802e-01,\n",
              "          3.02474280e-01],\n",
              "        [-4.65184148e-01,  2.11923249e-01,  2.01327358e-01,\n",
              "          1.82777895e-01,  5.85917826e-01, -1.18321877e+00,\n",
              "         -1.29010550e-01, -8.18103347e-01, -3.70271677e-02,\n",
              "         -8.26500178e-01],\n",
              "        [-3.88109303e+00,  1.73487698e+00, -2.05146459e+00,\n",
              "         -2.45849936e+00, -2.05751852e+00, -5.54373682e-01,\n",
              "         -2.34473282e-01, -1.08352052e+00, -5.38559962e-01,\n",
              "          1.91944134e+00],\n",
              "        [ 1.38559111e+00, -4.53597832e-01,  1.12909224e+00,\n",
              "          1.26679185e+00,  9.70422519e-01,  2.25165036e+00,\n",
              "          7.79450842e-01,  5.57253205e-02,  5.38795809e-01,\n",
              "          4.85664189e-01],\n",
              "        [-1.37271130e-01, -1.16937450e+00,  9.76654935e-01,\n",
              "          5.36899049e-01,  9.64815691e-01,  8.11679872e-02,\n",
              "         -3.83445131e-01, -6.70589861e-01, -2.02281487e-01,\n",
              "         -2.32953545e-01],\n",
              "        [-5.15301258e-01, -6.15403835e-01, -8.44560551e-01,\n",
              "         -3.24166666e-01,  3.69396562e-01, -3.83153568e-01,\n",
              "          3.54921798e-01, -4.68141774e-02, -4.83456407e-01,\n",
              "          3.81241157e-01],\n",
              "        [-1.64374272e-02,  5.69805191e-01,  4.80283285e-04,\n",
              "         -3.78003723e-01,  3.52616422e-01,  4.47221224e-01,\n",
              "         -1.65258876e-01,  5.38368501e-02, -1.87526879e-01,\n",
              "          4.68219482e-01]]), (10, 10))"
            ]
          },
          "metadata": {
            "tags": []
          },
          "execution_count": 29
        }
      ]
    },
    {
      "cell_type": "code",
      "metadata": {
        "id": "ohXDssq3vuLf",
        "colab_type": "code",
        "colab": {},
        "outputId": "155d568d-5b96-449c-f3eb-4c8f32a95e7d"
      },
      "source": [
        "f = np.dot(n,m)\n",
        "f.shape"
      ],
      "execution_count": 0,
      "outputs": [
        {
          "output_type": "execute_result",
          "data": {
            "text/plain": [
              "(10, 1)"
            ]
          },
          "metadata": {
            "tags": []
          },
          "execution_count": 33
        }
      ]
    },
    {
      "cell_type": "code",
      "metadata": {
        "id": "RV5_JpoUvuLm",
        "colab_type": "code",
        "colab": {},
        "outputId": "86231697-7155-4cd7-fcf2-a5442d613ddd"
      },
      "source": [
        "f = np.dot(m,n)\n",
        "f.shape"
      ],
      "execution_count": 0,
      "outputs": [
        {
          "output_type": "error",
          "ename": "ValueError",
          "evalue": "shapes (10,1) and (10,10) not aligned: 1 (dim 1) != 10 (dim 0)",
          "traceback": [
            "\u001b[1;31m---------------------------------------------------------------------------\u001b[0m",
            "\u001b[1;31mValueError\u001b[0m                                Traceback (most recent call last)",
            "\u001b[1;32m<ipython-input-34-dded3b2fff79>\u001b[0m in \u001b[0;36m<module>\u001b[1;34m()\u001b[0m\n\u001b[1;32m----> 1\u001b[1;33m \u001b[0mf\u001b[0m \u001b[1;33m=\u001b[0m \u001b[0mnp\u001b[0m\u001b[1;33m.\u001b[0m\u001b[0mdot\u001b[0m\u001b[1;33m(\u001b[0m\u001b[0mm\u001b[0m\u001b[1;33m,\u001b[0m\u001b[0mn\u001b[0m\u001b[1;33m)\u001b[0m\u001b[1;33m\u001b[0m\u001b[0m\n\u001b[0m\u001b[0;32m      2\u001b[0m \u001b[0mf\u001b[0m\u001b[1;33m.\u001b[0m\u001b[0mshape\u001b[0m\u001b[1;33m\u001b[0m\u001b[0m\n",
            "\u001b[1;31mValueError\u001b[0m: shapes (10,1) and (10,10) not aligned: 1 (dim 1) != 10 (dim 0)"
          ]
        }
      ]
    },
    {
      "cell_type": "code",
      "metadata": {
        "id": "5Z-TmVpgvuLs",
        "colab_type": "code",
        "colab": {},
        "outputId": "9282040b-2979-462a-baef-8ffafa6f295c"
      },
      "source": [
        "f = np.matmul(m,n)\n",
        "f.shape"
      ],
      "execution_count": 0,
      "outputs": [
        {
          "output_type": "error",
          "ename": "ValueError",
          "evalue": "shapes (10,1) and (10,10) not aligned: 1 (dim 1) != 10 (dim 0)",
          "traceback": [
            "\u001b[1;31m---------------------------------------------------------------------------\u001b[0m",
            "\u001b[1;31mValueError\u001b[0m                                Traceback (most recent call last)",
            "\u001b[1;32m<ipython-input-35-3b5748238de4>\u001b[0m in \u001b[0;36m<module>\u001b[1;34m()\u001b[0m\n\u001b[1;32m----> 1\u001b[1;33m \u001b[0mf\u001b[0m \u001b[1;33m=\u001b[0m \u001b[0mnp\u001b[0m\u001b[1;33m.\u001b[0m\u001b[0mmatmul\u001b[0m\u001b[1;33m(\u001b[0m\u001b[0mm\u001b[0m\u001b[1;33m,\u001b[0m\u001b[0mn\u001b[0m\u001b[1;33m)\u001b[0m\u001b[1;33m\u001b[0m\u001b[0m\n\u001b[0m\u001b[0;32m      2\u001b[0m \u001b[0mf\u001b[0m\u001b[1;33m.\u001b[0m\u001b[0mshape\u001b[0m\u001b[1;33m\u001b[0m\u001b[0m\n",
            "\u001b[1;31mValueError\u001b[0m: shapes (10,1) and (10,10) not aligned: 1 (dim 1) != 10 (dim 0)"
          ]
        }
      ]
    },
    {
      "cell_type": "code",
      "metadata": {
        "id": "6npQgOlUvuLx",
        "colab_type": "code",
        "colab": {},
        "outputId": "ee10d1d7-339f-4e5a-aa67-a47ce4790c84"
      },
      "source": [
        "f = np.matmul(n,m)\n",
        "f,f.shape"
      ],
      "execution_count": 0,
      "outputs": [
        {
          "output_type": "execute_result",
          "data": {
            "text/plain": [
              "(array([[-2.06785082],\n",
              "        [-0.90008519],\n",
              "        [-3.93859517],\n",
              "        [ 1.65370812],\n",
              "        [ 2.86325654],\n",
              "        [ 3.77359199],\n",
              "        [ 1.76122254],\n",
              "        [ 4.02057214],\n",
              "        [-0.24372968],\n",
              "        [ 2.23089828]]), (10, 1))"
            ]
          },
          "metadata": {
            "tags": []
          },
          "execution_count": 38
        }
      ]
    },
    {
      "cell_type": "code",
      "metadata": {
        "scrolled": true,
        "id": "DaTuS42cvuL1",
        "colab_type": "code",
        "colab": {}
      },
      "source": [
        "m=np.random.randn(10)"
      ],
      "execution_count": 0,
      "outputs": []
    },
    {
      "cell_type": "code",
      "metadata": {
        "id": "YEF2wuF9vuL4",
        "colab_type": "code",
        "colab": {},
        "outputId": "3888852d-b039-4efd-ac0f-c040b8b19778"
      },
      "source": [
        "m,m.shape"
      ],
      "execution_count": 0,
      "outputs": [
        {
          "output_type": "execute_result",
          "data": {
            "text/plain": [
              "(array([-0.09649918,  2.25235253,  1.19713507, -0.39983193, -0.75044478,\n",
              "        -1.23662454, -0.68081023,  1.02435108,  0.81584545, -0.25768081]),\n",
              " (10,))"
            ]
          },
          "metadata": {
            "tags": []
          },
          "execution_count": 50
        }
      ]
    },
    {
      "cell_type": "code",
      "metadata": {
        "id": "PUAhc63SvuL9",
        "colab_type": "code",
        "colab": {},
        "outputId": "f08372ef-bf1e-4bae-c9af-ca0d98bbd3ac"
      },
      "source": [
        "n=np.random.randn(10)\n",
        "n,n.shape"
      ],
      "execution_count": 0,
      "outputs": [
        {
          "output_type": "execute_result",
          "data": {
            "text/plain": [
              "(array([ 1.28534477, -0.2874923 , -0.20905756,  0.68716119,  0.28250232,\n",
              "         1.08146923,  1.12420758,  0.77187411,  0.43248163,  0.08872952]),\n",
              " (10,))"
            ]
          },
          "metadata": {
            "tags": []
          },
          "execution_count": 51
        }
      ]
    },
    {
      "cell_type": "code",
      "metadata": {
        "id": "Oi127aD8vuMA",
        "colab_type": "code",
        "colab": {}
      },
      "source": [
        "f =np.dot(m,n)"
      ],
      "execution_count": 0,
      "outputs": []
    },
    {
      "cell_type": "code",
      "metadata": {
        "id": "IvBvtWoWvuMC",
        "colab_type": "code",
        "colab": {},
        "outputId": "507bebbd-2f6e-4413-de3e-4804c6e71f4f"
      },
      "source": [
        "f,f.shape"
      ],
      "execution_count": 0,
      "outputs": [
        {
          "output_type": "execute_result",
          "data": {
            "text/plain": [
              "(-2.4906892930014672, ())"
            ]
          },
          "metadata": {
            "tags": []
          },
          "execution_count": 53
        }
      ]
    },
    {
      "cell_type": "code",
      "metadata": {
        "id": "Z-i7eB9svuMF",
        "colab_type": "code",
        "colab": {}
      },
      "source": [
        "f =np.matmul(m,n)"
      ],
      "execution_count": 0,
      "outputs": []
    },
    {
      "cell_type": "code",
      "metadata": {
        "id": "WvhghHDMvuMJ",
        "colab_type": "code",
        "colab": {},
        "outputId": "32c3dc54-0826-4c2f-8c07-93ea13674476"
      },
      "source": [
        "f,f.shape"
      ],
      "execution_count": 0,
      "outputs": [
        {
          "output_type": "execute_result",
          "data": {
            "text/plain": [
              "(-2.4906892930014672, ())"
            ]
          },
          "metadata": {
            "tags": []
          },
          "execution_count": 55
        }
      ]
    },
    {
      "cell_type": "code",
      "metadata": {
        "id": "yd-9QWiUvuMN",
        "colab_type": "code",
        "colab": {}
      },
      "source": [
        "f =np.matmul(n,m)"
      ],
      "execution_count": 0,
      "outputs": []
    },
    {
      "cell_type": "code",
      "metadata": {
        "id": "RJgrqbmvvuMU",
        "colab_type": "code",
        "colab": {},
        "outputId": "7d107808-fe92-4cdf-b738-f37a711103f7"
      },
      "source": [
        "f,f.shape"
      ],
      "execution_count": 0,
      "outputs": [
        {
          "output_type": "execute_result",
          "data": {
            "text/plain": [
              "(-2.4906892930014672, ())"
            ]
          },
          "metadata": {
            "tags": []
          },
          "execution_count": 57
        }
      ]
    },
    {
      "cell_type": "code",
      "metadata": {
        "id": "Tnqdf51tvuMX",
        "colab_type": "code",
        "colab": {}
      },
      "source": [
        "m=np.random.randn(10,1)\n",
        "n=np.random.randn(10)"
      ],
      "execution_count": 0,
      "outputs": []
    },
    {
      "cell_type": "code",
      "metadata": {
        "id": "ZsArvhkRvuMa",
        "colab_type": "code",
        "colab": {},
        "outputId": "86f45ad4-941a-4db4-d9e8-43e7f6c3a483"
      },
      "source": [
        "f1 = np.dot(n,m)\n",
        "f2 =np.matmul(n,m)\n",
        "f1.shape, f2.shape"
      ],
      "execution_count": 0,
      "outputs": [
        {
          "output_type": "execute_result",
          "data": {
            "text/plain": [
              "((1,), (1,))"
            ]
          },
          "metadata": {
            "tags": []
          },
          "execution_count": 62
        }
      ]
    },
    {
      "cell_type": "code",
      "metadata": {
        "id": "3yLKgyy0vuMg",
        "colab_type": "code",
        "colab": {},
        "outputId": "7e24dc57-143f-4279-9c3b-87ed2039cc35"
      },
      "source": [
        "f1"
      ],
      "execution_count": 0,
      "outputs": [
        {
          "output_type": "execute_result",
          "data": {
            "text/plain": [
              "array([-0.05349772])"
            ]
          },
          "metadata": {
            "tags": []
          },
          "execution_count": 63
        }
      ]
    },
    {
      "cell_type": "code",
      "metadata": {
        "id": "vNi_0oMHvuMl",
        "colab_type": "code",
        "colab": {},
        "outputId": "64fc430e-ef15-4820-9c9b-fb7aae7b7037"
      },
      "source": [
        "f2"
      ],
      "execution_count": 0,
      "outputs": [
        {
          "output_type": "execute_result",
          "data": {
            "text/plain": [
              "array([-0.05349772])"
            ]
          },
          "metadata": {
            "tags": []
          },
          "execution_count": 64
        }
      ]
    },
    {
      "cell_type": "code",
      "metadata": {
        "id": "hzbzBnojvuMq",
        "colab_type": "code",
        "colab": {}
      },
      "source": [
        "f2 =np.dot(n,10)"
      ],
      "execution_count": 0,
      "outputs": []
    },
    {
      "cell_type": "code",
      "metadata": {
        "id": "X0PgpHSdvuMv",
        "colab_type": "code",
        "colab": {},
        "outputId": "6547be20-3203-4803-ee33-01e608aa27de"
      },
      "source": [
        "import numpy as np\n",
        "from io import StringIO\n",
        "data = u\"  1  2  3\\n  4  5 67\\n890123  4\"\n",
        "np.genfromtxt(StringIO(data), delimiter=3)\n"
      ],
      "execution_count": 0,
      "outputs": [
        {
          "output_type": "execute_result",
          "data": {
            "text/plain": [
              "array([[  1.,   2.,   3.],\n",
              "       [  4.,   5.,  67.],\n",
              "       [890., 123.,   4.]])"
            ]
          },
          "metadata": {
            "tags": []
          },
          "execution_count": 97
        }
      ]
    },
    {
      "cell_type": "code",
      "metadata": {
        "id": "nZdSeZArvuM1",
        "colab_type": "code",
        "colab": {}
      },
      "source": [
        ""
      ],
      "execution_count": 0,
      "outputs": []
    },
    {
      "cell_type": "code",
      "metadata": {
        "id": "SDoYuPdKvuM3",
        "colab_type": "code",
        "colab": {}
      },
      "source": [
        ""
      ],
      "execution_count": 0,
      "outputs": []
    },
    {
      "cell_type": "code",
      "metadata": {
        "id": "q9QtvSziv4rj",
        "colab_type": "code",
        "colab": {}
      },
      "source": [
        "# import  numpy as np\n",
        "# a=np.array([1,2,3])\n",
        "# b=np.array([(1,2,3,4),(7,8,9,10)],dtype=int)\n",
        "# print(a)\n",
        "# print(b)\n",
        "\n",
        "\"\"\"Initial placeholder\"\"\"\n",
        "# import numpy as np\n",
        "# import random\n",
        "# print(\" 1  dimensional array\\n\",np.zeros(3))  \n",
        "# print(\"2d array of all zeros\\n\",np.zeros((2,3)))  \n",
        "# print(\"3d array of all zero\\n\",np.zeros((3,2,4)))\n",
        "# print(\"3*4 array with all value2\\n\",np.full((3,4),2))\n",
        "# print(\"3*5 array of randomfloats between 0-1\\n\",np.random.rand(3,5))\n",
        "# print(\"3*4 array with all values 1\\n\",np.ones((3,4)))\n",
        "# print(\"4*4 array of 0 with 1 on diagonal\\n\",np.eye(4))\n",
        "\n",
        "\n",
        "'''saving'''\n",
        "# import numpy as np\n",
        "# a = np.arange(5)\n",
        "# print(\"a is: \")\n",
        "# print(a)\n",
        "# np.save('geekfile',a)\n",
        "\n",
        "\n",
        "'''Loading'''\n",
        "# import numpy as np \n",
        "# b= np.load('geekfile.npy')\n",
        "# print(\"b is: \")\n",
        "# print(b)\n",
        "\n",
        "'''text/csv file'''\n",
        "# import numpy as np\n",
        "# from io import StringIO\n",
        "# print(\"---load text---\")\n",
        "# x=StringIO(\"0 1 2 \\n3 4 5\")\n",
        "# y =np.loadtxt(x)\n",
        "# print(y)\n",
        "\n",
        "# print(\"---gen from txt---\")\n",
        "# data =u\"1,2,3,\\n4,5,6\"\n",
        "# b = np.genfromtxt(StringIO(data),delimiter=\",\")\n",
        "# print(\"gen from txt\",b)\n",
        "\n",
        "\n",
        "# print(\"---savetxt---\")\n",
        "# x = np.arange(0,10,1)\n",
        "# c = np.savetxt('testfile.txt',x,delimiter=' ')\n",
        "# a = open(\"testfile.txt\",'r')\n",
        "# print(\"the file contains: \")\n",
        "# print(a.read())\n",
        "\n",
        "\n",
        "'''properties'''\n",
        "# import numpy as np\n",
        "# a= np.array([[1,2,3]])\n",
        "# print(a.size)\n",
        "# print(a.shape)\n",
        "# print(a.dtype)\n",
        "# print(a)\n",
        "# print(np.copy(a))\n",
        "# print(a.view)\n",
        "\n",
        "\n",
        "\n",
        "'''Sorting'''\n",
        "# import numpy as np\n",
        "# a= np.array([[15,54,4,5,2,485],[10,55,31,1,44,32]])\n",
        "# print(np.sort(a))\n",
        "# print(np.sort(a,axis=1))\n",
        "# b = np.array([[1,2],[3,4],[5,6]])  \n",
        "# print(b.reshape(2,3))\n",
        "\n",
        "\n",
        "'''adding'''\n",
        "# import numpy as np\n",
        "# a = np.array([[1,2,3],[4,5,6]])\n",
        "# print(np.append(a,7))\n",
        "# print(np.insert(a,4,8))\n",
        "\n",
        "\n",
        "'''Removing'''\n",
        "# import numpy as np\n",
        "# a= np.array([1,2,3,4,5])\n",
        "# print(np.delete(a,2,axis=0))\n",
        "# print(np.delete(a,3,axis=0))\n",
        "\n",
        "\n",
        "'''combining'''\n",
        "# import numpy as np\n",
        "# a = np.array([1,2,3,4,5]) \n",
        "# b = np.array([6,7,8,9,10])\n",
        "# print(np.concatenate((a,b),axis = 0))\n",
        "# print(np.concatenate((b,a),axis = 0))\n",
        "\n",
        "\n",
        "\n",
        "'''split'''\n",
        "# import numpy as np\n",
        "# a = np.array([1,2,3,4,5,6])\n",
        "# print(np.split(a,3))\n",
        "\n",
        "\n",
        "'''indexing'''\n",
        "# import numpy as np\n",
        "# a = np.array([[1,1],[2,2],[3,3] ])\n",
        "# a[0]=7\n",
        "# a[1,0]=1\n",
        "# print(a)\n",
        "\n",
        "\n",
        "'''subseting'''\n",
        "# import numpy as np\n",
        "# a = np.array([[1,2,3,4,5],[2,3,4,5,6],[3,4,5,6,7]])\n",
        "# b = np.array([1,2,3,4]) \n",
        "# print(b[2])\n",
        "# print(a[2,4])\n",
        "\n",
        "\n",
        "'''slicing'''\n",
        "# import numpy as np\n",
        "# a = np.array([[1,2,3,4,5],[10,11,12,13,14],[15,16,17,18,19]])\n",
        "# b = np.array([1,2,3,4,5,6]) \n",
        "# print(b[0:4])\n",
        "# print(a[0:2,4])\n",
        "# print(b[:2])\n",
        "# print(\"abc: \",a[:,4])\n",
        "\n",
        "\n",
        "\n",
        "'''maths'''\n",
        "# import numpy as np\n",
        "# a = 400\n",
        "# b = 40\n",
        "# print(\"add\",np.add(a,b))\n",
        "# print(\"subtract\",np.subtract(a,b))\n",
        "# print(\"multiply\",np.multiply(a,b))\n",
        "# print(\"division\",np.divide(a,b))\n",
        "# print(\"exponentiation\",np.exp(a))\n",
        "# print(\"Square root\",np.sqrt(b))\n",
        "# print(\"comparision\",a==b)\n",
        "\n",
        "# w = np.array([1,2,3,4,5,6])\n",
        "# x= np.array([1,2,3,4,5,6])\n",
        "# print(\"array wise compare\",np.array_equal(w,x))\n",
        "\n",
        "\n",
        "'''functions'''\n",
        "import numpy as np\n",
        "a = np.array([20,2,1,34])\n",
        "print(\"array wise sum\",a.sum())\n",
        "print(\"array wise min value: \",a.min())\n",
        "print(\"array wise max value: \",a.max(axis=0))\n",
        "print(\"Mean\", a.mean())\n",
        "print(\"Median\",np.median(a))"
      ],
      "execution_count": 0,
      "outputs": []
    }
  ]
}