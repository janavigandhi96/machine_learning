{
  "nbformat": 4,
  "nbformat_minor": 0,
  "metadata": {
    "colab": {
      "name": "numpypracts.ipynb",
      "version": "0.3.2",
      "provenance": [],
      "collapsed_sections": []
    },
    "language_info": {
      "codemirror_mode": {
        "name": "ipython",
        "version": 3
      },
      "file_extension": ".py",
      "mimetype": "text/x-python",
      "name": "python",
      "nbconvert_exporter": "python",
      "pygments_lexer": "ipython3",
      "version": "3.5.6"
    },
    "kernelspec": {
      "display_name": "Python 3",
      "language": "python",
      "name": "python3"
    }
  },
  "cells": [
    {
      "cell_type": "code",
      "metadata": {
        "id": "GIzbD9nvvuKl",
        "colab_type": "code",
        "colab": {}
      },
      "source": [
        "import numpy as np\n"
      ],
      "execution_count": 0,
      "outputs": []
    },
    {
      "cell_type": "code",
      "metadata": {
        "id": "eggR2wh3vuKo",
        "colab_type": "code",
        "colab": {}
      },
      "source": [
        "a=np.zeros([2,2])"
      ],
      "execution_count": 0,
      "outputs": []
    },
    {
      "cell_type": "code",
      "metadata": {
        "id": "syZlmbpivuKr",
        "colab_type": "code",
        "colab": {}
      },
      "source": [
        "b=np.ones([2,2])\n"
      ],
      "execution_count": 0,
      "outputs": []
    },
    {
      "cell_type": "code",
      "metadata": {
        "id": "GFfN2wVFvuKt",
        "colab_type": "code",
        "outputId": "be9855e3-956f-4dcc-813a-10b12ff93e08",
        "colab": {}
      },
      "source": [
        "np.add(a,b)"
      ],
      "execution_count": 0,
      "outputs": [
        {
          "output_type": "execute_result",
          "data": {
            "text/plain": [
              "array([[1., 1.],\n",
              "       [1., 1.]])"
            ]
          },
          "metadata": {
            "tags": []
          },
          "execution_count": 11
        }
      ]
    },
    {
      "cell_type": "code",
      "metadata": {
        "id": "dItyXVbhvuK1",
        "colab_type": "code",
        "outputId": "a9f440e2-3a62-45de-cdf9-5b21f154d7fa",
        "colab": {}
      },
      "source": [
        "np.multiply(a,b)"
      ],
      "execution_count": 0,
      "outputs": [
        {
          "output_type": "execute_result",
          "data": {
            "text/plain": [
              "array([[0., 0.],\n",
              "       [0., 0.]])"
            ]
          },
          "metadata": {
            "tags": []
          },
          "execution_count": 12
        }
      ]
    },
    {
      "cell_type": "code",
      "metadata": {
        "id": "JRab3AgnvuK6",
        "colab_type": "code",
        "outputId": "2ea07ed2-3c9b-47e3-bcc6-d50c4a936a79",
        "colab": {}
      },
      "source": [
        "np.dot(a,b)"
      ],
      "execution_count": 0,
      "outputs": [
        {
          "output_type": "execute_result",
          "data": {
            "text/plain": [
              "array([[0., 0.],\n",
              "       [0., 0.]])"
            ]
          },
          "metadata": {
            "tags": []
          },
          "execution_count": 13
        }
      ]
    },
    {
      "cell_type": "code",
      "metadata": {
        "id": "_m0I05TovuK_",
        "colab_type": "code",
        "outputId": "f77ab9b1-14d0-4857-962d-7923796349bf",
        "colab": {}
      },
      "source": [
        "np.matmul(a,b)"
      ],
      "execution_count": 0,
      "outputs": [
        {
          "output_type": "execute_result",
          "data": {
            "text/plain": [
              "array([[0., 0.],\n",
              "       [0., 0.]])"
            ]
          },
          "metadata": {
            "tags": []
          },
          "execution_count": 14
        }
      ]
    },
    {
      "cell_type": "markdown",
      "metadata": {
        "id": "N-ha5JXWvuLD",
        "colab_type": "text"
      },
      "source": [
        "find difference between matmul and dot multiply\n"
      ]
    },
    {
      "cell_type": "code",
      "metadata": {
        "id": "WBOMNU8LvuLE",
        "colab_type": "code",
        "colab": {}
      },
      "source": [
        "n=np.random.randn(10,10)"
      ],
      "execution_count": 0,
      "outputs": []
    },
    {
      "cell_type": "code",
      "metadata": {
        "scrolled": true,
        "id": "Myw9qbNFvuLI",
        "colab_type": "code",
        "outputId": "f30557ce-d217-4fc4-e0ad-63ec182d23dc",
        "colab": {}
      },
      "source": [
        "n"
      ],
      "execution_count": 0,
      "outputs": [
        {
          "output_type": "execute_result",
          "data": {
            "text/plain": [
              "array([[-3.31624518e-01,  2.81679202e+00,  1.94510959e+00,\n",
              "         1.81059940e+00, -1.72088856e+00, -7.15806150e-01,\n",
              "        -8.35521987e-01, -1.11866992e+00,  4.76676217e-01,\n",
              "        -6.61159893e-01],\n",
              "       [ 1.25762953e+00, -1.30923239e-01,  3.31816372e-02,\n",
              "        -1.30210870e+00,  1.36722266e-01, -2.13601824e+00,\n",
              "        -7.73135355e-01,  1.19349753e-01, -1.48513432e+00,\n",
              "         8.64827853e-01],\n",
              "       [-8.42299521e-01, -5.10124870e-01,  1.05619501e+00,\n",
              "         5.24354447e-01,  5.19466201e-01, -1.25447675e+00,\n",
              "         1.74857820e-02, -6.70167957e-01,  4.41870961e-01,\n",
              "        -3.78552589e-01],\n",
              "       [ 2.57752287e-01,  1.50614142e+00, -1.64876411e+00,\n",
              "         8.01870900e-01,  2.11249210e-01,  8.46444245e-01,\n",
              "        -4.80392897e-01, -9.91595613e-01, -4.58506484e-01,\n",
              "        -2.57386372e-01],\n",
              "       [ 4.78096963e-01, -2.17805921e-01, -2.06915904e-01,\n",
              "        -1.87851536e-01, -6.02182027e-01,  1.21606315e+00,\n",
              "         1.32591690e-01,  8.40812671e-01,  3.80549864e-02,\n",
              "         8.49442585e-01],\n",
              "       [-2.59349967e+00,  1.15931333e+00, -1.37086967e+00,\n",
              "        -1.64286638e+00, -1.37491515e+00, -3.70454392e-01,\n",
              "        -1.56684309e-01, -7.24051207e-01, -3.59887039e-01,\n",
              "         1.28264652e+00],\n",
              "       [ 1.68584009e+00, -5.51889666e-01,  1.37375952e+00,\n",
              "         1.54129777e+00,  1.18070705e+00,  2.73956901e+00,\n",
              "         9.48352999e-01,  6.78006514e-02,  6.55549516e-01,\n",
              "         5.90904604e-01],\n",
              "       [ 2.45187127e-01,  2.08868080e+00, -1.74445433e+00,\n",
              "        -9.58983398e-01, -1.72330764e+00, -1.44978376e-01,\n",
              "         6.84891351e-01,  1.19777553e+00,  3.61305516e-01,\n",
              "         4.16090479e-01],\n",
              "       [ 1.03054491e+00,  1.23073887e+00,  1.68902669e+00,\n",
              "         6.48297093e-01, -7.38751829e-01,  7.66264303e-01,\n",
              "        -7.09803920e-01,  9.36231214e-02,  9.66858769e-01,\n",
              "        -7.62439695e-01],\n",
              "       [-3.25269970e-02,  1.12755187e+00,  9.50402565e-04,\n",
              "        -7.48007934e-01,  6.97770592e-01,  8.84978119e-01,\n",
              "        -3.27020458e-01,  1.06534377e-01, -3.71085217e-01,\n",
              "         9.26530259e-01]])"
            ]
          },
          "metadata": {
            "tags": []
          },
          "execution_count": 17
        }
      ]
    },
    {
      "cell_type": "code",
      "metadata": {
        "id": "O-N5KMr_vuLM",
        "colab_type": "code",
        "colab": {}
      },
      "source": [
        "m=np.random.randn(10,1)"
      ],
      "execution_count": 0,
      "outputs": []
    },
    {
      "cell_type": "code",
      "metadata": {
        "scrolled": true,
        "id": "dl0GzdaqvuLP",
        "colab_type": "code",
        "outputId": "1185c9c3-88a7-4b2d-d7f1-2a8965a8072f",
        "colab": {}
      },
      "source": [
        "m"
      ],
      "execution_count": 0,
      "outputs": [
        {
          "output_type": "execute_result",
          "data": {
            "text/plain": [
              "array([[ 0.3822016 ],\n",
              "       [ 0.34933768],\n",
              "       [-0.3946766 ],\n",
              "       [-1.17517597],\n",
              "       [-0.97299122],\n",
              "       [ 1.49646946],\n",
              "       [ 0.82189948],\n",
              "       [-0.55986271],\n",
              "       [-0.50002795],\n",
              "       [ 0.50534721]])"
            ]
          },
          "metadata": {
            "tags": []
          },
          "execution_count": 25
        }
      ]
    },
    {
      "cell_type": "code",
      "metadata": {
        "id": "56LaSpQ8vuLU",
        "colab_type": "code",
        "outputId": "8a80b4a0-0615-4575-bcd6-bd39d63c5941",
        "colab": {}
      },
      "source": [
        "m.shape,n.shape"
      ],
      "execution_count": 0,
      "outputs": [
        {
          "output_type": "execute_result",
          "data": {
            "text/plain": [
              "((10, 1), (10, 10))"
            ]
          },
          "metadata": {
            "tags": []
          },
          "execution_count": 28
        }
      ]
    },
    {
      "cell_type": "code",
      "metadata": {
        "scrolled": false,
        "id": "EMmvzOzxvuLY",
        "colab_type": "code",
        "outputId": "3cea54cb-e351-4c93-d2f6-82d418b4285e",
        "colab": {}
      },
      "source": [
        "s = np.multiply(m,n)\n",
        "s,s.shape"
      ],
      "execution_count": 0,
      "outputs": [
        {
          "output_type": "execute_result",
          "data": {
            "text/plain": [
              "(array([[-1.26747423e-01,  1.07658243e+00,  7.43424004e-01,\n",
              "          6.92013996e-01, -6.57726367e-01, -2.73582258e-01,\n",
              "         -3.19337843e-01, -4.27557436e-01,  1.82186414e-01,\n",
              "         -2.52696371e-01],\n",
              "        [ 4.39337379e-01, -4.57364203e-02,  1.15915960e-02,\n",
              "         -4.54875627e-01,  4.77622388e-02, -7.46191648e-01,\n",
              "         -2.70085309e-01,  4.16933656e-02, -5.18813372e-01,\n",
              "          3.02116953e-01],\n",
              "        [ 3.32435910e-01,  2.01334349e-01, -4.16855453e-01,\n",
              "         -2.06950430e-01, -2.05021154e-01,  4.95112616e-01,\n",
              "         -6.90122898e-03,  2.64499610e-01, -1.74396128e-01,\n",
              "          1.49405848e-01],\n",
              "        [-3.02904294e-01, -1.76998120e+00,  1.93758797e+00,\n",
              "         -9.42339412e-01, -2.48254995e-01, -9.94720936e-01,\n",
              "          5.64546188e-01,  1.16529934e+00,  5.38825802e-01,\n",
              "          3.02474280e-01],\n",
              "        [-4.65184148e-01,  2.11923249e-01,  2.01327358e-01,\n",
              "          1.82777895e-01,  5.85917826e-01, -1.18321877e+00,\n",
              "         -1.29010550e-01, -8.18103347e-01, -3.70271677e-02,\n",
              "         -8.26500178e-01],\n",
              "        [-3.88109303e+00,  1.73487698e+00, -2.05146459e+00,\n",
              "         -2.45849936e+00, -2.05751852e+00, -5.54373682e-01,\n",
              "         -2.34473282e-01, -1.08352052e+00, -5.38559962e-01,\n",
              "          1.91944134e+00],\n",
              "        [ 1.38559111e+00, -4.53597832e-01,  1.12909224e+00,\n",
              "          1.26679185e+00,  9.70422519e-01,  2.25165036e+00,\n",
              "          7.79450842e-01,  5.57253205e-02,  5.38795809e-01,\n",
              "          4.85664189e-01],\n",
              "        [-1.37271130e-01, -1.16937450e+00,  9.76654935e-01,\n",
              "          5.36899049e-01,  9.64815691e-01,  8.11679872e-02,\n",
              "         -3.83445131e-01, -6.70589861e-01, -2.02281487e-01,\n",
              "         -2.32953545e-01],\n",
              "        [-5.15301258e-01, -6.15403835e-01, -8.44560551e-01,\n",
              "         -3.24166666e-01,  3.69396562e-01, -3.83153568e-01,\n",
              "          3.54921798e-01, -4.68141774e-02, -4.83456407e-01,\n",
              "          3.81241157e-01],\n",
              "        [-1.64374272e-02,  5.69805191e-01,  4.80283285e-04,\n",
              "         -3.78003723e-01,  3.52616422e-01,  4.47221224e-01,\n",
              "         -1.65258876e-01,  5.38368501e-02, -1.87526879e-01,\n",
              "          4.68219482e-01]]), (10, 10))"
            ]
          },
          "metadata": {
            "tags": []
          },
          "execution_count": 29
        }
      ]
    },
    {
      "cell_type": "code",
      "metadata": {
        "id": "ohXDssq3vuLf",
        "colab_type": "code",
        "outputId": "155d568d-5b96-449c-f3eb-4c8f32a95e7d",
        "colab": {}
      },
      "source": [
        "f = np.dot(n,m)\n",
        "f.shape"
      ],
      "execution_count": 0,
      "outputs": [
        {
          "output_type": "execute_result",
          "data": {
            "text/plain": [
              "(10, 1)"
            ]
          },
          "metadata": {
            "tags": []
          },
          "execution_count": 33
        }
      ]
    },
    {
      "cell_type": "code",
      "metadata": {
        "id": "RV5_JpoUvuLm",
        "colab_type": "code",
        "outputId": "86231697-7155-4cd7-fcf2-a5442d613ddd",
        "colab": {}
      },
      "source": [
        "f = np.dot(m,n)\n",
        "f.shape"
      ],
      "execution_count": 0,
      "outputs": [
        {
          "output_type": "error",
          "ename": "ValueError",
          "evalue": "shapes (10,1) and (10,10) not aligned: 1 (dim 1) != 10 (dim 0)",
          "traceback": [
            "\u001b[1;31m---------------------------------------------------------------------------\u001b[0m",
            "\u001b[1;31mValueError\u001b[0m                                Traceback (most recent call last)",
            "\u001b[1;32m<ipython-input-34-dded3b2fff79>\u001b[0m in \u001b[0;36m<module>\u001b[1;34m()\u001b[0m\n\u001b[1;32m----> 1\u001b[1;33m \u001b[0mf\u001b[0m \u001b[1;33m=\u001b[0m \u001b[0mnp\u001b[0m\u001b[1;33m.\u001b[0m\u001b[0mdot\u001b[0m\u001b[1;33m(\u001b[0m\u001b[0mm\u001b[0m\u001b[1;33m,\u001b[0m\u001b[0mn\u001b[0m\u001b[1;33m)\u001b[0m\u001b[1;33m\u001b[0m\u001b[0m\n\u001b[0m\u001b[0;32m      2\u001b[0m \u001b[0mf\u001b[0m\u001b[1;33m.\u001b[0m\u001b[0mshape\u001b[0m\u001b[1;33m\u001b[0m\u001b[0m\n",
            "\u001b[1;31mValueError\u001b[0m: shapes (10,1) and (10,10) not aligned: 1 (dim 1) != 10 (dim 0)"
          ]
        }
      ]
    },
    {
      "cell_type": "code",
      "metadata": {
        "id": "5Z-TmVpgvuLs",
        "colab_type": "code",
        "outputId": "9282040b-2979-462a-baef-8ffafa6f295c",
        "colab": {}
      },
      "source": [
        "f = np.matmul(m,n)\n",
        "f.shape"
      ],
      "execution_count": 0,
      "outputs": [
        {
          "output_type": "error",
          "ename": "ValueError",
          "evalue": "shapes (10,1) and (10,10) not aligned: 1 (dim 1) != 10 (dim 0)",
          "traceback": [
            "\u001b[1;31m---------------------------------------------------------------------------\u001b[0m",
            "\u001b[1;31mValueError\u001b[0m                                Traceback (most recent call last)",
            "\u001b[1;32m<ipython-input-35-3b5748238de4>\u001b[0m in \u001b[0;36m<module>\u001b[1;34m()\u001b[0m\n\u001b[1;32m----> 1\u001b[1;33m \u001b[0mf\u001b[0m \u001b[1;33m=\u001b[0m \u001b[0mnp\u001b[0m\u001b[1;33m.\u001b[0m\u001b[0mmatmul\u001b[0m\u001b[1;33m(\u001b[0m\u001b[0mm\u001b[0m\u001b[1;33m,\u001b[0m\u001b[0mn\u001b[0m\u001b[1;33m)\u001b[0m\u001b[1;33m\u001b[0m\u001b[0m\n\u001b[0m\u001b[0;32m      2\u001b[0m \u001b[0mf\u001b[0m\u001b[1;33m.\u001b[0m\u001b[0mshape\u001b[0m\u001b[1;33m\u001b[0m\u001b[0m\n",
            "\u001b[1;31mValueError\u001b[0m: shapes (10,1) and (10,10) not aligned: 1 (dim 1) != 10 (dim 0)"
          ]
        }
      ]
    },
    {
      "cell_type": "code",
      "metadata": {
        "id": "6npQgOlUvuLx",
        "colab_type": "code",
        "outputId": "ee10d1d7-339f-4e5a-aa67-a47ce4790c84",
        "colab": {}
      },
      "source": [
        "f = np.matmul(n,m)\n",
        "f,f.shape"
      ],
      "execution_count": 0,
      "outputs": [
        {
          "output_type": "execute_result",
          "data": {
            "text/plain": [
              "(array([[-2.06785082],\n",
              "        [-0.90008519],\n",
              "        [-3.93859517],\n",
              "        [ 1.65370812],\n",
              "        [ 2.86325654],\n",
              "        [ 3.77359199],\n",
              "        [ 1.76122254],\n",
              "        [ 4.02057214],\n",
              "        [-0.24372968],\n",
              "        [ 2.23089828]]), (10, 1))"
            ]
          },
          "metadata": {
            "tags": []
          },
          "execution_count": 38
        }
      ]
    },
    {
      "cell_type": "code",
      "metadata": {
        "scrolled": true,
        "id": "DaTuS42cvuL1",
        "colab_type": "code",
        "colab": {}
      },
      "source": [
        "m=np.random.randn(10)"
      ],
      "execution_count": 0,
      "outputs": []
    },
    {
      "cell_type": "code",
      "metadata": {
        "id": "YEF2wuF9vuL4",
        "colab_type": "code",
        "outputId": "3888852d-b039-4efd-ac0f-c040b8b19778",
        "colab": {}
      },
      "source": [
        "m,m.shape"
      ],
      "execution_count": 0,
      "outputs": [
        {
          "output_type": "execute_result",
          "data": {
            "text/plain": [
              "(array([-0.09649918,  2.25235253,  1.19713507, -0.39983193, -0.75044478,\n",
              "        -1.23662454, -0.68081023,  1.02435108,  0.81584545, -0.25768081]),\n",
              " (10,))"
            ]
          },
          "metadata": {
            "tags": []
          },
          "execution_count": 50
        }
      ]
    },
    {
      "cell_type": "code",
      "metadata": {
        "id": "PUAhc63SvuL9",
        "colab_type": "code",
        "outputId": "f08372ef-bf1e-4bae-c9af-ca0d98bbd3ac",
        "colab": {}
      },
      "source": [
        "n=np.random.randn(10)\n",
        "n,n.shape"
      ],
      "execution_count": 0,
      "outputs": [
        {
          "output_type": "execute_result",
          "data": {
            "text/plain": [
              "(array([ 1.28534477, -0.2874923 , -0.20905756,  0.68716119,  0.28250232,\n",
              "         1.08146923,  1.12420758,  0.77187411,  0.43248163,  0.08872952]),\n",
              " (10,))"
            ]
          },
          "metadata": {
            "tags": []
          },
          "execution_count": 51
        }
      ]
    },
    {
      "cell_type": "code",
      "metadata": {
        "id": "Oi127aD8vuMA",
        "colab_type": "code",
        "colab": {}
      },
      "source": [
        "f =np.dot(m,n)"
      ],
      "execution_count": 0,
      "outputs": []
    },
    {
      "cell_type": "code",
      "metadata": {
        "id": "IvBvtWoWvuMC",
        "colab_type": "code",
        "outputId": "507bebbd-2f6e-4413-de3e-4804c6e71f4f",
        "colab": {}
      },
      "source": [
        "f,f.shape"
      ],
      "execution_count": 0,
      "outputs": [
        {
          "output_type": "execute_result",
          "data": {
            "text/plain": [
              "(-2.4906892930014672, ())"
            ]
          },
          "metadata": {
            "tags": []
          },
          "execution_count": 53
        }
      ]
    },
    {
      "cell_type": "code",
      "metadata": {
        "id": "Z-i7eB9svuMF",
        "colab_type": "code",
        "colab": {}
      },
      "source": [
        "f =np.matmul(m,n)"
      ],
      "execution_count": 0,
      "outputs": []
    },
    {
      "cell_type": "code",
      "metadata": {
        "id": "WvhghHDMvuMJ",
        "colab_type": "code",
        "outputId": "32c3dc54-0826-4c2f-8c07-93ea13674476",
        "colab": {}
      },
      "source": [
        "f,f.shape"
      ],
      "execution_count": 0,
      "outputs": [
        {
          "output_type": "execute_result",
          "data": {
            "text/plain": [
              "(-2.4906892930014672, ())"
            ]
          },
          "metadata": {
            "tags": []
          },
          "execution_count": 55
        }
      ]
    },
    {
      "cell_type": "code",
      "metadata": {
        "id": "yd-9QWiUvuMN",
        "colab_type": "code",
        "colab": {}
      },
      "source": [
        "f =np.matmul(n,m)"
      ],
      "execution_count": 0,
      "outputs": []
    },
    {
      "cell_type": "code",
      "metadata": {
        "id": "RJgrqbmvvuMU",
        "colab_type": "code",
        "outputId": "7d107808-fe92-4cdf-b738-f37a711103f7",
        "colab": {}
      },
      "source": [
        "f,f.shape"
      ],
      "execution_count": 0,
      "outputs": [
        {
          "output_type": "execute_result",
          "data": {
            "text/plain": [
              "(-2.4906892930014672, ())"
            ]
          },
          "metadata": {
            "tags": []
          },
          "execution_count": 57
        }
      ]
    },
    {
      "cell_type": "code",
      "metadata": {
        "id": "Tnqdf51tvuMX",
        "colab_type": "code",
        "colab": {}
      },
      "source": [
        "m=np.random.randn(10,1)\n",
        "n=np.random.randn(10)"
      ],
      "execution_count": 0,
      "outputs": []
    },
    {
      "cell_type": "code",
      "metadata": {
        "id": "ZsArvhkRvuMa",
        "colab_type": "code",
        "outputId": "86f45ad4-941a-4db4-d9e8-43e7f6c3a483",
        "colab": {}
      },
      "source": [
        "f1 = np.dot(n,m)\n",
        "f2 =np.matmul(n,m)\n",
        "f1.shape, f2.shape"
      ],
      "execution_count": 0,
      "outputs": [
        {
          "output_type": "execute_result",
          "data": {
            "text/plain": [
              "((1,), (1,))"
            ]
          },
          "metadata": {
            "tags": []
          },
          "execution_count": 62
        }
      ]
    },
    {
      "cell_type": "code",
      "metadata": {
        "id": "3yLKgyy0vuMg",
        "colab_type": "code",
        "outputId": "7e24dc57-143f-4279-9c3b-87ed2039cc35",
        "colab": {}
      },
      "source": [
        "f1"
      ],
      "execution_count": 0,
      "outputs": [
        {
          "output_type": "execute_result",
          "data": {
            "text/plain": [
              "array([-0.05349772])"
            ]
          },
          "metadata": {
            "tags": []
          },
          "execution_count": 63
        }
      ]
    },
    {
      "cell_type": "code",
      "metadata": {
        "id": "vNi_0oMHvuMl",
        "colab_type": "code",
        "outputId": "64fc430e-ef15-4820-9c9b-fb7aae7b7037",
        "colab": {}
      },
      "source": [
        "f2"
      ],
      "execution_count": 0,
      "outputs": [
        {
          "output_type": "execute_result",
          "data": {
            "text/plain": [
              "array([-0.05349772])"
            ]
          },
          "metadata": {
            "tags": []
          },
          "execution_count": 64
        }
      ]
    },
    {
      "cell_type": "code",
      "metadata": {
        "id": "hzbzBnojvuMq",
        "colab_type": "code",
        "colab": {}
      },
      "source": [
        "f2 =np.dot(n,10)"
      ],
      "execution_count": 0,
      "outputs": []
    },
    {
      "cell_type": "code",
      "metadata": {
        "id": "X0PgpHSdvuMv",
        "colab_type": "code",
        "outputId": "6547be20-3203-4803-ee33-01e608aa27de",
        "colab": {}
      },
      "source": [
        "import numpy as np\n",
        "from io import StringIO\n",
        "data = u\"  1  2  3\\n  4  5 67\\n890123  4\"\n",
        "np.genfromtxt(StringIO(data), delimiter=3)\n"
      ],
      "execution_count": 0,
      "outputs": [
        {
          "output_type": "execute_result",
          "data": {
            "text/plain": [
              "array([[  1.,   2.,   3.],\n",
              "       [  4.,   5.,  67.],\n",
              "       [890., 123.,   4.]])"
            ]
          },
          "metadata": {
            "tags": []
          },
          "execution_count": 97
        }
      ]
    },
    {
      "cell_type": "code",
      "metadata": {
        "id": "nZdSeZArvuM1",
        "colab_type": "code",
        "colab": {}
      },
      "source": [
        ""
      ],
      "execution_count": 0,
      "outputs": []
    },
    {
      "cell_type": "code",
      "metadata": {
        "id": "SDoYuPdKvuM3",
        "colab_type": "code",
        "colab": {}
      },
      "source": [
        ""
      ],
      "execution_count": 0,
      "outputs": []
    },
    {
      "cell_type": "code",
      "metadata": {
        "id": "q9QtvSziv4rj",
        "colab_type": "code",
        "colab": {}
      },
      "source": [
        "# import  numpy as np\n",
        "# a=np.array([1,2,3])\n",
        "# b=np.array([(1,2,3,4),(7,8,9,10)],dtype=int)\n",
        "# print(a)\n",
        "# print(b)\n",
        "\n",
        "\"\"\"Initial placeholder\"\"\"\n",
        "# import numpy as np\n",
        "# import random\n",
        "# print(\" 1  dimensional array\\n\",np.zeros(3))  \n",
        "# print(\"2d array of all zeros\\n\",np.zeros((2,3)))  \n",
        "# print(\"3d array of all zero\\n\",np.zeros((3,2,4)))\n",
        "# print(\"3*4 array with all value2\\n\",np.full((3,4),2))\n",
        "# print(\"3*5 array of randomfloats between 0-1\\n\",np.random.rand(3,5))\n",
        "# print(\"3*4 array with all values 1\\n\",np.ones((3,4)))\n",
        "# print(\"4*4 array of 0 with 1 on diagonal\\n\",np.eye(4))\n",
        "\n",
        "\n",
        "'''saving'''\n",
        "# import numpy as np\n",
        "# a = np.arange(5)\n",
        "# print(\"a is: \")\n",
        "# print(a)\n",
        "# np.save('geekfile',a)\n",
        "\n",
        "\n",
        "'''Loading'''\n",
        "# import numpy as np \n",
        "# b= np.load('geekfile.npy')\n",
        "# print(\"b is: \")\n",
        "# print(b)\n",
        "\n",
        "'''text/csv file'''\n",
        "# import numpy as np\n",
        "# from io import StringIO\n",
        "# print(\"---load text---\")\n",
        "# x=StringIO(\"0 1 2 \\n3 4 5\")\n",
        "# y =np.loadtxt(x)\n",
        "# print(y)\n",
        "\n",
        "# print(\"---gen from txt---\")\n",
        "# data =u\"1,2,3,\\n4,5,6\"\n",
        "# b = np.genfromtxt(StringIO(data),delimiter=\",\")\n",
        "# print(\"gen from txt\",b)\n",
        "\n",
        "\n",
        "# print(\"---savetxt---\")\n",
        "# x = np.arange(0,10,1)\n",
        "# c = np.savetxt('testfile.txt',x,delimiter=' ')\n",
        "# a = open(\"testfile.txt\",'r')\n",
        "# print(\"the file contains: \")\n",
        "# print(a.read())\n",
        "\n",
        "\n",
        "'''properties'''\n",
        "# import numpy as np\n",
        "# a= np.array([[1,2,3]])\n",
        "# print(a.size)\n",
        "# print(a.shape)\n",
        "# print(a.dtype)\n",
        "# print(a)\n",
        "# print(np.copy(a))\n",
        "# print(a.view)\n",
        "\n",
        "\n",
        "\n",
        "'''Sorting'''\n",
        "# import numpy as np\n",
        "# a= np.array([[15,54,4,5,2,485],[10,55,31,1,44,32]])\n",
        "# print(np.sort(a))\n",
        "# print(np.sort(a,axis=1))\n",
        "# b = np.array([[1,2],[3,4],[5,6]])  \n",
        "# print(b.reshape(2,3))\n",
        "\n",
        "\n",
        "'''adding'''\n",
        "# import numpy as np\n",
        "# a = np.array([[1,2,3],[4,5,6]])\n",
        "# print(np.append(a,7))\n",
        "# print(np.insert(a,4,8))\n",
        "\n",
        "\n",
        "'''Removing'''\n",
        "# import numpy as np\n",
        "# a= np.array([1,2,3,4,5])\n",
        "# print(np.delete(a,2,axis=0))\n",
        "# print(np.delete(a,3,axis=0))\n",
        "\n",
        "\n",
        "'''combining'''\n",
        "# import numpy as np\n",
        "# a = np.array([1,2,3,4,5]) \n",
        "# b = np.array([6,7,8,9,10])\n",
        "# print(np.concatenate((a,b),axis = 0))\n",
        "# print(np.concatenate((b,a),axis = 0))\n",
        "\n",
        "\n",
        "\n",
        "'''split'''\n",
        "# import numpy as np\n",
        "# a = np.array([1,2,3,4,5,6])\n",
        "# print(np.split(a,3))\n",
        "\n",
        "\n",
        "'''indexing'''\n",
        "# import numpy as np\n",
        "# a = np.array([[1,1],[2,2],[3,3] ])\n",
        "# a[0]=7\n",
        "# a[1,0]=1\n",
        "# print(a)\n",
        "\n",
        "\n",
        "'''subseting'''\n",
        "# import numpy as np\n",
        "# a = np.array([[1,2,3,4,5],[2,3,4,5,6],[3,4,5,6,7]])\n",
        "# b = np.array([1,2,3,4]) \n",
        "# print(b[2])\n",
        "# print(a[2,4])\n",
        "\n",
        "\n",
        "'''slicing'''\n",
        "# import numpy as np\n",
        "# a = np.array([[1,2,3,4,5],[10,11,12,13,14],[15,16,17,18,19]])\n",
        "# b = np.array([1,2,3,4,5,6]) \n",
        "# print(b[0:4])\n",
        "# print(a[0:2,4])\n",
        "# print(b[:2])\n",
        "# print(\"abc: \",a[:,4])\n",
        "\n",
        "\n",
        "\n",
        "'''maths'''\n",
        "# import numpy as np\n",
        "# a = 400\n",
        "# b = 40\n",
        "# print(\"add\",np.add(a,b))\n",
        "# print(\"subtract\",np.subtract(a,b))\n",
        "# print(\"multiply\",np.multiply(a,b))\n",
        "# print(\"division\",np.divide(a,b))\n",
        "# print(\"exponentiation\",np.exp(a))\n",
        "# print(\"Square root\",np.sqrt(b))\n",
        "# print(\"comparision\",a==b)\n",
        "\n",
        "# w = np.array([1,2,3,4,5,6])\n",
        "# x= np.array([1,2,3,4,5,6])\n",
        "# print(\"array wise compare\",np.array_equal(w,x))\n",
        "\n",
        "\n",
        "'''functions'''\n",
        "import numpy as np\n",
        "a = np.array([20,2,1,34])\n",
        "print(\"array wise sum\",a.sum())\n",
        "print(\"array wise min value: \",a.min())\n",
        "print(\"array wise max value: \",a.max(axis=0))\n",
        "print(\"Mean\", a.mean())\n",
        "print(\"Median\",np.median(a))"
      ],
      "execution_count": 0,
      "outputs": []
    },
    {
      "cell_type": "markdown",
      "metadata": {
        "id": "BdUOBn_oCoMS",
        "colab_type": "text"
      },
      "source": [
        "#numpy tutorial"
      ]
    },
    {
      "cell_type": "code",
      "metadata": {
        "id": "RcYVLWNDCnXn",
        "colab_type": "code",
        "outputId": "a8785366-7aa4-477e-f8a8-63277ccb6ab8",
        "colab": {
          "base_uri": "https://localhost:8080/",
          "height": 68
        }
      },
      "source": [
        "import numpy as np\n",
        "a = np.arange(15).reshape(3,5)\n",
        "print(a)"
      ],
      "execution_count": 0,
      "outputs": [
        {
          "output_type": "stream",
          "text": [
            "[[ 0  1  2  3  4]\n",
            " [ 5  6  7  8  9]\n",
            " [10 11 12 13 14]]\n"
          ],
          "name": "stdout"
        }
      ]
    },
    {
      "cell_type": "code",
      "metadata": {
        "id": "wIxRx1iiDCMS",
        "colab_type": "code",
        "outputId": "4cd11362-1c0b-49f7-d2d7-bb505330ea9a",
        "colab": {
          "base_uri": "https://localhost:8080/",
          "height": 34
        }
      },
      "source": [
        "a.shape"
      ],
      "execution_count": 0,
      "outputs": [
        {
          "output_type": "execute_result",
          "data": {
            "text/plain": [
              "(3, 5)"
            ]
          },
          "metadata": {
            "tags": []
          },
          "execution_count": 4
        }
      ]
    },
    {
      "cell_type": "code",
      "metadata": {
        "id": "qnV762ebDTq5",
        "colab_type": "code",
        "outputId": "e034c42b-aef2-4abb-d6a1-19b41e12762a",
        "colab": {
          "base_uri": "https://localhost:8080/",
          "height": 34
        }
      },
      "source": [
        "a.ndim"
      ],
      "execution_count": 0,
      "outputs": [
        {
          "output_type": "execute_result",
          "data": {
            "text/plain": [
              "2"
            ]
          },
          "metadata": {
            "tags": []
          },
          "execution_count": 5
        }
      ]
    },
    {
      "cell_type": "code",
      "metadata": {
        "id": "4kw1_Xn5DXBT",
        "colab_type": "code",
        "outputId": "1bdfbf2f-ffe2-4b30-bb40-408fac91b435",
        "colab": {
          "base_uri": "https://localhost:8080/",
          "height": 34
        }
      },
      "source": [
        "a.dtype.name"
      ],
      "execution_count": 0,
      "outputs": [
        {
          "output_type": "execute_result",
          "data": {
            "text/plain": [
              "'int64'"
            ]
          },
          "metadata": {
            "tags": []
          },
          "execution_count": 6
        }
      ]
    },
    {
      "cell_type": "code",
      "metadata": {
        "id": "j7OqRfe_DaTS",
        "colab_type": "code",
        "outputId": "b14e5254-113b-47f8-a1ac-e8ffd669ad15",
        "colab": {
          "base_uri": "https://localhost:8080/",
          "height": 34
        }
      },
      "source": [
        "a.itemsize"
      ],
      "execution_count": 0,
      "outputs": [
        {
          "output_type": "execute_result",
          "data": {
            "text/plain": [
              "8"
            ]
          },
          "metadata": {
            "tags": []
          },
          "execution_count": 7
        }
      ]
    },
    {
      "cell_type": "code",
      "metadata": {
        "id": "W5KRavc2DedB",
        "colab_type": "code",
        "outputId": "17c0fd0e-811c-4419-dbec-0bcedb039aee",
        "colab": {
          "base_uri": "https://localhost:8080/",
          "height": 34
        }
      },
      "source": [
        "a.size"
      ],
      "execution_count": 0,
      "outputs": [
        {
          "output_type": "execute_result",
          "data": {
            "text/plain": [
              "15"
            ]
          },
          "metadata": {
            "tags": []
          },
          "execution_count": 8
        }
      ]
    },
    {
      "cell_type": "code",
      "metadata": {
        "id": "FwFLNcCNDgCB",
        "colab_type": "code",
        "outputId": "b730bfc4-bde8-4273-ee45-2e27f926a030",
        "colab": {
          "base_uri": "https://localhost:8080/",
          "height": 34
        }
      },
      "source": [
        "type(a)"
      ],
      "execution_count": 0,
      "outputs": [
        {
          "output_type": "execute_result",
          "data": {
            "text/plain": [
              "numpy.ndarray"
            ]
          },
          "metadata": {
            "tags": []
          },
          "execution_count": 9
        }
      ]
    },
    {
      "cell_type": "code",
      "metadata": {
        "id": "PeMuURZMDiOQ",
        "colab_type": "code",
        "colab": {}
      },
      "source": [
        "b=np.array([6,4,8])"
      ],
      "execution_count": 0,
      "outputs": []
    },
    {
      "cell_type": "code",
      "metadata": {
        "id": "Dmv0zO0wDsOp",
        "colab_type": "code",
        "outputId": "d5a3630d-ee47-4a13-c6cb-694253ce27a8",
        "colab": {
          "base_uri": "https://localhost:8080/",
          "height": 34
        }
      },
      "source": [
        "b"
      ],
      "execution_count": 0,
      "outputs": [
        {
          "output_type": "execute_result",
          "data": {
            "text/plain": [
              "array([6, 4, 8])"
            ]
          },
          "metadata": {
            "tags": []
          },
          "execution_count": 11
        }
      ]
    },
    {
      "cell_type": "code",
      "metadata": {
        "id": "FH-VOREGDtH5",
        "colab_type": "code",
        "outputId": "dd10b64c-b692-447d-a7bc-a7acfd57ad82",
        "colab": {
          "base_uri": "https://localhost:8080/",
          "height": 34
        }
      },
      "source": [
        "type(b)"
      ],
      "execution_count": 0,
      "outputs": [
        {
          "output_type": "execute_result",
          "data": {
            "text/plain": [
              "numpy.ndarray"
            ]
          },
          "metadata": {
            "tags": []
          },
          "execution_count": 12
        }
      ]
    },
    {
      "cell_type": "code",
      "metadata": {
        "id": "qzOMqE8SDvnY",
        "colab_type": "code",
        "colab": {}
      },
      "source": [
        "import numpy as np\n",
        "a =np.array([2,3,4])"
      ],
      "execution_count": 0,
      "outputs": []
    },
    {
      "cell_type": "code",
      "metadata": {
        "id": "WeLBL1VIEIWI",
        "colab_type": "code",
        "outputId": "ec2f0a8c-8359-4d09-b2f2-7dc5a12e0cfc",
        "colab": {
          "base_uri": "https://localhost:8080/",
          "height": 34
        }
      },
      "source": [
        "a"
      ],
      "execution_count": 0,
      "outputs": [
        {
          "output_type": "execute_result",
          "data": {
            "text/plain": [
              "array([2, 3, 4])"
            ]
          },
          "metadata": {
            "tags": []
          },
          "execution_count": 14
        }
      ]
    },
    {
      "cell_type": "code",
      "metadata": {
        "id": "r5BUfSYLEJW4",
        "colab_type": "code",
        "outputId": "11449854-fd91-4da3-87ea-02468ef0b453",
        "colab": {
          "base_uri": "https://localhost:8080/",
          "height": 34
        }
      },
      "source": [
        "a.dtype"
      ],
      "execution_count": 0,
      "outputs": [
        {
          "output_type": "execute_result",
          "data": {
            "text/plain": [
              "dtype('int64')"
            ]
          },
          "metadata": {
            "tags": []
          },
          "execution_count": 15
        }
      ]
    },
    {
      "cell_type": "code",
      "metadata": {
        "id": "DPBQxrCzENH4",
        "colab_type": "code",
        "outputId": "6369097b-8e86-4076-ceac-ff75f22cb192",
        "colab": {
          "base_uri": "https://localhost:8080/",
          "height": 34
        }
      },
      "source": [
        "b = np.array([1.2,3.2,5.1])\n",
        "b.dtype"
      ],
      "execution_count": 0,
      "outputs": [
        {
          "output_type": "execute_result",
          "data": {
            "text/plain": [
              "dtype('float64')"
            ]
          },
          "metadata": {
            "tags": []
          },
          "execution_count": 16
        }
      ]
    },
    {
      "cell_type": "code",
      "metadata": {
        "id": "VjJsLTeWEq8j",
        "colab_type": "code",
        "outputId": "e20240e5-5a21-4cb7-f397-3731584f39d7",
        "colab": {
          "base_uri": "https://localhost:8080/",
          "height": 51
        }
      },
      "source": [
        "b=np.array([(1.5,2,3),(4,5,6)])\n",
        "b"
      ],
      "execution_count": 0,
      "outputs": [
        {
          "output_type": "execute_result",
          "data": {
            "text/plain": [
              "array([[1.5, 2. , 3. ],\n",
              "       [4. , 5. , 6. ]])"
            ]
          },
          "metadata": {
            "tags": []
          },
          "execution_count": 18
        }
      ]
    },
    {
      "cell_type": "code",
      "metadata": {
        "id": "OeuJQQD9FBrX",
        "colab_type": "code",
        "outputId": "684ddc22-e771-4bb6-90b0-81b661267406",
        "colab": {
          "base_uri": "https://localhost:8080/",
          "height": 51
        }
      },
      "source": [
        "c=np.array([[1,2],[3,4]],dtype=complex)\n",
        "c"
      ],
      "execution_count": 0,
      "outputs": [
        {
          "output_type": "execute_result",
          "data": {
            "text/plain": [
              "array([[1.+0.j, 2.+0.j],\n",
              "       [3.+0.j, 4.+0.j]])"
            ]
          },
          "metadata": {
            "tags": []
          },
          "execution_count": 22
        }
      ]
    },
    {
      "cell_type": "code",
      "metadata": {
        "id": "EYvSsyQ2FT-m",
        "colab_type": "code",
        "outputId": "c1b9d2af-90e8-4fa2-f38e-aa9de8b39bd9",
        "colab": {
          "base_uri": "https://localhost:8080/",
          "height": 68
        }
      },
      "source": [
        "np.zeros((3,4))"
      ],
      "execution_count": 0,
      "outputs": [
        {
          "output_type": "execute_result",
          "data": {
            "text/plain": [
              "array([[0., 0., 0., 0.],\n",
              "       [0., 0., 0., 0.],\n",
              "       [0., 0., 0., 0.]])"
            ]
          },
          "metadata": {
            "tags": []
          },
          "execution_count": 23
        }
      ]
    },
    {
      "cell_type": "code",
      "metadata": {
        "id": "8VPhwcvsFlDl",
        "colab_type": "code",
        "outputId": "306d3f22-3b01-4aba-f9f2-5a074e6eb0cb",
        "colab": {
          "base_uri": "https://localhost:8080/",
          "height": 136
        }
      },
      "source": [
        "np.ones((2,3,4),dtype=np.int16)"
      ],
      "execution_count": 0,
      "outputs": [
        {
          "output_type": "execute_result",
          "data": {
            "text/plain": [
              "array([[[1, 1, 1, 1],\n",
              "        [1, 1, 1, 1],\n",
              "        [1, 1, 1, 1]],\n",
              "\n",
              "       [[1, 1, 1, 1],\n",
              "        [1, 1, 1, 1],\n",
              "        [1, 1, 1, 1]]], dtype=int16)"
            ]
          },
          "metadata": {
            "tags": []
          },
          "execution_count": 24
        }
      ]
    },
    {
      "cell_type": "code",
      "metadata": {
        "id": "tUIsmmwAGNuD",
        "colab_type": "code",
        "outputId": "15b35478-7892-4980-db7d-cd4877520003",
        "colab": {
          "base_uri": "https://localhost:8080/",
          "height": 51
        }
      },
      "source": [
        "np.empty((2,3))"
      ],
      "execution_count": 0,
      "outputs": [
        {
          "output_type": "execute_result",
          "data": {
            "text/plain": [
              "array([[1.5, 2. , 3. ],\n",
              "       [4. , 5. , 6. ]])"
            ]
          },
          "metadata": {
            "tags": []
          },
          "execution_count": 26
        }
      ]
    },
    {
      "cell_type": "code",
      "metadata": {
        "id": "4Ni7LjgqGUs1",
        "colab_type": "code",
        "outputId": "284ae614-99b8-4302-e12a-07271cf9c8ad",
        "colab": {
          "base_uri": "https://localhost:8080/",
          "height": 34
        }
      },
      "source": [
        "np.arange(10,30,5)"
      ],
      "execution_count": 0,
      "outputs": [
        {
          "output_type": "execute_result",
          "data": {
            "text/plain": [
              "array([10, 15, 20, 25])"
            ]
          },
          "metadata": {
            "tags": []
          },
          "execution_count": 27
        }
      ]
    },
    {
      "cell_type": "code",
      "metadata": {
        "id": "K_kVXio_Gxkf",
        "colab_type": "code",
        "outputId": "cdea6f2f-fa10-4fd8-83a7-694309b00ade",
        "colab": {
          "base_uri": "https://localhost:8080/",
          "height": 34
        }
      },
      "source": [
        "np.arange(0,2,0.3)"
      ],
      "execution_count": 0,
      "outputs": [
        {
          "output_type": "execute_result",
          "data": {
            "text/plain": [
              "array([0. , 0.3, 0.6, 0.9, 1.2, 1.5, 1.8])"
            ]
          },
          "metadata": {
            "tags": []
          },
          "execution_count": 29
        }
      ]
    },
    {
      "cell_type": "code",
      "metadata": {
        "id": "hzea4S1LHJ7j",
        "colab_type": "code",
        "outputId": "2d118328-d63b-4f86-ccb1-aec5ca5744a6",
        "colab": {
          "base_uri": "https://localhost:8080/",
          "height": 34
        }
      },
      "source": [
        "from numpy import pi\n",
        "np.linspace(0,2,9)\n"
      ],
      "execution_count": 0,
      "outputs": [
        {
          "output_type": "execute_result",
          "data": {
            "text/plain": [
              "array([0.  , 0.25, 0.5 , 0.75, 1.  , 1.25, 1.5 , 1.75, 2.  ])"
            ]
          },
          "metadata": {
            "tags": []
          },
          "execution_count": 32
        }
      ]
    },
    {
      "cell_type": "code",
      "metadata": {
        "id": "mE9exlFnHdtz",
        "colab_type": "code",
        "colab": {}
      },
      "source": [
        "x = np.linspace(0,2*pi,100)"
      ],
      "execution_count": 0,
      "outputs": []
    },
    {
      "cell_type": "code",
      "metadata": {
        "id": "LO6o7kbGHySS",
        "colab_type": "code",
        "outputId": "23712b4e-bc66-4d17-f35c-ca3580452927",
        "colab": {
          "base_uri": "https://localhost:8080/",
          "height": 357
        }
      },
      "source": [
        "x"
      ],
      "execution_count": 0,
      "outputs": [
        {
          "output_type": "execute_result",
          "data": {
            "text/plain": [
              "array([0.        , 0.06346652, 0.12693304, 0.19039955, 0.25386607,\n",
              "       0.31733259, 0.38079911, 0.44426563, 0.50773215, 0.57119866,\n",
              "       0.63466518, 0.6981317 , 0.76159822, 0.82506474, 0.88853126,\n",
              "       0.95199777, 1.01546429, 1.07893081, 1.14239733, 1.20586385,\n",
              "       1.26933037, 1.33279688, 1.3962634 , 1.45972992, 1.52319644,\n",
              "       1.58666296, 1.65012947, 1.71359599, 1.77706251, 1.84052903,\n",
              "       1.90399555, 1.96746207, 2.03092858, 2.0943951 , 2.15786162,\n",
              "       2.22132814, 2.28479466, 2.34826118, 2.41172769, 2.47519421,\n",
              "       2.53866073, 2.60212725, 2.66559377, 2.72906028, 2.7925268 ,\n",
              "       2.85599332, 2.91945984, 2.98292636, 3.04639288, 3.10985939,\n",
              "       3.17332591, 3.23679243, 3.30025895, 3.36372547, 3.42719199,\n",
              "       3.4906585 , 3.55412502, 3.61759154, 3.68105806, 3.74452458,\n",
              "       3.8079911 , 3.87145761, 3.93492413, 3.99839065, 4.06185717,\n",
              "       4.12532369, 4.1887902 , 4.25225672, 4.31572324, 4.37918976,\n",
              "       4.44265628, 4.5061228 , 4.56958931, 4.63305583, 4.69652235,\n",
              "       4.75998887, 4.82345539, 4.88692191, 4.95038842, 5.01385494,\n",
              "       5.07732146, 5.14078798, 5.2042545 , 5.26772102, 5.33118753,\n",
              "       5.39465405, 5.45812057, 5.52158709, 5.58505361, 5.64852012,\n",
              "       5.71198664, 5.77545316, 5.83891968, 5.9023862 , 5.96585272,\n",
              "       6.02931923, 6.09278575, 6.15625227, 6.21971879, 6.28318531])"
            ]
          },
          "metadata": {
            "tags": []
          },
          "execution_count": 34
        }
      ]
    },
    {
      "cell_type": "code",
      "metadata": {
        "id": "cfrHiplrHyrh",
        "colab_type": "code",
        "colab": {}
      },
      "source": [
        "f =np.sin(x)\n",
        "f"
      ],
      "execution_count": 0,
      "outputs": []
    },
    {
      "cell_type": "code",
      "metadata": {
        "id": "1xCpDgoFH61j",
        "colab_type": "code",
        "outputId": "89d61566-bff1-48a6-f66b-bc9592f6eef2",
        "colab": {
          "base_uri": "https://localhost:8080/",
          "height": 34
        }
      },
      "source": [
        "a=np.arange(6)\n",
        "print(a)"
      ],
      "execution_count": 0,
      "outputs": [
        {
          "output_type": "stream",
          "text": [
            "[0 1 2 3 4 5]\n"
          ],
          "name": "stdout"
        }
      ]
    },
    {
      "cell_type": "code",
      "metadata": {
        "id": "09rEkr9CIDnh",
        "colab_type": "code",
        "outputId": "d15b420e-354e-4fa9-abff-f7cb369e727b",
        "colab": {
          "base_uri": "https://localhost:8080/",
          "height": 85
        }
      },
      "source": [
        "b=np.arange(12).reshape(4,3)\n",
        "print(b)"
      ],
      "execution_count": 0,
      "outputs": [
        {
          "output_type": "stream",
          "text": [
            "[[ 0  1  2]\n",
            " [ 3  4  5]\n",
            " [ 6  7  8]\n",
            " [ 9 10 11]]\n"
          ],
          "name": "stdout"
        }
      ]
    },
    {
      "cell_type": "code",
      "metadata": {
        "id": "F6F2-6JGIvSw",
        "colab_type": "code",
        "outputId": "c4faba73-3d84-4124-d3cf-d6907ee36bbc",
        "colab": {
          "base_uri": "https://localhost:8080/",
          "height": 136
        }
      },
      "source": [
        "c =np.arange(24).reshape(2,3,4)\n",
        "print(c)"
      ],
      "execution_count": 0,
      "outputs": [
        {
          "output_type": "stream",
          "text": [
            "[[[ 0  1  2  3]\n",
            "  [ 4  5  6  7]\n",
            "  [ 8  9 10 11]]\n",
            "\n",
            " [[12 13 14 15]\n",
            "  [16 17 18 19]\n",
            "  [20 21 22 23]]]\n"
          ],
          "name": "stdout"
        }
      ]
    },
    {
      "cell_type": "code",
      "metadata": {
        "id": "N1npoaeqI5Eg",
        "colab_type": "code",
        "outputId": "24bb75cc-b85e-4c62-c151-a382f7c48f72",
        "colab": {
          "base_uri": "https://localhost:8080/",
          "height": 34
        }
      },
      "source": [
        "print(np.arange(10000))"
      ],
      "execution_count": 0,
      "outputs": [
        {
          "output_type": "stream",
          "text": [
            "[   0    1    2 ... 9997 9998 9999]\n"
          ],
          "name": "stdout"
        }
      ]
    },
    {
      "cell_type": "code",
      "metadata": {
        "id": "TvwqnESMJx8p",
        "colab_type": "code",
        "outputId": "6ad81b67-c865-4ba2-be7e-5a57ce37c2a2",
        "colab": {
          "base_uri": "https://localhost:8080/",
          "height": 136
        }
      },
      "source": [
        "print(np.arange(10000).reshape(100,100))"
      ],
      "execution_count": 0,
      "outputs": [
        {
          "output_type": "stream",
          "text": [
            "[[   0    1    2 ...   97   98   99]\n",
            " [ 100  101  102 ...  197  198  199]\n",
            " [ 200  201  202 ...  297  298  299]\n",
            " ...\n",
            " [9700 9701 9702 ... 9797 9798 9799]\n",
            " [9800 9801 9802 ... 9897 9898 9899]\n",
            " [9900 9901 9902 ... 9997 9998 9999]]\n"
          ],
          "name": "stdout"
        }
      ]
    },
    {
      "cell_type": "code",
      "metadata": {
        "id": "G_YoNf0aKCNO",
        "colab_type": "code",
        "outputId": "93253695-4cf1-463b-ba71-94936179fb86",
        "colab": {
          "base_uri": "https://localhost:8080/",
          "height": 136
        }
      },
      "source": [
        "x =(np.arange(10000).reshape(100,100))\n",
        "np.set_printoptions(x)\n",
        "x"
      ],
      "execution_count": 0,
      "outputs": [
        {
          "output_type": "execute_result",
          "data": {
            "text/plain": [
              "array([[   0,    1,    2, ...,   97,   98,   99],\n",
              "       [ 100,  101,  102, ...,  197,  198,  199],\n",
              "       [ 200,  201,  202, ...,  297,  298,  299],\n",
              "       ...,\n",
              "       [9700, 9701, 9702, ..., 9797, 9798, 9799],\n",
              "       [9800, 9801, 9802, ..., 9897, 9898, 9899],\n",
              "       [9900, 9901, 9902, ..., 9997, 9998, 9999]])"
            ]
          },
          "metadata": {
            "tags": []
          },
          "execution_count": 57
        }
      ]
    },
    {
      "cell_type": "code",
      "metadata": {
        "id": "U4ADlO5kKMm_",
        "colab_type": "code",
        "outputId": "048b4f20-ed4a-4879-cbc2-283d9f9befc9",
        "colab": {
          "base_uri": "https://localhost:8080/",
          "height": 34
        }
      },
      "source": [
        "a = np.array([20,30,40,50])\n",
        "b= np.arange(4)\n",
        "b"
      ],
      "execution_count": 0,
      "outputs": [
        {
          "output_type": "execute_result",
          "data": {
            "text/plain": [
              "array([0, 1, 2, 3])"
            ]
          },
          "metadata": {
            "tags": []
          },
          "execution_count": 64
        }
      ]
    },
    {
      "cell_type": "code",
      "metadata": {
        "id": "IK6U_Ce-Mp4P",
        "colab_type": "code",
        "outputId": "a327f652-8d57-4226-9cf5-ba6f891be7da",
        "colab": {
          "base_uri": "https://localhost:8080/",
          "height": 34
        }
      },
      "source": [
        "c = a-b\n",
        "c"
      ],
      "execution_count": 0,
      "outputs": [
        {
          "output_type": "execute_result",
          "data": {
            "text/plain": [
              "array([20, 29, 38, 47])"
            ]
          },
          "metadata": {
            "tags": []
          },
          "execution_count": 65
        }
      ]
    },
    {
      "cell_type": "code",
      "metadata": {
        "id": "vEb2G4cpM3Po",
        "colab_type": "code",
        "outputId": "d7d66cf4-424c-437f-e26b-82c4a7c4bf23",
        "colab": {
          "base_uri": "https://localhost:8080/",
          "height": 34
        }
      },
      "source": [
        "b**2"
      ],
      "execution_count": 0,
      "outputs": [
        {
          "output_type": "execute_result",
          "data": {
            "text/plain": [
              "array([0, 1, 4, 9])"
            ]
          },
          "metadata": {
            "tags": []
          },
          "execution_count": 66
        }
      ]
    },
    {
      "cell_type": "code",
      "metadata": {
        "id": "HiV-UIK_NMcJ",
        "colab_type": "code",
        "outputId": "ee687a76-c8fe-4b5a-9e59-6ad536bab9ae",
        "colab": {
          "base_uri": "https://localhost:8080/",
          "height": 34
        }
      },
      "source": [
        "10*np.sin(b)\n",
        "a<35"
      ],
      "execution_count": 0,
      "outputs": [
        {
          "output_type": "execute_result",
          "data": {
            "text/plain": [
              "array([ True,  True, False, False])"
            ]
          },
          "metadata": {
            "tags": []
          },
          "execution_count": 72
        }
      ]
    },
    {
      "cell_type": "code",
      "metadata": {
        "id": "-e4_-cAgNd74",
        "colab_type": "code",
        "outputId": "9accf8df-f965-4fbd-dc2f-9da0a7bda400",
        "colab": {
          "base_uri": "https://localhost:8080/",
          "height": 68
        }
      },
      "source": [
        "A= np.array([[1,1],\n",
        "             [0,1],\n",
        "             [5,6]])\n",
        "B=np.array([[2,2],\n",
        "           [3,4]])\n",
        "# A*B\n",
        "A@B\n",
        "# A.dot(B)"
      ],
      "execution_count": 0,
      "outputs": [
        {
          "output_type": "execute_result",
          "data": {
            "text/plain": [
              "array([[ 5,  6],\n",
              "       [ 3,  4],\n",
              "       [28, 34]])"
            ]
          },
          "metadata": {
            "tags": []
          },
          "execution_count": 86
        }
      ]
    },
    {
      "cell_type": "code",
      "metadata": {
        "id": "x05Oo5g5PDct",
        "colab_type": "code",
        "outputId": "b490d890-fcbf-47b2-f520-40958489537f",
        "colab": {
          "base_uri": "https://localhost:8080/",
          "height": 34
        }
      },
      "source": [
        "a = np.ones((2,3),dtype=int)\n",
        "b = np.random.random((2,3))\n",
        "b+=a\n",
        "print(b.all())"
      ],
      "execution_count": 0,
      "outputs": [
        {
          "output_type": "stream",
          "text": [
            "True\n"
          ],
          "name": "stdout"
        }
      ]
    },
    {
      "cell_type": "markdown",
      "metadata": {
        "id": "nz5Gi7anV-nR",
        "colab_type": "text"
      },
      "source": [
        ""
      ]
    },
    {
      "cell_type": "markdown",
      "metadata": {
        "id": "razHljkxRbsS",
        "colab_type": "text"
      },
      "source": [
        "# shape manipulation\n"
      ]
    },
    {
      "cell_type": "code",
      "metadata": {
        "id": "LQYlyBBFYk70",
        "colab_type": "code",
        "outputId": "4ff335a0-697c-4c0d-bc39-65d16d3227f9",
        "colab": {
          "base_uri": "https://localhost:8080/",
          "height": 217
        }
      },
      "source": [
        "import numpy as  np\n",
        "# a= np.array([[ 5,  6],\n",
        "#              [ 3,  4],\n",
        "#              [28, 34]])\n",
        "# print(a)\n",
        "# a.shape  '''shape of array'''\n",
        "# a.ravel()  '''returns the array in flatten'''\n",
        "# a.reshape(6,2)  #returns the array with modified shape\n",
        "# a.T  #return the array transpose\n",
        "# a.T.shape    #returns the shape of transposed array\n",
        "# a.reshape(3,-1)\n",
        "\n",
        "\n",
        "# stacking together different arrays\n",
        "# b= np.array([[ 6,  7],\n",
        "#              [ 1,  2],\n",
        "#              [27, 33]])\n",
        "# np.vstack((a,b))  # the array is in vertical form\n",
        "# np.hstack((a,b))  #the array is in horizontal format\n",
        "# from numpy import newaxis\n",
        "# np.column_stack((a,b))  #with 2D array\n",
        "\n",
        "# a = np.array([4,3])\n",
        "# b = np.array([1,2])\n",
        "# np.column_stack((a,b))\n",
        "# np.hstack((a,b))   \n",
        "# a[:,newaxis]  #in scalar format\n",
        "# np.column_stack((a[:,newaxis],b[:,newaxis]))\n",
        "# np.hstack((a[:,newaxis],b[:,newaxis]))\n",
        "\n",
        "# Splitting one array into several smaller ones\n",
        "\n",
        "a =np.array([[ 9.,  5.,  6.,  3.,  6.,  8.,  0.,  7.,  9.,  7.,  2.,  7.],\n",
        "       [ 1.,  4.,  9.,  2.,  2.,  1.,  0.,  6.,  2.,  2.,  4.,  0.]])\n",
        "# np.hsplit(a,3)   #split into 3\n",
        "np.hsplit(a(3,4))\n"
      ],
      "execution_count": 0,
      "outputs": [
        {
          "output_type": "error",
          "ename": "TypeError",
          "evalue": "ignored",
          "traceback": [
            "\u001b[0;31m---------------------------------------------------------------------------\u001b[0m",
            "\u001b[0;31mTypeError\u001b[0m                                 Traceback (most recent call last)",
            "\u001b[0;32m<ipython-input-32-7742243ea568>\u001b[0m in \u001b[0;36m<module>\u001b[0;34m()\u001b[0m\n\u001b[1;32m     34\u001b[0m        [ 1.,  4.,  9.,  2.,  2.,  1.,  0.,  6.,  2.,  2.,  4.,  0.]])\n\u001b[1;32m     35\u001b[0m \u001b[0;31m# np.hsplit(a,3)   #split into 3\u001b[0m\u001b[0;34m\u001b[0m\u001b[0;34m\u001b[0m\u001b[0;34m\u001b[0m\u001b[0m\n\u001b[0;32m---> 36\u001b[0;31m \u001b[0mnp\u001b[0m\u001b[0;34m.\u001b[0m\u001b[0mhsplit\u001b[0m\u001b[0;34m(\u001b[0m\u001b[0ma\u001b[0m\u001b[0;34m(\u001b[0m\u001b[0;36m3\u001b[0m\u001b[0;34m,\u001b[0m\u001b[0;36m4\u001b[0m\u001b[0;34m)\u001b[0m\u001b[0;34m)\u001b[0m\u001b[0;34m\u001b[0m\u001b[0;34m\u001b[0m\u001b[0m\n\u001b[0m",
            "\u001b[0;31mTypeError\u001b[0m: 'numpy.ndarray' object is not callable"
          ]
        }
      ]
    },
    {
      "cell_type": "code",
      "metadata": {
        "id": "lGg5vMJ7WJQZ",
        "colab_type": "code",
        "outputId": "b5ce13b7-11f3-472b-88a5-bbc4a69055e3",
        "colab": {
          "base_uri": "https://localhost:8080/",
          "height": 405
        }
      },
      "source": [
        "# Importing Modules\n",
        "from sklearn import datasets\n",
        "import matplotlib.pyplot as plt\n",
        "\n",
        "# Loading dataset\n",
        "iris_df = datasets.load_iris()\n",
        "\n",
        "# Available methods on dataset\n",
        "print(dir(iris_df))\n",
        "\n",
        "# Features\n",
        "print(iris_df.feature_names)\n",
        "\n",
        "# Targets\n",
        "print(iris_df.target)\n",
        "\n",
        "# Target Names\n",
        "print(iris_df.target_names)\n",
        "label = {0: 'red', 1: 'blue', 2: 'green'}\n",
        "\n",
        "# Dataset Slicing\n",
        "x_axis = iris_df.data[:, 0]  # Sepal Length\n",
        "y_axis = iris_df.data[:, 2]  # Sepal Width\n",
        "\n",
        "# Plotting\n",
        "plt.scatter(x_axis, y_axis, c=iris_df.target)\n",
        "plt.show()"
      ],
      "execution_count": 0,
      "outputs": [
        {
          "output_type": "stream",
          "text": [
            "['DESCR', 'data', 'feature_names', 'filename', 'target', 'target_names']\n",
            "['sepal length (cm)', 'sepal width (cm)', 'petal length (cm)', 'petal width (cm)']\n",
            "[0 0 0 0 0 0 0 0 0 0 0 0 0 0 0 0 0 0 0 0 0 0 0 0 0 0 0 0 0 0 0 0 0 0 0 0 0\n",
            " 0 0 0 0 0 0 0 0 0 0 0 0 0 1 1 1 1 1 1 1 1 1 1 1 1 1 1 1 1 1 1 1 1 1 1 1 1\n",
            " 1 1 1 1 1 1 1 1 1 1 1 1 1 1 1 1 1 1 1 1 1 1 1 1 1 1 2 2 2 2 2 2 2 2 2 2 2\n",
            " 2 2 2 2 2 2 2 2 2 2 2 2 2 2 2 2 2 2 2 2 2 2 2 2 2 2 2 2 2 2 2 2 2 2 2 2 2\n",
            " 2 2]\n",
            "['setosa' 'versicolor' 'virginica']\n"
          ],
          "name": "stdout"
        },
        {
          "output_type": "display_data",
          "data": {
            "image/png": "[encoded data removed]",
            "text/plain": [
              "<Figure size 432x288 with 1 Axes>"
            ]
          },
          "metadata": {
            "tags": []
          }
        }
      ]
    },
    {
      "cell_type": "code",
      "metadata": {
        "id": "ULLorMMKWiX_",
        "colab_type": "code",
        "outputId": "6fd9c533-6c6e-4127-8c19-2cc27e2afd5a",
        "colab": {
          "base_uri": "https://localhost:8080/",
          "height": 119
        }
      },
      "source": [
        "# Importing Modules\n",
        "from sklearn import datasets\n",
        "from sklearn.cluster import KMeans\n",
        "\n",
        "# Loading dataset\n",
        "iris_df = datasets.load_iris()\n",
        "\n",
        "# Declaring Model\n",
        "model = KMeans(n_clusters=3)\n",
        "\n",
        "# Fitting Model\n",
        "model.fit(iris_df.data)\n",
        "\n",
        "# Predicitng a single input\n",
        "predicted_label = model.predict([[7.2, 3.5, 0.8, 1.6]])\n",
        "\n",
        "# Prediction on the entire data\n",
        "all_predictions = model.predict(iris_df.data)\n",
        "\n",
        "# Printing Predictions\n",
        "print(predicted_label)\n",
        "print(all_predictions)"
      ],
      "execution_count": 0,
      "outputs": [
        {
          "output_type": "stream",
          "text": [
            "[1]\n",
            "[1 1 1 1 1 1 1 1 1 1 1 1 1 1 1 1 1 1 1 1 1 1 1 1 1 1 1 1 1 1 1 1 1 1 1 1 1\n",
            " 1 1 1 1 1 1 1 1 1 1 1 1 1 0 0 2 0 0 0 0 0 0 0 0 0 0 0 0 0 0 0 0 0 0 0 0 0\n",
            " 0 0 0 2 0 0 0 0 0 0 0 0 0 0 0 0 0 0 0 0 0 0 0 0 0 0 2 0 2 2 2 2 0 2 2 2 2\n",
            " 2 2 0 0 2 2 2 2 0 2 0 2 0 2 2 0 0 2 2 2 2 2 0 2 2 2 2 0 2 2 2 0 2 2 2 0 2\n",
            " 2 0]\n"
          ],
          "name": "stdout"
        }
      ]
    },
    {
      "cell_type": "code",
      "metadata": {
        "id": "W4X7KBMwWrP6",
        "colab_type": "code",
        "outputId": "2f756b4e-21b4-4697-ae00-b19cd10e7de4",
        "colab": {
          "base_uri": "https://localhost:8080/",
          "height": 307
        }
      },
      "source": [
        ""
      ],
      "execution_count": 0,
      "outputs": [
        {
          "output_type": "display_data",
          "data": {
            "image/png": "[encoded data removed]",
            "text/plain": [
              "<Figure size 432x288 with 1 Axes>"
            ]
          },
          "metadata": {
            "tags": []
          }
        }
      ]
    },
    {
      "cell_type": "code",
      "metadata": {
        "id": "gSbLrIYvWx4Z",
        "colab_type": "code",
        "colab": {}
      },
      "source": [
        ""
      ],
      "execution_count": 0,
      "outputs": []
    }
  ]
}