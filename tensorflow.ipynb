{
  "nbformat": 4,
  "nbformat_minor": 0,
  "metadata": {
    "colab": {
      "name": "tensorflow.ipynb",
      "version": "0.3.2",
      "provenance": [],
      "collapsed_sections": []
    },
    "kernelspec": {
      "name": "python3",
      "display_name": "Python 3"
    }
  },
  "cells": [
    {
      "cell_type": "markdown",
      "metadata": {
        "id": "i79c6Djx_K_Q",
        "colab_type": "text"
      },
      "source": [
        "#assignment1"
      ]
    },
    {
      "cell_type": "code",
      "metadata": {
        "id": "w-rYlaevmU7H",
        "colab_type": "code",
        "outputId": "29a2c6b3-717b-4729-9793-368a9da2e2ba",
        "colab": {
          "base_uri": "https://localhost:8080/",
          "height": 136
        }
      },
      "source": [
        "import tensorflow as tf\n",
        "mnist = tf.keras.datasets.mnist\n",
        "(x_train,y_train), (x_test,y_test) = mnist.load_data()\n",
        "x_train = tf.keras.utils.normalize(x_train,axis = 1)\n",
        "x_test = tf.keras.utils.normalize(x_test,axis = 1)\n",
        "model = tf.keras.models.Sequential()\n",
        "model.add(tf.keras.layers.Flatten())\n",
        "model.add(tf.keras.layers.Dense(128, activation = tf.nn.relu))\n",
        "model.add(tf.keras.layers.Dense(128, activation = tf.nn.relu))\n",
        "model.add(tf.keras.layers.Dense(10, activation = tf.nn.softmax))\n",
        "\n",
        "model.compile(optimizer ='adam',\n",
        "             loss='sparse_categorical_crossentropy',\n",
        "             metrics=['accuracy'])\n",
        "model.fit(x_train,y_train,epochs = 3)"
      ],
      "execution_count": 0,
      "outputs": [
        {
          "output_type": "stream",
          "text": [
            "Epoch 1/3\n",
            "60000/60000 [==============================] - 8s 128us/sample - loss: 0.2663 - acc: 0.9222\n",
            "Epoch 2/3\n",
            "60000/60000 [==============================] - 8s 127us/sample - loss: 0.1105 - acc: 0.9664\n",
            "Epoch 3/3\n",
            "60000/60000 [==============================] - 8s 127us/sample - loss: 0.0750 - acc: 0.9763\n"
          ],
          "name": "stdout"
        },
        {
          "output_type": "execute_result",
          "data": {
            "text/plain": [
              "<tensorflow.python.keras.callbacks.History at 0x7f6277a41160>"
            ]
          },
          "metadata": {
            "tags": []
          },
          "execution_count": 65
        }
      ]
    },
    {
      "cell_type": "code",
      "metadata": {
        "id": "gyI-9hG642bP",
        "colab_type": "code",
        "colab": {}
      },
      "source": [
        "import matplotlib.pyplot as plt\n",
        "plt.imshow(x_train[0],cmap = plt.cm.binary)\n",
        "plt.show()"
      ],
      "execution_count": 0,
      "outputs": []
    },
    {
      "cell_type": "code",
      "metadata": {
        "id": "AToC5Yt400PX",
        "colab_type": "code",
        "outputId": "71757800-63d6-4241-ec4c-00276f91d199",
        "colab": {
          "base_uri": "https://localhost:8080/",
          "height": 51
        }
      },
      "source": [
        "val_loss,val_acc = model.evaluate(x_test,y_test)\n",
        "print(val_loss,val_acc)"
      ],
      "execution_count": 0,
      "outputs": [
        {
          "output_type": "stream",
          "text": [
            "10000/10000 [==============================] - 1s 51us/sample - loss: 0.1064 - acc: 0.9669\n",
            "0.10642078010169789 0.9669\n"
          ],
          "name": "stdout"
        }
      ]
    },
    {
      "cell_type": "code",
      "metadata": {
        "id": "mRWNhAXRmoZ3",
        "colab_type": "code",
        "outputId": "b1a9bffa-11c4-4095-979b-6b233021aa54",
        "colab": {
          "base_uri": "https://localhost:8080/",
          "height": 269
        }
      },
      "source": [
        ""
      ],
      "execution_count": 0,
      "outputs": [
        {
          "output_type": "display_data",
          "data": {
            "image/png": "[encoded data removed]",
            "text/plain": [
              "<Figure size 432x288 with 1 Axes>"
            ]
          },
          "metadata": {
            "tags": []
          }
        }
      ]
    },
    {
      "cell_type": "code",
      "metadata": {
        "id": "MW8c_5va1si0",
        "colab_type": "code",
        "outputId": "4291a4f5-953f-45fd-9d81-3128d82da9da",
        "colab": {
          "base_uri": "https://localhost:8080/",
          "height": 275
        }
      },
      "source": [
        "model.save('epic_num_reader.model')\n",
        "new_model= tf.keras.models.load_model('epic_num_reader.model')\n",
        "predictions= new_model.predict(x_test)\n",
        "print(predictions)"
      ],
      "execution_count": 0,
      "outputs": [
        {
          "output_type": "stream",
          "text": [
            "WARNING:tensorflow:Sequential models without an `input_shape` passed to the first layer cannot reload their optimizer state. As a result, your model isstarting with a freshly initialized optimizer.\n",
            "[[6.3715532e-08 1.1241688e-06 5.3886539e-05 ... 9.9721211e-01\n",
            "  2.3235600e-07 7.3068162e-07]\n",
            " [1.1763462e-08 2.4286474e-04 9.9974710e-01 ... 1.3853575e-09\n",
            "  6.5305778e-07 1.2045117e-11]\n",
            " [7.3758962e-08 9.9976450e-01 3.7098810e-06 ... 3.3515455e-05\n",
            "  1.7985037e-04 1.6665552e-07]\n",
            " ...\n",
            " [4.5868309e-09 7.1289878e-07 6.8738679e-08 ... 2.9312914e-05\n",
            "  1.9378099e-06 6.3063938e-04]\n",
            " [2.0672917e-07 1.7519035e-08 5.6774532e-09 ... 4.6814632e-09\n",
            "  2.2070919e-05 1.4748034e-08]\n",
            " [3.0003073e-09 1.4732637e-08 2.3566948e-08 ... 7.5258785e-11\n",
            "  5.5739172e-08 8.4714441e-10]]\n"
          ],
          "name": "stdout"
        }
      ]
    },
    {
      "cell_type": "code",
      "metadata": {
        "id": "YFZybnsl3LMI",
        "colab_type": "code",
        "outputId": "2422c3e0-981d-4333-bab1-4006915716e9",
        "colab": {
          "base_uri": "https://localhost:8080/",
          "height": 34
        }
      },
      "source": [
        "import numpy as np\n",
        "print(np.argmax(predictions[2]))"
      ],
      "execution_count": 0,
      "outputs": [
        {
          "output_type": "stream",
          "text": [
            "1\n"
          ],
          "name": "stdout"
        }
      ]
    },
    {
      "cell_type": "code",
      "metadata": {
        "id": "0wKrGSmA6qYT",
        "colab_type": "code",
        "outputId": "8fe1e299-4928-441a-8042-cd4f8d2a4f9f",
        "colab": {
          "base_uri": "https://localhost:8080/",
          "height": 269
        }
      },
      "source": [
        "plt.imshow(x_test[2])\n",
        "plt.show()"
      ],
      "execution_count": 0,
      "outputs": [
        {
          "output_type": "display_data",
          "data": {
            "image/png": "[encoded data removed]",
            "text/plain": [
              "<Figure size 432x288 with 1 Axes>"
            ]
          },
          "metadata": {
            "tags": []
          }
        }
      ]
    },
    {
      "cell_type": "markdown",
      "metadata": {
        "id": "fg-Q545j_sih",
        "colab_type": "text"
      },
      "source": [
        "#Fashion(https://www.tensorflow.org/tutorials/keras/basic_classification)\n",
        "\n"
      ]
    },
    {
      "cell_type": "code",
      "metadata": {
        "id": "zMZkoISnUf4s",
        "colab_type": "code",
        "colab": {}
      },
      "source": [
        "# basic classification\n",
        "\n",
        "from __future__ import absolute_import, division, print_function\n",
        "import tensorflow as tf\n",
        "from tensorflow import keras\n",
        "import numpy as np\n",
        "import matplotlib.pyplot as plt\n",
        "fashion_mnist = keras.datasets.fashion_mnist\n",
        "(train_images, train_labels),(test_images, test_labels) = fashion_mnist.load_data()\n",
        "\n",
        "class_name = ['T-Shirt/top','Trouser','Pullover','Dress','Coat','Sandal','Shirt','Sneaker','Bag','Ankle Boot']\n",
        "train_images.shape\n",
        "len(train_labels)\n",
        "train_labels\n",
        "\n",
        "test_images.shape\n",
        "len(train_labels)\n",
        "plt.figure()\n",
        "plt.imshow(train_images[0])\n",
        "plt.colorbar()\n",
        "plt.grid(False)\n",
        "plt.show()"
      ],
      "execution_count": 0,
      "outputs": []
    },
    {
      "cell_type": "code",
      "metadata": {
        "id": "CJbv6hI6VBOe",
        "colab_type": "code",
        "colab": {}
      },
      "source": [
        "train_images = train_images/255.0\n",
        "test_images = test_images/255.0\n"
      ],
      "execution_count": 0,
      "outputs": []
    },
    {
      "cell_type": "code",
      "metadata": {
        "id": "nHnXYn4f1JrD",
        "colab_type": "code",
        "colab": {}
      },
      "source": [
        "plt.figure(figsize= (10,10))\n",
        "for i in range(25):\n",
        "  plt.subplot(5, 5, i+1)\n",
        "  plt.xticks([])\n",
        "  plt.yticks([])\n",
        "  plt.grid(False)\n",
        "  plt.imshow(train_images[i],cmap = plt.cm.binary)\n",
        "  plt.xlabel(class_name[train_labels[i]])\n",
        "plt.show()"
      ],
      "execution_count": 0,
      "outputs": []
    },
    {
      "cell_type": "code",
      "metadata": {
        "id": "0ddHzmL-14ZK",
        "colab_type": "code",
        "colab": {}
      },
      "source": [
        "model = keras.Sequential([\n",
        "    keras.layers.Flatten(input_shape=(28,28)),\n",
        "    keras.layers.Dense(128,activation = tf.nn.relu),\n",
        "    keras.layers.Dense(10,activation = tf.nn.softmax)\n",
        "])"
      ],
      "execution_count": 0,
      "outputs": []
    },
    {
      "cell_type": "code",
      "metadata": {
        "id": "BvfoX-QX5goD",
        "colab_type": "code",
        "colab": {}
      },
      "source": [
        "model.compile(optimizer = 'adam',\n",
        "            loss='sparse_categorical_crossentropy',\n",
        "            metrics=['accuracy'])"
      ],
      "execution_count": 0,
      "outputs": []
    },
    {
      "cell_type": "code",
      "metadata": {
        "id": "VWsZNMDw6ekJ",
        "colab_type": "code",
        "colab": {}
      },
      "source": [
        "model.fit(train_images, train_labels,epochs = 5)"
      ],
      "execution_count": 0,
      "outputs": []
    },
    {
      "cell_type": "code",
      "metadata": {
        "id": "qmsGq3Qg80Oh",
        "colab_type": "code",
        "colab": {}
      },
      "source": [
        "test_loss, test_acc = model.evaluate(test_images,test_labels)\n",
        "print('test_accuracy: ',test_acc)"
      ],
      "execution_count": 0,
      "outputs": []
    },
    {
      "cell_type": "code",
      "metadata": {
        "id": "Ak-k5ig69UUP",
        "colab_type": "code",
        "colab": {}
      },
      "source": [
        "predictions = model.predict(test_images)\n",
        "predictions[0]\n",
        "np.argmax(predictions[0])\n",
        "test_labels[0]"
      ],
      "execution_count": 0,
      "outputs": []
    },
    {
      "cell_type": "code",
      "metadata": {
        "id": "axUBVHcQ977T",
        "colab_type": "code",
        "colab": {}
      },
      "source": [
        "def plot_image(i, predictions_array, true_label, img):\n",
        "  predictions_array,true_label,img = predictions_array[i],true_label[i],img[i]\n",
        "  plt.grid(False)\n",
        "  plt.xticks([])\n",
        "  plt.yticks([])\n",
        "  plt.imshow(img, cmap = plt.cm.binary)\n",
        "  predicted_label = np.argmax(predictions_array)\n",
        "  if predicted_label == true_label:\n",
        "    color = 'blue'\n",
        "  else:\n",
        "    color = 'red'\n",
        "  plt.xlabel(\"{} {:2.0f}% ({})\".format(class_name[predicted_label],\n",
        "                                      100*np.max(predictions_array),\n",
        "                                      class_name[true_label]),\n",
        "                                      color = color)\n",
        "  \n",
        "  \n",
        "def plot_value_array(i, predictions_array, true_label):\n",
        "  predictions_array, true_label = predictions_array[i], true_label[i]\n",
        "  plt.grid(False)\n",
        "  plt.xticks([])\n",
        "  plt.yticks([])\n",
        "  thisplot = plt.bar(range(10),predictions_array, color = '#777777')\n",
        "  plt.ylim([0,1])\n",
        "  predicted_label =np.argmax(predictions_array)\n",
        "  thisplot[predicted_label].set_color('red')\n",
        "  thisplot[true_label].set_color('blue')\n"
      ],
      "execution_count": 0,
      "outputs": []
    },
    {
      "cell_type": "code",
      "metadata": {
        "id": "8KN4zd2YGVoC",
        "colab_type": "code",
        "colab": {}
      },
      "source": [
        "i =1\n",
        "plt.figure(figsize = (6,3))\n",
        "plt.subplot(1,2,1)\n",
        "plot_image(i, predictions, test_labels, test_images)\n",
        "plt.subplot(1,2,2)\n",
        "plot_value_array(i, predictions,  test_labels)\n",
        "plt.show()"
      ],
      "execution_count": 0,
      "outputs": []
    },
    {
      "cell_type": "code",
      "metadata": {
        "id": "GJ0yuS3WIZhe",
        "colab_type": "code",
        "colab": {}
      },
      "source": [
        "i  = 17\n",
        "plt.figure(figsize = (6,3))\n",
        "plt.subplot(1,2,1)\n",
        "plot_image(i, predictions, test_labels, test_images)\n",
        "plt.subplot(1,2,2)\n",
        "plot_value_array(i,predictions,test_labels)\n",
        "plt.show()"
      ],
      "execution_count": 0,
      "outputs": []
    },
    {
      "cell_type": "markdown",
      "metadata": {
        "id": "C1FrJyKWHVNU",
        "colab_type": "text"
      },
      "source": [
        "#text classification"
      ]
    },
    {
      "cell_type": "code",
      "metadata": {
        "id": "aih8RXdBMpsg",
        "colab_type": "code",
        "outputId": "2c1669df-30cd-412c-d474-5bd8c2e6002f",
        "colab": {
          "base_uri": "https://localhost:8080/",
          "height": 374
        }
      },
      "source": [
        "from __future__ import absolute_import, division, print_function\n",
        "import tensorflow as tf\n",
        "from tensorflow import keras\n",
        "import numpy as np\n",
        "print(tf.__version__)\n",
        "# imdb = keras.datasets.imdb\n",
        "imdb = keras.datasets.imdb\n",
        "# (train_data,train_labels),(test_data, test_labels) = imdb.load_data(num_words=10000) \n",
        "\n",
        "(train_data, train_labels), (test_data, test_labels) = imdb.load_data(num_words=10000)\n",
        "print(\"training entries: {}, label:{}\".format(len(train_data,train_labels)))"
      ],
      "execution_count": 0,
      "outputs": [
        {
          "output_type": "stream",
          "text": [
            "1.13.1\n"
          ],
          "name": "stdout"
        },
        {
          "output_type": "error",
          "ename": "ValueError",
          "evalue": "ignored",
          "traceback": [
            "\u001b[0;31m---------------------------------------------------------------------------\u001b[0m",
            "\u001b[0;31mValueError\u001b[0m                                Traceback (most recent call last)",
            "\u001b[0;32m<ipython-input-15-0a5fd1880768>\u001b[0m in \u001b[0;36m<module>\u001b[0;34m()\u001b[0m\n\u001b[1;32m      8\u001b[0m \u001b[0;31m# (train_data,train_labels),(test_data, test_labels) = imdb.load_data(num_words=10000)\u001b[0m\u001b[0;34m\u001b[0m\u001b[0;34m\u001b[0m\u001b[0;34m\u001b[0m\u001b[0m\n\u001b[1;32m      9\u001b[0m \u001b[0;34m\u001b[0m\u001b[0m\n\u001b[0;32m---> 10\u001b[0;31m \u001b[0;34m(\u001b[0m\u001b[0mtrain_data\u001b[0m\u001b[0;34m,\u001b[0m \u001b[0mtrain_labels\u001b[0m\u001b[0;34m)\u001b[0m\u001b[0;34m,\u001b[0m \u001b[0;34m(\u001b[0m\u001b[0mtest_data\u001b[0m\u001b[0;34m,\u001b[0m \u001b[0mtest_labels\u001b[0m\u001b[0;34m)\u001b[0m \u001b[0;34m=\u001b[0m \u001b[0mimdb\u001b[0m\u001b[0;34m.\u001b[0m\u001b[0mload_data\u001b[0m\u001b[0;34m(\u001b[0m\u001b[0mnum_words\u001b[0m\u001b[0;34m=\u001b[0m\u001b[0;36m10000\u001b[0m\u001b[0;34m)\u001b[0m\u001b[0;34m\u001b[0m\u001b[0;34m\u001b[0m\u001b[0m\n\u001b[0m\u001b[1;32m     11\u001b[0m \u001b[0mprint\u001b[0m\u001b[0;34m(\u001b[0m\u001b[0;34m\"training entries: {}, label:{}\"\u001b[0m\u001b[0;34m.\u001b[0m\u001b[0mformat\u001b[0m\u001b[0;34m(\u001b[0m\u001b[0mlen\u001b[0m\u001b[0;34m(\u001b[0m\u001b[0mtrain_data\u001b[0m\u001b[0;34m,\u001b[0m\u001b[0mtrain_labels\u001b[0m\u001b[0;34m)\u001b[0m\u001b[0;34m)\u001b[0m\u001b[0;34m)\u001b[0m\u001b[0;34m\u001b[0m\u001b[0;34m\u001b[0m\u001b[0m\n",
            "\u001b[0;32m/usr/local/lib/python3.6/dist-packages/tensorflow/python/keras/datasets/imdb.py\u001b[0m in \u001b[0;36mload_data\u001b[0;34m(path, num_words, skip_top, maxlen, seed, start_char, oov_char, index_from, **kwargs)\u001b[0m\n\u001b[1;32m     84\u001b[0m       file_hash='599dadb1135973df5b59232a0e9a887c')\n\u001b[1;32m     85\u001b[0m   \u001b[0;32mwith\u001b[0m \u001b[0mnp\u001b[0m\u001b[0;34m.\u001b[0m\u001b[0mload\u001b[0m\u001b[0;34m(\u001b[0m\u001b[0mpath\u001b[0m\u001b[0;34m)\u001b[0m \u001b[0;32mas\u001b[0m \u001b[0mf\u001b[0m\u001b[0;34m:\u001b[0m\u001b[0;34m\u001b[0m\u001b[0;34m\u001b[0m\u001b[0m\n\u001b[0;32m---> 86\u001b[0;31m     \u001b[0mx_train\u001b[0m\u001b[0;34m,\u001b[0m \u001b[0mlabels_train\u001b[0m \u001b[0;34m=\u001b[0m \u001b[0mf\u001b[0m\u001b[0;34m[\u001b[0m\u001b[0;34m'x_train'\u001b[0m\u001b[0;34m]\u001b[0m\u001b[0;34m,\u001b[0m \u001b[0mf\u001b[0m\u001b[0;34m[\u001b[0m\u001b[0;34m'y_train'\u001b[0m\u001b[0;34m]\u001b[0m\u001b[0;34m\u001b[0m\u001b[0;34m\u001b[0m\u001b[0m\n\u001b[0m\u001b[1;32m     87\u001b[0m     \u001b[0mx_test\u001b[0m\u001b[0;34m,\u001b[0m \u001b[0mlabels_test\u001b[0m \u001b[0;34m=\u001b[0m \u001b[0mf\u001b[0m\u001b[0;34m[\u001b[0m\u001b[0;34m'x_test'\u001b[0m\u001b[0;34m]\u001b[0m\u001b[0;34m,\u001b[0m \u001b[0mf\u001b[0m\u001b[0;34m[\u001b[0m\u001b[0;34m'y_test'\u001b[0m\u001b[0;34m]\u001b[0m\u001b[0;34m\u001b[0m\u001b[0;34m\u001b[0m\u001b[0m\n\u001b[1;32m     88\u001b[0m \u001b[0;34m\u001b[0m\u001b[0m\n",
            "\u001b[0;32m/usr/local/lib/python3.6/dist-packages/numpy/lib/npyio.py\u001b[0m in \u001b[0;36m__getitem__\u001b[0;34m(self, key)\u001b[0m\n\u001b[1;32m    260\u001b[0m                 return format.read_array(bytes,\n\u001b[1;32m    261\u001b[0m                                          \u001b[0mallow_pickle\u001b[0m\u001b[0;34m=\u001b[0m\u001b[0mself\u001b[0m\u001b[0;34m.\u001b[0m\u001b[0mallow_pickle\u001b[0m\u001b[0;34m,\u001b[0m\u001b[0;34m\u001b[0m\u001b[0;34m\u001b[0m\u001b[0m\n\u001b[0;32m--> 262\u001b[0;31m                                          pickle_kwargs=self.pickle_kwargs)\n\u001b[0m\u001b[1;32m    263\u001b[0m             \u001b[0;32melse\u001b[0m\u001b[0;34m:\u001b[0m\u001b[0;34m\u001b[0m\u001b[0;34m\u001b[0m\u001b[0m\n\u001b[1;32m    264\u001b[0m                 \u001b[0;32mreturn\u001b[0m \u001b[0mself\u001b[0m\u001b[0;34m.\u001b[0m\u001b[0mzip\u001b[0m\u001b[0;34m.\u001b[0m\u001b[0mread\u001b[0m\u001b[0;34m(\u001b[0m\u001b[0mkey\u001b[0m\u001b[0;34m)\u001b[0m\u001b[0;34m\u001b[0m\u001b[0;34m\u001b[0m\u001b[0m\n",
            "\u001b[0;32m/usr/local/lib/python3.6/dist-packages/numpy/lib/format.py\u001b[0m in \u001b[0;36mread_array\u001b[0;34m(fp, allow_pickle, pickle_kwargs)\u001b[0m\n\u001b[1;32m    690\u001b[0m         \u001b[0;31m# The array contained Python objects. We need to unpickle the data.\u001b[0m\u001b[0;34m\u001b[0m\u001b[0;34m\u001b[0m\u001b[0;34m\u001b[0m\u001b[0m\n\u001b[1;32m    691\u001b[0m         \u001b[0;32mif\u001b[0m \u001b[0;32mnot\u001b[0m \u001b[0mallow_pickle\u001b[0m\u001b[0;34m:\u001b[0m\u001b[0;34m\u001b[0m\u001b[0;34m\u001b[0m\u001b[0m\n\u001b[0;32m--> 692\u001b[0;31m             raise ValueError(\"Object arrays cannot be loaded when \"\n\u001b[0m\u001b[1;32m    693\u001b[0m                              \"allow_pickle=False\")\n\u001b[1;32m    694\u001b[0m         \u001b[0;32mif\u001b[0m \u001b[0mpickle_kwargs\u001b[0m \u001b[0;32mis\u001b[0m \u001b[0;32mNone\u001b[0m\u001b[0;34m:\u001b[0m\u001b[0;34m\u001b[0m\u001b[0;34m\u001b[0m\u001b[0m\n",
            "\u001b[0;31mValueError\u001b[0m: Object arrays cannot be loaded when allow_pickle=False"
          ]
        }
      ]
    },
    {
      "cell_type": "code",
      "metadata": {
        "id": "Gw9zYdA1HRfz",
        "colab_type": "code",
        "outputId": "3dee83a1-75f1-4c72-d6e5-fc257fed461f",
        "colab": {
          "base_uri": "https://localhost:8080/",
          "height": 357
        }
      },
      "source": [
        "from __future__ import absolute_import, division, print_function\n",
        "\n",
        "import tensorflow as tf\n",
        "from tensorflow import keras\n",
        "\n",
        "import numpy as np\n",
        "\n",
        "print(tf.__version__)\n",
        "imdb = keras.datasets.imdb\n",
        "\n",
        "(train_data, train_labels), (test_data, test_labels) = imdb.load_data(num_words=10000)"
      ],
      "execution_count": 0,
      "outputs": [
        {
          "output_type": "stream",
          "text": [
            "1.13.1\n"
          ],
          "name": "stdout"
        },
        {
          "output_type": "error",
          "ename": "ValueError",
          "evalue": "ignored",
          "traceback": [
            "\u001b[0;31m---------------------------------------------------------------------------\u001b[0m",
            "\u001b[0;31mValueError\u001b[0m                                Traceback (most recent call last)",
            "\u001b[0;32m<ipython-input-16-3be1bb5f54c9>\u001b[0m in \u001b[0;36m<module>\u001b[0;34m()\u001b[0m\n\u001b[1;32m      9\u001b[0m \u001b[0mimdb\u001b[0m \u001b[0;34m=\u001b[0m \u001b[0mkeras\u001b[0m\u001b[0;34m.\u001b[0m\u001b[0mdatasets\u001b[0m\u001b[0;34m.\u001b[0m\u001b[0mimdb\u001b[0m\u001b[0;34m\u001b[0m\u001b[0;34m\u001b[0m\u001b[0m\n\u001b[1;32m     10\u001b[0m \u001b[0;34m\u001b[0m\u001b[0m\n\u001b[0;32m---> 11\u001b[0;31m \u001b[0;34m(\u001b[0m\u001b[0mtrain_data\u001b[0m\u001b[0;34m,\u001b[0m \u001b[0mtrain_labels\u001b[0m\u001b[0;34m)\u001b[0m\u001b[0;34m,\u001b[0m \u001b[0;34m(\u001b[0m\u001b[0mtest_data\u001b[0m\u001b[0;34m,\u001b[0m \u001b[0mtest_labels\u001b[0m\u001b[0;34m)\u001b[0m \u001b[0;34m=\u001b[0m \u001b[0mimdb\u001b[0m\u001b[0;34m.\u001b[0m\u001b[0mload_data\u001b[0m\u001b[0;34m(\u001b[0m\u001b[0mnum_words\u001b[0m\u001b[0;34m=\u001b[0m\u001b[0;36m10000\u001b[0m\u001b[0;34m)\u001b[0m\u001b[0;34m\u001b[0m\u001b[0;34m\u001b[0m\u001b[0m\n\u001b[0m",
            "\u001b[0;32m/usr/local/lib/python3.6/dist-packages/tensorflow/python/keras/datasets/imdb.py\u001b[0m in \u001b[0;36mload_data\u001b[0;34m(path, num_words, skip_top, maxlen, seed, start_char, oov_char, index_from, **kwargs)\u001b[0m\n\u001b[1;32m     84\u001b[0m       file_hash='599dadb1135973df5b59232a0e9a887c')\n\u001b[1;32m     85\u001b[0m   \u001b[0;32mwith\u001b[0m \u001b[0mnp\u001b[0m\u001b[0;34m.\u001b[0m\u001b[0mload\u001b[0m\u001b[0;34m(\u001b[0m\u001b[0mpath\u001b[0m\u001b[0;34m)\u001b[0m \u001b[0;32mas\u001b[0m \u001b[0mf\u001b[0m\u001b[0;34m:\u001b[0m\u001b[0;34m\u001b[0m\u001b[0;34m\u001b[0m\u001b[0m\n\u001b[0;32m---> 86\u001b[0;31m     \u001b[0mx_train\u001b[0m\u001b[0;34m,\u001b[0m \u001b[0mlabels_train\u001b[0m \u001b[0;34m=\u001b[0m \u001b[0mf\u001b[0m\u001b[0;34m[\u001b[0m\u001b[0;34m'x_train'\u001b[0m\u001b[0;34m]\u001b[0m\u001b[0;34m,\u001b[0m \u001b[0mf\u001b[0m\u001b[0;34m[\u001b[0m\u001b[0;34m'y_train'\u001b[0m\u001b[0;34m]\u001b[0m\u001b[0;34m\u001b[0m\u001b[0;34m\u001b[0m\u001b[0m\n\u001b[0m\u001b[1;32m     87\u001b[0m     \u001b[0mx_test\u001b[0m\u001b[0;34m,\u001b[0m \u001b[0mlabels_test\u001b[0m \u001b[0;34m=\u001b[0m \u001b[0mf\u001b[0m\u001b[0;34m[\u001b[0m\u001b[0;34m'x_test'\u001b[0m\u001b[0;34m]\u001b[0m\u001b[0;34m,\u001b[0m \u001b[0mf\u001b[0m\u001b[0;34m[\u001b[0m\u001b[0;34m'y_test'\u001b[0m\u001b[0;34m]\u001b[0m\u001b[0;34m\u001b[0m\u001b[0;34m\u001b[0m\u001b[0m\n\u001b[1;32m     88\u001b[0m \u001b[0;34m\u001b[0m\u001b[0m\n",
            "\u001b[0;32m/usr/local/lib/python3.6/dist-packages/numpy/lib/npyio.py\u001b[0m in \u001b[0;36m__getitem__\u001b[0;34m(self, key)\u001b[0m\n\u001b[1;32m    260\u001b[0m                 return format.read_array(bytes,\n\u001b[1;32m    261\u001b[0m                                          \u001b[0mallow_pickle\u001b[0m\u001b[0;34m=\u001b[0m\u001b[0mself\u001b[0m\u001b[0;34m.\u001b[0m\u001b[0mallow_pickle\u001b[0m\u001b[0;34m,\u001b[0m\u001b[0;34m\u001b[0m\u001b[0;34m\u001b[0m\u001b[0m\n\u001b[0;32m--> 262\u001b[0;31m                                          pickle_kwargs=self.pickle_kwargs)\n\u001b[0m\u001b[1;32m    263\u001b[0m             \u001b[0;32melse\u001b[0m\u001b[0;34m:\u001b[0m\u001b[0;34m\u001b[0m\u001b[0;34m\u001b[0m\u001b[0m\n\u001b[1;32m    264\u001b[0m                 \u001b[0;32mreturn\u001b[0m \u001b[0mself\u001b[0m\u001b[0;34m.\u001b[0m\u001b[0mzip\u001b[0m\u001b[0;34m.\u001b[0m\u001b[0mread\u001b[0m\u001b[0;34m(\u001b[0m\u001b[0mkey\u001b[0m\u001b[0;34m)\u001b[0m\u001b[0;34m\u001b[0m\u001b[0;34m\u001b[0m\u001b[0m\n",
            "\u001b[0;32m/usr/local/lib/python3.6/dist-packages/numpy/lib/format.py\u001b[0m in \u001b[0;36mread_array\u001b[0;34m(fp, allow_pickle, pickle_kwargs)\u001b[0m\n\u001b[1;32m    690\u001b[0m         \u001b[0;31m# The array contained Python objects. We need to unpickle the data.\u001b[0m\u001b[0;34m\u001b[0m\u001b[0;34m\u001b[0m\u001b[0;34m\u001b[0m\u001b[0m\n\u001b[1;32m    691\u001b[0m         \u001b[0;32mif\u001b[0m \u001b[0;32mnot\u001b[0m \u001b[0mallow_pickle\u001b[0m\u001b[0;34m:\u001b[0m\u001b[0;34m\u001b[0m\u001b[0;34m\u001b[0m\u001b[0m\n\u001b[0;32m--> 692\u001b[0;31m             raise ValueError(\"Object arrays cannot be loaded when \"\n\u001b[0m\u001b[1;32m    693\u001b[0m                              \"allow_pickle=False\")\n\u001b[1;32m    694\u001b[0m         \u001b[0;32mif\u001b[0m \u001b[0mpickle_kwargs\u001b[0m \u001b[0;32mis\u001b[0m \u001b[0;32mNone\u001b[0m\u001b[0;34m:\u001b[0m\u001b[0;34m\u001b[0m\u001b[0;34m\u001b[0m\u001b[0m\n",
            "\u001b[0;31mValueError\u001b[0m: Object arrays cannot be loaded when allow_pickle=False"
          ]
        }
      ]
    },
    {
      "cell_type": "code",
      "metadata": {
        "id": "dB9gEEsgK97b",
        "colab_type": "code",
        "outputId": "6928535a-406b-486e-b59d-fd204e8dc085",
        "colab": {
          "base_uri": "https://localhost:8080/",
          "height": 367
        }
      },
      "source": [
        "pip install f\n",
        "from flask import *  \n",
        "from flask_mail import *  \n",
        "  \n",
        "app = Flask(__name__)  \n",
        "  \n",
        "#Flask mail configuration  \n",
        "app.config['MAIL_SERVER']='smtp.gmail.com'  \n",
        "app.config['MAIL_PORT']=465  \n",
        "app.config['MAIL_USERNAME'] = 'admin@gmail.com'  \n",
        "app.config['MAIL_PASSWORD'] = '******'  \n",
        "app.config['MAIL_USE_TLS'] = False  \n",
        "app.config['MAIL_USE_SSL'] = True  \n",
        "  \n",
        "#instantiate the Mail class  \n",
        "mail = Mail(app)  \n",
        "  \n",
        "#configure the Message class object and send the mail from a URL  \n",
        "@app.route('/')  \n",
        "def index():  \n",
        "    msg = Message('subject', sender = 'admin@gmail.com', recipients=['username@gmail.com'])  \n",
        "    msg.body = 'hi, this is the mail sent by using the flask web application'  \n",
        "    return \"Mail Sent, Please check the mail id\"  \n",
        "  \n",
        "if __name__ == '__main__':  \n",
        "    app.run(debug = True)  "
      ],
      "execution_count": 0,
      "outputs": [
        {
          "output_type": "error",
          "ename": "ModuleNotFoundError",
          "evalue": "ignored",
          "traceback": [
            "\u001b[0;31m---------------------------------------------------------------------------\u001b[0m",
            "\u001b[0;31mModuleNotFoundError\u001b[0m                       Traceback (most recent call last)",
            "\u001b[0;32m<ipython-input-1-08089ead00cd>\u001b[0m in \u001b[0;36m<module>\u001b[0;34m()\u001b[0m\n\u001b[1;32m      1\u001b[0m \u001b[0;32mfrom\u001b[0m \u001b[0mflask\u001b[0m \u001b[0;32mimport\u001b[0m \u001b[0;34m*\u001b[0m\u001b[0;34m\u001b[0m\u001b[0;34m\u001b[0m\u001b[0m\n\u001b[0;32m----> 2\u001b[0;31m \u001b[0;32mfrom\u001b[0m \u001b[0mflask_mail\u001b[0m \u001b[0;32mimport\u001b[0m \u001b[0;34m*\u001b[0m\u001b[0;34m\u001b[0m\u001b[0;34m\u001b[0m\u001b[0m\n\u001b[0m\u001b[1;32m      3\u001b[0m \u001b[0;34m\u001b[0m\u001b[0m\n\u001b[1;32m      4\u001b[0m \u001b[0mapp\u001b[0m \u001b[0;34m=\u001b[0m \u001b[0mFlask\u001b[0m\u001b[0;34m(\u001b[0m\u001b[0m__name__\u001b[0m\u001b[0;34m)\u001b[0m\u001b[0;34m\u001b[0m\u001b[0;34m\u001b[0m\u001b[0m\n\u001b[1;32m      5\u001b[0m \u001b[0;34m\u001b[0m\u001b[0m\n",
            "\u001b[0;31mModuleNotFoundError\u001b[0m: No module named 'flask_mail'",
            "",
            "\u001b[0;31m---------------------------------------------------------------------------\u001b[0;32m\nNOTE: If your import is failing due to a missing package, you can\nmanually install dependencies using either !pip or !apt.\n\nTo view examples of installing some common dependencies, click the\n\"Open Examples\" button below.\n\u001b[0;31m---------------------------------------------------------------------------\u001b[0m\n"
          ]
        }
      ]
    },
    {
      "cell_type": "code",
      "metadata": {
        "id": "bticWWzSxrYP",
        "colab_type": "code",
        "colab": {}
      },
      "source": [
        "//Globals\n",
        "int nextConnectionNo = 1000;\n",
        "Population pop;\n",
        "int frameSpeed = 60;\n",
        "\n",
        "\n",
        "boolean showBestEachGen = false;\n",
        "int upToGen = 0;\n",
        "Player genPlayerTemp;\n",
        "\n",
        "boolean showNothing = false;\n",
        "\n",
        "\n",
        "//images\n",
        "PImage dinoRun1;\n",
        "PImage dinoRun2;\n",
        "PImage dinoJump;\n",
        "PImage dinoDuck;\n",
        "PImage dinoDuck1;\n",
        "PImage smallCactus;\n",
        "PImage manySmallCactus;\n",
        "PImage bigCactus;\n",
        "PImage bird;\n",
        "PImage bird1;\n",
        "\n",
        "\n",
        "ArrayList<Obstacle> obstacles = new ArrayList<Obstacle>();\n",
        "ArrayList<Bird> birds = new ArrayList<Bird>();\n",
        "ArrayList<Ground> grounds = new ArrayList<Ground>();\n",
        "\n",
        "\n",
        "int obstacleTimer = 0;\n",
        "int minimumTimeBetweenObstacles = 60;\n",
        "int randomAddition = 0;\n",
        "int groundCounter = 0;\n",
        "float speed = 10;\n",
        "\n",
        "int groundHeight = 250;\n",
        "int playerXpos = 150;\n",
        "\n",
        "ArrayList<Integer> obstacleHistory = new ArrayList<Integer>();\n",
        "ArrayList<Integer> randomAdditionHistory = new ArrayList<Integer>();\n",
        "\n",
        "\n",
        "\n",
        "//--------------------------------------------------------------------------------------------------------------------------------------------------\n",
        "\n",
        "void setup() {\n",
        "\n",
        "  frameRate(60);\n",
        "  fullScreen();\n",
        "  dinoRun1 = loadImage(\"dinorun0000.png\");\n",
        "  dinoRun2 = loadImage(\"dinorun0001.png\");\n",
        "  dinoJump = loadImage(\"dinoJump0000.png\");\n",
        "  dinoDuck = loadImage(\"dinoduck0000.png\");\n",
        "  dinoDuck1 = loadImage(\"dinoduck0001.png\");\n",
        "\n",
        "  smallCactus = loadImage(\"cactusSmall0000.png\");\n",
        "  bigCactus = loadImage(\"cactusBig0000.png\");\n",
        "  manySmallCactus = loadImage(\"cactusSmallMany0000.png\");\n",
        "  bird = loadImage(\"berd.png\");\n",
        "  bird1 = loadImage(\"berd2.png\");\n",
        "\n",
        "  pop = new Population(500); //<<number of dinosaurs in each generation\n",
        "}\n",
        "//--------------------------------------------------------------------------------------------------------------------------------------------------------\n",
        "void draw() {\n",
        "  drawToScreen();\n",
        "  if (showBestEachGen) {//show the best of each gen\n",
        "    if (!genPlayerTemp.dead) {//if current gen player is not dead then update it\n",
        "      genPlayerTemp.updateLocalObstacles();\n",
        "      genPlayerTemp.look();\n",
        "      genPlayerTemp.think();\n",
        "      genPlayerTemp.update();\n",
        "      genPlayerTemp.show();\n",
        "    } else {//if dead move on to the next generation\n",
        "      upToGen ++;\n",
        "      if (upToGen >= pop.genPlayers.size()) {//if at the end then return to the start and stop doing it\n",
        "        upToGen= 0;\n",
        "        showBestEachGen = false;\n",
        "      } else {//if not at the end then get the next generation\n",
        "        genPlayerTemp = pop.genPlayers.get(upToGen).cloneForReplay();\n",
        "      }\n",
        "    }\n",
        "  } else {//if just evolving normally\n",
        "    if (!pop.done()) {//if any players are alive then update them\n",
        "      updateObstacles();\n",
        "      pop.updateAlive();\n",
        "    } else {//all dead\n",
        "      //genetic algorithm \n",
        "      pop.naturalSelection();\n",
        "      resetObstacles();\n",
        "    }\n",
        "  }\n",
        "}\n",
        "\n",
        "\n",
        "\n",
        "//---------------------------------------------------------------------------------------------------------------------------------------------------------\n",
        "//draws the display screen\n",
        "void drawToScreen() {\n",
        "  if (!showNothing) {\n",
        "    background(250); \n",
        "    stroke(0);\n",
        "    strokeWeight(2);\n",
        "    line(0, height - groundHeight - 30, width, height - groundHeight - 30);\n",
        "    drawBrain();\n",
        "    writeInfo();\n",
        "  }\n",
        "}\n",
        "//-------------------------------------------------------------------------------------------------------------------------------------------------------------------------------\n",
        "void drawBrain() {  //show the brain of whatever genome is currently showing\n",
        "  int startX = 600;\n",
        "  int startY = 10;\n",
        "  int w = 600;\n",
        "  int h = 400;\n",
        "  if (showBestEachGen) {\n",
        "    genPlayerTemp.brain.drawGenome(startX, startY, w, h);\n",
        "  } else {\n",
        "    for (int i = 0; i< pop.pop.size(); i++) {\n",
        "      if (!pop.pop.get(i).dead) {\n",
        "        pop.pop.get(i).brain.drawGenome(startX, startY, w, h);\n",
        "        break;\n",
        "      }\n",
        "    }\n",
        "  }\n",
        "}\n",
        "//-------------------------------------------------------------------------------------------------------------------------------------------------------------------------------\n",
        "//writes info about the current player\n",
        "void writeInfo() {\n",
        "  fill(200);\n",
        "  textAlign(LEFT);\n",
        "  textSize(40);\n",
        "  if (showBestEachGen) { //if showing the best for each gen then write the applicable info\n",
        "    text(\"Score: \" + genPlayerTemp.score, 30, height - 30);\n",
        "    //text(, width/2-180, height-30);\n",
        "    textAlign(RIGHT);\n",
        "    text(\"Gen: \" + (genPlayerTemp.gen +1), width -40, height-30);\n",
        "    textSize(20);\n",
        "    int x = 580;\n",
        "    text(\"Distace to next obstacle\", x, 18+44.44444);\n",
        "    text(\"Height of obstacle\", x, 18+2*44.44444);\n",
        "    text(\"Width of obstacle\", x, 18+3*44.44444);\n",
        "    text(\"Bird height\", x, 18+4*44.44444);\n",
        "    text(\"Speed\", x, 18+5*44.44444);\n",
        "    text(\"Players Y position\", x, 18+6*44.44444);\n",
        "    text(\"Gap between obstacles\", x, 18+7*44.44444);\n",
        "    text(\"Bias\", x, 18+8*44.44444);\n",
        "\n",
        "    textAlign(LEFT);\n",
        "    text(\"Small Jump\", 1220, 118);\n",
        "    text(\"Big Jump\", 1220, 218);\n",
        "    text(\"Duck\", 1220, 318);\n",
        "  } else { //evolving normally \n",
        "    text(\"Score: \" + floor(pop.populationLife/3.0), 30, height - 30);\n",
        "    //text(, width/2-180, height-30);\n",
        "    textAlign(RIGHT);\n",
        "\n",
        "    text(\"Gen: \" + (pop.gen +1), width -40, height-30);\n",
        "    textSize(20);\n",
        "    int x = 580;\n",
        "    text(\"Distace to next obstacle\", x, 18+44.44444);\n",
        "    text(\"Height of obstacle\", x, 18+2*44.44444);\n",
        "    text(\"Width of obstacle\", x, 18+3*44.44444);\n",
        "    text(\"Bird height\", x, 18+4*44.44444);\n",
        "    text(\"Speed\", x, 18+5*44.44444);\n",
        "    text(\"Players Y position\", x, 18+6*44.44444);\n",
        "    text(\"Gap between obstacles\", x, 18+7*44.44444);\n",
        "    text(\"Bias\", x, 18+8*44.44444);\n",
        "\n",
        "    textAlign(LEFT);\n",
        "    text(\"Small Jump\", 1220, 118);\n",
        "    text(\"Big Jump\", 1220, 218);\n",
        "    text(\"Duck\", 1220, 318);\n",
        "  }\n",
        "}\n",
        "\n",
        "\n",
        "//--------------------------------------------------------------------------------------------------------------------------------------------------\n",
        "\n",
        "void keyPressed() {\n",
        "  switch(key) {\n",
        "  case '+'://speed up frame rate\n",
        "    frameSpeed += 10;\n",
        "    frameRate(frameSpeed);\n",
        "    println(frameSpeed);\n",
        "    break;\n",
        "  case '-'://slow down frame rate\n",
        "    if (frameSpeed > 10) {\n",
        "      frameSpeed -= 10;\n",
        "      frameRate(frameSpeed);\n",
        "      println(frameSpeed);\n",
        "    }\n",
        "    break;\n",
        "  case 'g'://show generations\n",
        "    showBestEachGen = !showBestEachGen;\n",
        "    upToGen = 0;\n",
        "    genPlayerTemp = pop.genPlayers.get(upToGen).cloneForReplay();\n",
        "    break;\n",
        "  case 'n'://show absolutely nothing in order to speed up computation\n",
        "    showNothing = !showNothing;\n",
        "    break;\n",
        "  case CODED://any of the arrow keys\n",
        "    switch(keyCode) {\n",
        "    case RIGHT://right is used to move through the generations\n",
        "      if (showBestEachGen) {//if showing the best player each generation then move on to the next generation\n",
        "        upToGen++;\n",
        "        if (upToGen >= pop.genPlayers.size()) {//if reached the current generation then exit out of the showing generations mode\n",
        "          showBestEachGen = false;\n",
        "        } else {\n",
        "          genPlayerTemp = pop.genPlayers.get(upToGen).cloneForReplay();\n",
        "        }\n",
        "        break;\n",
        "      }\n",
        "      break;\n",
        "    }\n",
        "  }\n",
        "}\n",
        "//---------------------------------------------------------------------------------------------------------------------------------------------------------\n",
        "//called every frame\n",
        "void updateObstacles() {\n",
        "  obstacleTimer ++;\n",
        "  speed += 0.002;\n",
        "  if (obstacleTimer > minimumTimeBetweenObstacles + randomAddition) { //if the obstacle timer is high enough then add a new obstacle\n",
        "    addObstacle();\n",
        "  }\n",
        "  groundCounter ++;\n",
        "  if (groundCounter> 10) { //every 10 frames add a ground bit\n",
        "    groundCounter =0;\n",
        "    grounds.add(new Ground());\n",
        "  }\n",
        "\n",
        "  moveObstacles();//move everything\n",
        "  if (!showNothing) {//show everything\n",
        "    showObstacles();\n",
        "  }\n",
        "}\n",
        "\n",
        "//---------------------------------------------------------------------------------------------------------------------------------------------------------\n",
        "//moves obstacles to the left based on the speed of the game \n",
        "void moveObstacles() {\n",
        "  println(speed);\n",
        "  for (int i = 0; i< obstacles.size(); i++) {\n",
        "    obstacles.get(i).move(speed);\n",
        "    if (obstacles.get(i).posX < -playerXpos) { \n",
        "      obstacles.remove(i);\n",
        "      i--;\n",
        "    }\n",
        "  }\n",
        "\n",
        "  for (int i = 0; i< birds.size(); i++) {\n",
        "    birds.get(i).move(speed);\n",
        "    if (birds.get(i).posX < -playerXpos) {\n",
        "      birds.remove(i);\n",
        "      i--;\n",
        "    }\n",
        "  }\n",
        "  for (int i = 0; i < grounds.size(); i++) {\n",
        "    grounds.get(i).move(speed);\n",
        "    if (grounds.get(i).posX < -playerXpos) {\n",
        "      grounds.remove(i);\n",
        "      i--;\n",
        "    }\n",
        "  }\n",
        "}\n",
        "//------------------------------------------------------------------------------------------------------------------------------------------------------------\n",
        "//every so often add an obstacle \n",
        "void addObstacle() {\n",
        "  int lifespan = pop.populationLife;\n",
        "  int tempInt;\n",
        "  if (lifespan > 1000 && random(1) < 0.15) { // 15% of the time add a bird\n",
        "    tempInt = floor(random(3));\n",
        "    Bird temp = new Bird(tempInt);//floor(random(3)));\n",
        "    birds.add(temp);\n",
        "  } else {//otherwise add a cactus\n",
        "    tempInt = floor(random(3));\n",
        "    Obstacle temp = new Obstacle(tempInt);//floor(random(3)));\n",
        "    obstacles.add(temp);\n",
        "    tempInt+=3;\n",
        "  }\n",
        "  obstacleHistory.add(tempInt);\n",
        "\n",
        "  randomAddition = floor(random(50));\n",
        "  randomAdditionHistory.add(randomAddition);\n",
        "  obstacleTimer = 0;\n",
        "}\n",
        "//---------------------------------------------------------------------------------------------------------------------------------------------------------\n",
        "//what do you think this does?\n",
        "void showObstacles() {\n",
        "  for (int i = 0; i< grounds.size(); i++) {\n",
        "    grounds.get(i).show();\n",
        "  }\n",
        "  for (int i = 0; i< obstacles.size(); i++) {\n",
        "    obstacles.get(i).show();\n",
        "  }\n",
        "\n",
        "  for (int i = 0; i< birds.size(); i++) {\n",
        "    birds.get(i).show();\n",
        "  }\n",
        "}\n",
        "\n",
        "//-------------------------------------------------------------------------------------------------------------------------------------------\n",
        "//resets all the obstacles after every dino has died\n",
        "void resetObstacles() {\n",
        "  randomAdditionHistory = new ArrayList<Integer>();\n",
        "  obstacleHistory = new ArrayList<Integer>();\n",
        "\n",
        "  obstacles = new ArrayList<Obstacle>();\n",
        "  birds = new ArrayList<Bird>();\n",
        "  obstacleTimer = 0;\n",
        "  randomAddition = 0;\n",
        "  groundCounter = 0;\n",
        "  speed = 10;\n",
        "}"
      ],
      "execution_count": 0,
      "outputs": []
    },
    {
      "cell_type": "markdown",
      "metadata": {
        "id": "MEUG7J29Ihsf",
        "colab_type": "text"
      },
      "source": [
        "#game"
      ]
    },
    {
      "cell_type": "code",
      "metadata": {
        "id": "ZKyXu3TpQqfu",
        "colab_type": "code",
        "outputId": "5e53a9ac-d369-4f59-c6d5-a2e0053531a6",
        "colab": {
          "base_uri": "https://localhost:8080/",
          "height": 190
        }
      },
      "source": [
        "\n",
        "from keras.models import Sequential      # One layer after the other\n",
        "from keras.layers import Dense, Flatten  # Dense layers are fully connected layers, Flatten layers flatten out multidimensional inputs\n",
        "from collections import deque            # For storing moves \n",
        "\n",
        "import numpy as np\n",
        "import gym                                # To train our network\n",
        "env = gym.make('MountainCar-v0')          # Choose game (any in the gym should work)\n",
        "\n",
        "import random     # For sampling batches from the observations\n",
        "\n",
        "\n",
        "# Create network. Input is two consecutive game states, output is Q-values of the possible moves.\n",
        "model = Sequential()\n",
        "model.add(Dense(20, input_shape=(2,) + env.observation_space.shape, init='uniform', activation='relu'))\n",
        "model.add(Flatten())       # Flatten input so as to have no problems with processing\n",
        "model.add(Dense(18, init='uniform', activation='relu'))\n",
        "model.add(Dense(10, init='uniform', activation='relu'))\n",
        "model.add(Dense(env.action_space.n, init='uniform', activation='linear'))    # Same number of outputs as possible actions\n",
        "\n",
        "model.compile(loss='mse', optimizer='adam', metrics=['accuracy'])\n",
        "\n",
        "# Parameters\n",
        "D = deque()                                # Register where the actions will be stored\n",
        "\n",
        "observetime = 500                          # Number of timesteps we will be acting on the game and observing results\n",
        "epsilon = 0.7                              # Probability of doing a random move\n",
        "gamma = 0.9                                # Discounted future reward. How much we care about steps further in time\n",
        "mb_size = 50                               # Learning minibatch size"
      ],
      "execution_count": 0,
      "outputs": [
        {
          "output_type": "stream",
          "text": [
            "Using TensorFlow backend.\n"
          ],
          "name": "stderr"
        },
        {
          "output_type": "stream",
          "text": [
            "WARNING:tensorflow:From /usr/local/lib/python3.6/dist-packages/tensorflow/python/framework/op_def_library.py:263: colocate_with (from tensorflow.python.framework.ops) is deprecated and will be removed in a future version.\n",
            "Instructions for updating:\n",
            "Colocations handled automatically by placer.\n"
          ],
          "name": "stdout"
        },
        {
          "output_type": "stream",
          "text": [
            "/usr/local/lib/python3.6/dist-packages/ipykernel_launcher.py:15: UserWarning: Update your `Dense` call to the Keras 2 API: `Dense(20, input_shape=(2, 2), activation=\"relu\", kernel_initializer=\"uniform\")`\n",
            "  from ipykernel import kernelapp as app\n",
            "/usr/local/lib/python3.6/dist-packages/ipykernel_launcher.py:17: UserWarning: Update your `Dense` call to the Keras 2 API: `Dense(18, activation=\"relu\", kernel_initializer=\"uniform\")`\n",
            "/usr/local/lib/python3.6/dist-packages/ipykernel_launcher.py:18: UserWarning: Update your `Dense` call to the Keras 2 API: `Dense(10, activation=\"relu\", kernel_initializer=\"uniform\")`\n",
            "/usr/local/lib/python3.6/dist-packages/ipykernel_launcher.py:19: UserWarning: Update your `Dense` call to the Keras 2 API: `Dense(3, activation=\"linear\", kernel_initializer=\"uniform\")`\n"
          ],
          "name": "stderr"
        }
      ]
    },
    {
      "cell_type": "code",
      "metadata": {
        "id": "qfRRc6r6InR-",
        "colab_type": "code",
        "outputId": "415f091f-8848-4b2f-ae3a-2f6ebd11860f",
        "colab": {
          "base_uri": "https://localhost:8080/",
          "height": 34
        }
      },
      "source": [
        "# FIRST STEP: Knowing what each action does (Observing)\n",
        "\n",
        "observation = env.reset()                     # Game begins\n",
        "obs = np.expand_dims(observation, axis=0)     # (Formatting issues) Making the observation the first element of a batch of inputs \n",
        "state = np.stack((obs, obs), axis=1)\n",
        "done = False\n",
        "for t in range(observetime):\n",
        "    if np.random.rand() <= epsilon:\n",
        "        action = np.random.randint(0, env.action_space.n, size=1)[0]\n",
        "    else:\n",
        "        Q = model.predict(state)          # Q-values predictions\n",
        "        action = np.argmax(Q)             # Move with highest Q-value is the chosen one\n",
        "    observation_new, reward, done, info = env.step(action)     # See state of the game, reward... after performing the action\n",
        "    obs_new = np.expand_dims(observation_new, axis=0)          # (Formatting issues)\n",
        "    state_new = np.append(np.expand_dims(obs_new, axis=0), state[:, :1, :], axis=1)     # Update the input with the new state of the game\n",
        "    D.append((state, action, reward, state_new, done))         # 'Remember' action and consequence\n",
        "    state = state_new         # Update state\n",
        "    if done:\n",
        "        env.reset()           # Restart game if it's finished\n",
        "        obs = np.expand_dims(observation, axis=0)     # (Formatting issues) Making the observation the first element of a batch of inputs \n",
        "        state = np.stack((obs, obs), axis=1)\n",
        "print('Observing Finished')"
      ],
      "execution_count": 0,
      "outputs": [
        {
          "output_type": "stream",
          "text": [
            "Observing Finished\n"
          ],
          "name": "stdout"
        }
      ]
    },
    {
      "cell_type": "code",
      "metadata": {
        "id": "MCi5wdinIxLl",
        "colab_type": "code",
        "colab": {}
      },
      "source": [
        "# SECOND STEP: Learning from the observations (Experience replay)\n",
        "\n",
        "minibatch = random.sample(D, mb_size)                              # Sample some moves\n",
        "\n",
        "inputs_shape = (mb_size,) + state.shape[1:]\n",
        "inputs = np.zeros(inputs_shape)\n",
        "targets = np.zeros((mb_size, env.action_space.n))\n",
        "\n",
        "for i in range(0, mb_size):\n",
        "    state = minibatch[i][0]\n",
        "    action = minibatch[i][1]\n",
        "    reward = minibatch[i][2]\n",
        "    state_new = minibatch[i][3]\n",
        "    done = minibatch[i][4]\n",
        "    \n",
        "# Build Bellman equation for the Q function\n",
        "    inputs[i:i+1] = np.expand_dims(state, axis=0)\n",
        "    targets[i] = model.predict(state)\n",
        "    Q_sa = model.predict(state_new)\n",
        "    \n",
        "    if done:\n",
        "        targets[i, action] = reward\n",
        "    else:\n",
        "        targets[i, action] = reward + gamma * np.max(Q_sa)\n",
        "\n",
        "# Train network to output the Q function\n",
        "    model.train_on_batch(inputs, targets)\n",
        "print('Learning Finished')"
      ],
      "execution_count": 0,
      "outputs": []
    },
    {
      "cell_type": "code",
      "metadata": {
        "id": "JkIYCcPeI6Qr",
        "colab_type": "code",
        "colab": {}
      },
      "source": [
        "#!/usr/bin/env python\n",
        "from __future__ import print_function\n",
        "\n",
        "import sys, gym, time\n",
        "\n",
        "#\n",
        "# Test yourself as a learning agent! Pass environment name as a command-line argument, for example:\n",
        "#\n",
        "# python keyboard_agent.py SpaceInvadersNoFrameskip-v4\n",
        "#\n",
        "\n",
        "env = gym.make('LunarLander-v2' if len(sys.argv)<2 else sys.argv[1])\n",
        "\n",
        "if not hasattr(env.action_space, 'n'):\n",
        "    raise Exception('Keyboard agent only supports discrete action spaces')\n",
        "ACTIONS = env.action_space.n\n",
        "SKIP_CONTROL = 0    # Use previous control decision SKIP_CONTROL times, that's how you\n",
        "                    # can test what skip is still usable.\n",
        "\n",
        "human_agent_action = 0\n",
        "human_wants_restart = False\n",
        "human_sets_pause = False\n",
        "\n",
        "def key_press(key, mod):\n",
        "    global human_agent_action, human_wants_restart, human_sets_pause\n",
        "    if key==0xff0d: human_wants_restart = True\n",
        "    if key==32: human_sets_pause = not human_sets_pause\n",
        "    a = int( key - ord('0') )\n",
        "    if a <= 0 or a >= ACTIONS: return\n",
        "    human_agent_action = a\n",
        "\n",
        "def key_release(key, mod):\n",
        "    global human_agent_action\n",
        "    a = int( key - ord('0') )\n",
        "    if a <= 0 or a >= ACTIONS: return\n",
        "    if human_agent_action == a:\n",
        "        human_agent_action = 0\n",
        "\n",
        "env.render()\n",
        "env.unwrapped.viewer.window.on_key_press = key_press\n",
        "env.unwrapped.viewer.window.on_key_release = key_release\n",
        "\n",
        "def rollout(env):\n",
        "    global human_agent_action, human_wants_restart, human_sets_pause\n",
        "    human_wants_restart = False\n",
        "    obser = env.reset()\n",
        "    skip = 0\n",
        "    total_reward = 0\n",
        "    total_timesteps = 0\n",
        "    while 1:\n",
        "        if not skip:\n",
        "            #print(\"taking action {}\".format(human_agent_action))\n",
        "            a = human_agent_action\n",
        "            total_timesteps += 1\n",
        "            skip = SKIP_CONTROL\n",
        "        else:\n",
        "            skip -= 1\n",
        "\n",
        "        obser, r, done, info = env.step(a)\n",
        "        if r != 0:\n",
        "            print(\"reward %0.3f\" % r)\n",
        "        total_reward += r\n",
        "        window_still_open = env.render()\n",
        "        if window_still_open==False: return False\n",
        "        if done: break\n",
        "        if human_wants_restart: break\n",
        "        while human_sets_pause:\n",
        "            env.render()\n",
        "            time.sleep(0.1)\n",
        "        time.sleep(0.1)\n",
        "    print(\"timesteps %i reward %0.2f\" % (total_timesteps, total_reward))\n",
        "\n",
        "print(\"ACTIONS={}\".format(ACTIONS))\n",
        "print(\"Press keys 1 2 3 ... to take actions 1 2 3 ...\")\n",
        "print(\"No keys pressed is taking action 0\")\n",
        "\n",
        "while 1:\n",
        "    window_still_open = rollout(env)\n",
        "    if window_still_open==False: break\n"
      ],
      "execution_count": 0,
      "outputs": []
    },
    {
      "cell_type": "code",
      "metadata": {
        "id": "GQypc7zIJQ0b",
        "colab_type": "code",
        "colab": {}
      },
      "source": [
        ""
      ],
      "execution_count": 0,
      "outputs": []
    }
  ]
}